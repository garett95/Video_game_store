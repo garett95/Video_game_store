{
 "cells": [
  {
   "cell_type": "markdown",
   "metadata": {},
   "source": [
    "# Исследование данных о продажах игр для интернет-магазина «Стримчик»\n",
    "\n",
    "Перед вами данные до 2016 года. Представим, что сейчас декабрь 2016 г., и вы планируете кампанию на 2017-й. Нужно отработать принцип работы с данными. Неважно, прогнозируете ли вы продажи на 2017 год по данным 2016-го или же 2027-й — по данным 2026 года.\n",
    "\n",
    "# Целью исследования являются ответы на вопросы:\n",
    "\n",
    "1. Составление портрета пользователя по регионам (NA, EU, JP), подготовить топ-5 самых популярных платформ, самых популярных жанров. Определение влияния рейтинга ESRB на продажи в отдельном регионе?\n",
    "2. Проверка гипотез: Средние пользовательские рейтинги платформ Xbox One и PC одинаковые? Средние пользовательские рейтинги жанров Action и Sports разные.\n",
    "\n",
    "# Ход исследования\n",
    "Данные получены из файла csv games.csv\n",
    "Исследование произойдет в 6 этапов:\n",
    "\n",
    "Шаг 1. Откройте файл с данными и изучите общую информацию\n",
    "\n",
    "Шаг 2. Подготовьте данные\n",
    "\n",
    "Шаг 3. Проведите исследовательский анализ данных\n",
    "\n",
    "Шаг 4. Составьте портрет пользователя каждого региона\n",
    "\n",
    "Шаг 5. Проверьте гипотезы\n",
    "\n",
    "Шаг 6. Напишите общий вывод"
   ]
  },
  {
   "cell_type": "code",
   "execution_count": 1,
   "metadata": {},
   "outputs": [],
   "source": [
    "import pandas as pd\n",
    "import numpy as np\n",
    "import matplotlib.pyplot as plt\n",
    "from scipy.stats import binom, norm\n",
    "from scipy import stats as st\n",
    "import scipy.stats as stats"
   ]
  },
  {
   "cell_type": "markdown",
   "metadata": {},
   "source": [
    "#### Шаг 1. Загрузка данных"
   ]
  },
  {
   "cell_type": "markdown",
   "metadata": {},
   "source": [
    "##### Загрузка файла games.csv"
   ]
  },
  {
   "cell_type": "code",
   "execution_count": 2,
   "metadata": {
    "scrolled": false
   },
   "outputs": [
    {
     "name": "stdout",
     "output_type": "stream",
     "text": [
      "<class 'pandas.core.frame.DataFrame'>\n",
      "RangeIndex: 16715 entries, 0 to 16714\n",
      "Data columns (total 11 columns):\n",
      " #   Column           Non-Null Count  Dtype  \n",
      "---  ------           --------------  -----  \n",
      " 0   Name             16713 non-null  object \n",
      " 1   Platform         16715 non-null  object \n",
      " 2   Year_of_Release  16446 non-null  float64\n",
      " 3   Genre            16713 non-null  object \n",
      " 4   NA_sales         16715 non-null  float64\n",
      " 5   EU_sales         16715 non-null  float64\n",
      " 6   JP_sales         16715 non-null  float64\n",
      " 7   Other_sales      16715 non-null  float64\n",
      " 8   Critic_Score     8137 non-null   float64\n",
      " 9   User_Score       10014 non-null  object \n",
      " 10  Rating           9949 non-null   object \n",
      "dtypes: float64(6), object(5)\n",
      "memory usage: 1.4+ MB\n"
     ]
    },
    {
     "data": {
      "text/html": [
       "<div>\n",
       "<style scoped>\n",
       "    .dataframe tbody tr th:only-of-type {\n",
       "        vertical-align: middle;\n",
       "    }\n",
       "\n",
       "    .dataframe tbody tr th {\n",
       "        vertical-align: top;\n",
       "    }\n",
       "\n",
       "    .dataframe thead th {\n",
       "        text-align: right;\n",
       "    }\n",
       "</style>\n",
       "<table border=\"1\" class=\"dataframe\">\n",
       "  <thead>\n",
       "    <tr style=\"text-align: right;\">\n",
       "      <th></th>\n",
       "      <th>Name</th>\n",
       "      <th>Platform</th>\n",
       "      <th>Year_of_Release</th>\n",
       "      <th>Genre</th>\n",
       "      <th>NA_sales</th>\n",
       "      <th>EU_sales</th>\n",
       "      <th>JP_sales</th>\n",
       "      <th>Other_sales</th>\n",
       "      <th>Critic_Score</th>\n",
       "      <th>User_Score</th>\n",
       "      <th>Rating</th>\n",
       "    </tr>\n",
       "  </thead>\n",
       "  <tbody>\n",
       "    <tr>\n",
       "      <th>0</th>\n",
       "      <td>Wii Sports</td>\n",
       "      <td>Wii</td>\n",
       "      <td>2006.0</td>\n",
       "      <td>Sports</td>\n",
       "      <td>41.36</td>\n",
       "      <td>28.96</td>\n",
       "      <td>3.77</td>\n",
       "      <td>8.45</td>\n",
       "      <td>76.0</td>\n",
       "      <td>8</td>\n",
       "      <td>E</td>\n",
       "    </tr>\n",
       "    <tr>\n",
       "      <th>1</th>\n",
       "      <td>Super Mario Bros.</td>\n",
       "      <td>NES</td>\n",
       "      <td>1985.0</td>\n",
       "      <td>Platform</td>\n",
       "      <td>29.08</td>\n",
       "      <td>3.58</td>\n",
       "      <td>6.81</td>\n",
       "      <td>0.77</td>\n",
       "      <td>NaN</td>\n",
       "      <td>NaN</td>\n",
       "      <td>NaN</td>\n",
       "    </tr>\n",
       "    <tr>\n",
       "      <th>2</th>\n",
       "      <td>Mario Kart Wii</td>\n",
       "      <td>Wii</td>\n",
       "      <td>2008.0</td>\n",
       "      <td>Racing</td>\n",
       "      <td>15.68</td>\n",
       "      <td>12.76</td>\n",
       "      <td>3.79</td>\n",
       "      <td>3.29</td>\n",
       "      <td>82.0</td>\n",
       "      <td>8.3</td>\n",
       "      <td>E</td>\n",
       "    </tr>\n",
       "    <tr>\n",
       "      <th>3</th>\n",
       "      <td>Wii Sports Resort</td>\n",
       "      <td>Wii</td>\n",
       "      <td>2009.0</td>\n",
       "      <td>Sports</td>\n",
       "      <td>15.61</td>\n",
       "      <td>10.93</td>\n",
       "      <td>3.28</td>\n",
       "      <td>2.95</td>\n",
       "      <td>80.0</td>\n",
       "      <td>8</td>\n",
       "      <td>E</td>\n",
       "    </tr>\n",
       "    <tr>\n",
       "      <th>4</th>\n",
       "      <td>Pokemon Red/Pokemon Blue</td>\n",
       "      <td>GB</td>\n",
       "      <td>1996.0</td>\n",
       "      <td>Role-Playing</td>\n",
       "      <td>11.27</td>\n",
       "      <td>8.89</td>\n",
       "      <td>10.22</td>\n",
       "      <td>1.00</td>\n",
       "      <td>NaN</td>\n",
       "      <td>NaN</td>\n",
       "      <td>NaN</td>\n",
       "    </tr>\n",
       "  </tbody>\n",
       "</table>\n",
       "</div>"
      ],
      "text/plain": [
       "                       Name Platform  Year_of_Release         Genre  NA_sales  \\\n",
       "0                Wii Sports      Wii           2006.0        Sports     41.36   \n",
       "1         Super Mario Bros.      NES           1985.0      Platform     29.08   \n",
       "2            Mario Kart Wii      Wii           2008.0        Racing     15.68   \n",
       "3         Wii Sports Resort      Wii           2009.0        Sports     15.61   \n",
       "4  Pokemon Red/Pokemon Blue       GB           1996.0  Role-Playing     11.27   \n",
       "\n",
       "   EU_sales  JP_sales  Other_sales  Critic_Score User_Score Rating  \n",
       "0     28.96      3.77         8.45          76.0          8      E  \n",
       "1      3.58      6.81         0.77           NaN        NaN    NaN  \n",
       "2     12.76      3.79         3.29          82.0        8.3      E  \n",
       "3     10.93      3.28         2.95          80.0          8      E  \n",
       "4      8.89     10.22         1.00           NaN        NaN    NaN  "
      ]
     },
     "execution_count": 2,
     "metadata": {},
     "output_type": "execute_result"
    }
   ],
   "source": [
    "games = pd.read_csv('/datasets/games.csv',sep=',')\n",
    "games.info()\n",
    "games.head()"
   ]
  },
  {
   "cell_type": "markdown",
   "metadata": {},
   "source": [
    "#### Шаг 2. Подготовьте данные"
   ]
  },
  {
   "cell_type": "markdown",
   "metadata": {},
   "source": [
    "##### Замена названий столбцов"
   ]
  },
  {
   "cell_type": "code",
   "execution_count": 3,
   "metadata": {},
   "outputs": [
    {
     "data": {
      "text/html": [
       "<div>\n",
       "<style scoped>\n",
       "    .dataframe tbody tr th:only-of-type {\n",
       "        vertical-align: middle;\n",
       "    }\n",
       "\n",
       "    .dataframe tbody tr th {\n",
       "        vertical-align: top;\n",
       "    }\n",
       "\n",
       "    .dataframe thead th {\n",
       "        text-align: right;\n",
       "    }\n",
       "</style>\n",
       "<table border=\"1\" class=\"dataframe\">\n",
       "  <thead>\n",
       "    <tr style=\"text-align: right;\">\n",
       "      <th></th>\n",
       "      <th>name</th>\n",
       "      <th>platform</th>\n",
       "      <th>year_of_release</th>\n",
       "      <th>genre</th>\n",
       "      <th>na_sales</th>\n",
       "      <th>eu_sales</th>\n",
       "      <th>jp_sales</th>\n",
       "      <th>other_sales</th>\n",
       "      <th>critic_score</th>\n",
       "      <th>user_score</th>\n",
       "      <th>rating</th>\n",
       "    </tr>\n",
       "  </thead>\n",
       "  <tbody>\n",
       "    <tr>\n",
       "      <th>0</th>\n",
       "      <td>Wii Sports</td>\n",
       "      <td>Wii</td>\n",
       "      <td>2006.0</td>\n",
       "      <td>Sports</td>\n",
       "      <td>41.36</td>\n",
       "      <td>28.96</td>\n",
       "      <td>3.77</td>\n",
       "      <td>8.45</td>\n",
       "      <td>76.0</td>\n",
       "      <td>8</td>\n",
       "      <td>E</td>\n",
       "    </tr>\n",
       "  </tbody>\n",
       "</table>\n",
       "</div>"
      ],
      "text/plain": [
       "         name platform  year_of_release   genre  na_sales  eu_sales  jp_sales  \\\n",
       "0  Wii Sports      Wii           2006.0  Sports     41.36     28.96      3.77   \n",
       "\n",
       "   other_sales  critic_score user_score rating  \n",
       "0         8.45          76.0          8      E  "
      ]
     },
     "execution_count": 3,
     "metadata": {},
     "output_type": "execute_result"
    }
   ],
   "source": [
    "games.columns = games.columns.str.lower()\n",
    "games.head(1)"
   ]
  },
  {
   "cell_type": "markdown",
   "metadata": {},
   "source": [
    "##### Удаление дубликатов"
   ]
  },
  {
   "cell_type": "code",
   "execution_count": 4,
   "metadata": {
    "scrolled": false
   },
   "outputs": [
    {
     "name": "stdout",
     "output_type": "stream",
     "text": [
      "<class 'pandas.core.frame.DataFrame'>\n",
      "Int64Index: 16711 entries, 0 to 16714\n",
      "Data columns (total 11 columns):\n",
      " #   Column           Non-Null Count  Dtype  \n",
      "---  ------           --------------  -----  \n",
      " 0   name             16711 non-null  object \n",
      " 1   platform         16711 non-null  object \n",
      " 2   year_of_release  16442 non-null  float64\n",
      " 3   genre            16711 non-null  object \n",
      " 4   na_sales         16711 non-null  float64\n",
      " 5   eu_sales         16711 non-null  float64\n",
      " 6   jp_sales         16711 non-null  float64\n",
      " 7   other_sales      16711 non-null  float64\n",
      " 8   critic_score     8135 non-null   float64\n",
      " 9   user_score       10012 non-null  object \n",
      " 10  rating           9947 non-null   object \n",
      "dtypes: float64(6), object(5)\n",
      "memory usage: 1.5+ MB\n"
     ]
    },
    {
     "data": {
      "text/plain": [
       "name                  0\n",
       "platform              0\n",
       "year_of_release     269\n",
       "genre                 0\n",
       "na_sales              0\n",
       "eu_sales              0\n",
       "jp_sales              0\n",
       "other_sales           0\n",
       "critic_score       8576\n",
       "user_score         6699\n",
       "rating             6764\n",
       "dtype: int64"
      ]
     },
     "execution_count": 4,
     "metadata": {},
     "output_type": "execute_result"
    }
   ],
   "source": [
    "games = games.drop_duplicates()\n",
    "games['name'] = games['name'].str.lower()\n",
    "games['platform'] = games['platform'].str.lower()\n",
    "key_columns = ['name', 'platform', 'year_of_release']\n",
    "duplicates = games.duplicated(subset=key_columns, keep=False)\n",
    "games = games[~duplicates]\n",
    "games.info()\n",
    "games.isna().sum()"
   ]
  },
  {
   "cell_type": "markdown",
   "metadata": {},
   "source": [
    "Удалил дубликаты, посчитал пропущенные значения по  столбцам. "
   ]
  },
  {
   "cell_type": "markdown",
   "metadata": {},
   "source": [
    "##### Столбец year_of_release"
   ]
  },
  {
   "cell_type": "code",
   "execution_count": 7,
   "metadata": {
    "scrolled": true
   },
   "outputs": [
    {
     "name": "stdout",
     "output_type": "stream",
     "text": [
      "0\n",
      "[2006 1985 2008 2009 1996 1989 1984 2005 1999 2007 2010 2013 2004 1990\n",
      " 1988 2002 2001 2011 1998 2015 2012 2014 1992 1997 1993 1994 1982 2016\n",
      " 2003 1986 2000 1995 1991 1981 1987 1980 1983]\n"
     ]
    }
   ],
   "source": [
    "games = games.dropna(subset=['year_of_release']) # Удаление строк с пропусками по году релиза\n",
    "print(games['year_of_release'].isna().sum())\n",
    "games['year_of_release'] = pd.to_datetime(games['year_of_release'], format='%Y').dt.year #преобразование в год\n",
    "print(games['year_of_release'].unique())"
   ]
  },
  {
   "cell_type": "markdown",
   "metadata": {},
   "source": [
    "Удалил строки с пропусками по году релиза, преобразовал столбец в формат даты и оставил год. Вероятной причиной образования пропусков можно считать ошибки заполнения."
   ]
  },
  {
   "cell_type": "markdown",
   "metadata": {},
   "source": [
    "##### Столбец critic_score"
   ]
  },
  {
   "cell_type": "code",
   "execution_count": 8,
   "metadata": {},
   "outputs": [
    {
     "name": "stdout",
     "output_type": "stream",
     "text": [
      "[76. nan 82. 80. 89. 58. 87. 91. 61. 97. 95. 77. 88. 83. 94. 93. 85. 86.\n",
      " 98. 96. 90. 84. 73. 74. 78. 92. 71. 72. 68. 62. 49. 67. 81. 66. 56. 79.\n",
      " 70. 59. 64. 75. 60. 63. 69. 50. 25. 42. 44. 55. 48. 57. 29. 47. 65. 54.\n",
      " 20. 53. 37. 38. 33. 52. 30. 32. 43. 45. 51. 40. 46. 39. 34. 41. 36. 31.\n",
      " 27. 35. 26. 19. 28. 23. 24. 21. 17. 13.]\n",
      "count    16442.000000\n",
      "mean        33.488383\n",
      "std         35.819575\n",
      "min          0.000000\n",
      "25%          0.000000\n",
      "50%          0.000000\n",
      "75%         70.000000\n",
      "max         98.000000\n",
      "Name: critic_score, dtype: float64\n"
     ]
    }
   ],
   "source": [
    "print(games['critic_score'].unique())\n",
    "games['critic_score'] = games['critic_score'].fillna(0).astype(int)\n",
    "print(games['critic_score'].describe())"
   ]
  },
  {
   "cell_type": "markdown",
   "metadata": {},
   "source": [
    "Заполнил отсутсвующие значения нулем, привел к типу int, нет дробных значений оценки. Вероятной причиной пропусков можно считать программный сбой или отсутсвие оценки критиков. Значений выше 100 нет."
   ]
  },
  {
   "cell_type": "markdown",
   "metadata": {},
   "source": [
    "##### Столбец user_score"
   ]
  },
  {
   "cell_type": "code",
   "execution_count": 9,
   "metadata": {},
   "outputs": [
    {
     "name": "stdout",
     "output_type": "stream",
     "text": [
      "                                    name platform  year_of_release      genre  \\\n",
      "2835  my little pony: pinkie pie's party       ds             2008  Adventure   \n",
      "\n",
      "      na_sales  eu_sales  jp_sales  other_sales  critic_score user_score  \\\n",
      "2835      0.66       0.0       0.0         0.06             0          0   \n",
      "\n",
      "     rating  \n",
      "2835      E  \n",
      "['8' nan '8.3' '8.5' '6.6' '8.4' '8.6' '7.7' '6.3' '7.4' '8.2' '9' '7.9'\n",
      " '8.1' '8.7' '7.1' '3.4' '5.3' '4.8' '3.2' '8.9' '6.4' '7.8' '7.5' '2.6'\n",
      " '7.2' '9.2' '7' '7.3' '4.3' '7.6' '5.7' '5' '9.1' '6.5' 'tbd' '8.8' '6.9'\n",
      " '9.4' '6.8' '6.1' '6.7' '5.4' '4' '4.9' '4.5' '9.3' '6.2' '4.2' '6' '3.7'\n",
      " '4.1' '5.8' '5.6' '5.5' '4.4' '4.6' '5.9' '3.9' '3.1' '2.9' '5.2' '3.3'\n",
      " '4.7' '5.1' '3.5' '2.5' '1.9' '3' '2.7' '2.2' '2' '9.5' '2.1' '3.6' '2.8'\n",
      " '1.8' '3.8' '0' '1.6' '9.6' '2.4' '1.7' '1.1' '0.3' '1.5' '0.7' '1.2'\n",
      " '2.3' '0.5' '1.3' '0.2' '0.6' '1.4' '0.9' '1' '9.7']\n"
     ]
    },
    {
     "data": {
      "text/plain": [
       "count    16442.000000\n",
       "mean         3.233962\n",
       "std          3.689182\n",
       "min          0.000000\n",
       "25%          0.000000\n",
       "50%          0.000000\n",
       "75%          7.300000\n",
       "max          9.700000\n",
       "Name: user_score, dtype: float64"
      ]
     },
     "execution_count": 9,
     "metadata": {},
     "output_type": "execute_result"
    }
   ],
   "source": [
    "print(games[games['user_score']=='0'])\n",
    "print(games['user_score'].unique())\n",
    "games['user_score'] = games['user_score'].fillna(0)\n",
    "games['user_score'] = games['user_score'].replace('tbd', '0').astype(float)\n",
    "games['user_score'].describe()"
   ]
  },
  {
   "cell_type": "markdown",
   "metadata": {},
   "source": [
    "Заполнил отсутсвующие значения нулем, привел тип к float. Из открытых источников аббревиатура  tbd (to be discussed) означает, что данные не определны, в данном случае, что оценка еще не сформирована. Для дальнейшей работы целесообразно заменить tbd на отсутсвующую оценку 0. Вероятной причиной пропусков можно считать программный сбой или отсутсвие оценок пользователей. Значений выше 10 нет."
   ]
  },
  {
   "cell_type": "markdown",
   "metadata": {},
   "source": [
    "##### Столбец rating"
   ]
  },
  {
   "cell_type": "code",
   "execution_count": 10,
   "metadata": {},
   "outputs": [
    {
     "name": "stdout",
     "output_type": "stream",
     "text": [
      "['E' nan 'M' 'T' 'E10+' 'K-A' 'AO' 'EC' 'RP']\n"
     ]
    },
    {
     "data": {
      "text/html": [
       "<div>\n",
       "<style scoped>\n",
       "    .dataframe tbody tr th:only-of-type {\n",
       "        vertical-align: middle;\n",
       "    }\n",
       "\n",
       "    .dataframe tbody tr th {\n",
       "        vertical-align: top;\n",
       "    }\n",
       "\n",
       "    .dataframe thead th {\n",
       "        text-align: right;\n",
       "    }\n",
       "</style>\n",
       "<table border=\"1\" class=\"dataframe\">\n",
       "  <thead>\n",
       "    <tr style=\"text-align: right;\">\n",
       "      <th></th>\n",
       "      <th>name</th>\n",
       "      <th>platform</th>\n",
       "      <th>year_of_release</th>\n",
       "      <th>genre</th>\n",
       "      <th>na_sales</th>\n",
       "      <th>eu_sales</th>\n",
       "      <th>jp_sales</th>\n",
       "      <th>other_sales</th>\n",
       "      <th>critic_score</th>\n",
       "      <th>user_score</th>\n",
       "      <th>rating</th>\n",
       "    </tr>\n",
       "  </thead>\n",
       "  <tbody>\n",
       "  </tbody>\n",
       "</table>\n",
       "</div>"
      ],
      "text/plain": [
       "Empty DataFrame\n",
       "Columns: [name, platform, year_of_release, genre, na_sales, eu_sales, jp_sales, other_sales, critic_score, user_score, rating]\n",
       "Index: []"
      ]
     },
     "execution_count": 10,
     "metadata": {},
     "output_type": "execute_result"
    }
   ],
   "source": [
    "print(games['rating'].unique())\n",
    "games['rating'] = games['rating'].fillna('non_esrb')\n",
    "games[games['rating'].isna()]"
   ]
  },
  {
   "cell_type": "markdown",
   "metadata": {},
   "source": [
    "Пропуски не заполнял, вероятной присиной отсуствия оценки может быть отсутсвие проверки состороны организации ESRB, так же данная организацияоснована в 1994 году, а часть игр в данных произведены ранее."
   ]
  },
  {
   "cell_type": "markdown",
   "metadata": {},
   "source": [
    "##### Добавление столбца total_sales"
   ]
  },
  {
   "cell_type": "code",
   "execution_count": 11,
   "metadata": {},
   "outputs": [
    {
     "name": "stdout",
     "output_type": "stream",
     "text": [
      "<class 'pandas.core.frame.DataFrame'>\n",
      "Int64Index: 16442 entries, 0 to 16714\n",
      "Data columns (total 12 columns):\n",
      " #   Column           Non-Null Count  Dtype  \n",
      "---  ------           --------------  -----  \n",
      " 0   name             16442 non-null  object \n",
      " 1   platform         16442 non-null  object \n",
      " 2   year_of_release  16442 non-null  int64  \n",
      " 3   genre            16442 non-null  object \n",
      " 4   na_sales         16442 non-null  float64\n",
      " 5   eu_sales         16442 non-null  float64\n",
      " 6   jp_sales         16442 non-null  float64\n",
      " 7   other_sales      16442 non-null  float64\n",
      " 8   critic_score     16442 non-null  int64  \n",
      " 9   user_score       16442 non-null  float64\n",
      " 10  rating           16442 non-null  object \n",
      " 11  total_sales      16442 non-null  float64\n",
      "dtypes: float64(6), int64(2), object(4)\n",
      "memory usage: 1.6+ MB\n"
     ]
    },
    {
     "data": {
      "text/plain": [
       "name               0\n",
       "platform           0\n",
       "year_of_release    0\n",
       "genre              0\n",
       "na_sales           0\n",
       "eu_sales           0\n",
       "jp_sales           0\n",
       "other_sales        0\n",
       "critic_score       0\n",
       "user_score         0\n",
       "rating             0\n",
       "total_sales        0\n",
       "dtype: int64"
      ]
     },
     "execution_count": 11,
     "metadata": {},
     "output_type": "execute_result"
    }
   ],
   "source": [
    "games['total_sales'] = games[['na_sales', 'eu_sales', 'jp_sales', 'other_sales']].sum(axis=1)\n",
    "games.info()\n",
    "games.isna().sum()"
   ]
  },
  {
   "cell_type": "markdown",
   "metadata": {},
   "source": [
    "Добавление столбца total_sales с суммой продаж по регионам. Просмотр получившейся таблицы на пропуски."
   ]
  },
  {
   "cell_type": "markdown",
   "metadata": {},
   "source": [
    "##### Вывод по результатам выполнения предобработки данных\n",
    "\n",
    "Там, где могли, мы заменили пропущенные значения (столбец 'year of release'). Что касается остальных пропусков, для их заполнения у нас недостаточно данных."
   ]
  },
  {
   "cell_type": "markdown",
   "metadata": {},
   "source": [
    "#### Шаг 3. Проведите исследовательский анализ данных"
   ]
  },
  {
   "cell_type": "markdown",
   "metadata": {},
   "source": [
    "##### Сколько игр выпускалось в разные годы"
   ]
  },
  {
   "cell_type": "code",
   "execution_count": 12,
   "metadata": {},
   "outputs": [
    {
     "data": {
      "image/png": "[encoded data removed]",
      "text/plain": [
       "<Figure size 720x432 with 1 Axes>"
      ]
     },
     "metadata": {
      "needs_background": "light"
     },
     "output_type": "display_data"
    }
   ],
   "source": [
    "games_years = games['year_of_release'].value_counts().sort_index()\n",
    "\n",
    "plt.figure(figsize=(10, 6))\n",
    "plt.bar(games_years.index, games_years.values)\n",
    "plt.xlabel('Год релиза')\n",
    "plt.ylabel('Количество игр')\n",
    "plt.title('Количество игр по годам релиза')\n",
    "plt.xticks(rotation=45)\n",
    "plt.show()"
   ]
  },
  {
   "cell_type": "markdown",
   "metadata": {},
   "source": [
    "Данные до 1995 года можно считать незначительными по количеству релизов игр."
   ]
  },
  {
   "cell_type": "markdown",
   "metadata": {},
   "source": [
    "##### Выберите платформы с наибольшими суммарными продажами и постройте распределение по годам"
   ]
  },
  {
   "cell_type": "code",
   "execution_count": 13,
   "metadata": {
    "scrolled": true
   },
   "outputs": [
    {
     "data": {
      "image/png": "[encoded data removed]",
      "text/plain": [
       "<Figure size 720x432 with 1 Axes>"
      ]
     },
     "metadata": {
      "needs_background": "light"
     },
     "output_type": "display_data"
    },
    {
     "data": {
      "image/png": "[encoded data removed]",
      "text/plain": [
       "<Figure size 720x432 with 1 Axes>"
      ]
     },
     "metadata": {
      "needs_background": "light"
     },
     "output_type": "display_data"
    },
    {
     "data": {
      "image/png": "[encoded data removed]",
      "text/plain": [
       "<Figure size 720x432 with 1 Axes>"
      ]
     },
     "metadata": {
      "needs_background": "light"
     },
     "output_type": "display_data"
    }
   ],
   "source": [
    "platform_sales = games.groupby('platform')['total_sales'].sum().sort_values(ascending=False)\n",
    "top_platforms = platform_sales.head(3).index\n",
    "for platform in top_platforms:\n",
    "    plt.figure(figsize=(10, 6))\n",
    "    platform_data = games[games['platform'] == platform]\n",
    "    platform_data.groupby('year_of_release')['total_sales'].sum().plot(kind='bar', label=platform)\n",
    "    plt.xlabel('Год выпуска')\n",
    "    plt.ylabel('Суммарные продажи млн. шт.')\n",
    "    plt.title(f'Распределение суммарных продаж по годам для {platform}')\n",
    "    plt.legend()\n",
    "    plt.show()"
   ]
  },
  {
   "cell_type": "markdown",
   "metadata": {},
   "source": [
    "Характерный срок появления и исчезновения платформ 10 лет, пик продаж игр для платформы наступает около 5 лет существования на рынке. В связи с динамичными изменениями в отрасли для постоения дальнейшего прогноза необходимо использовать данные за период около 3 лет."
   ]
  },
  {
   "cell_type": "markdown",
   "metadata": {},
   "source": [
    "##### Возьмите данные за соответствующий актуальный период"
   ]
  },
  {
   "cell_type": "code",
   "execution_count": 14,
   "metadata": {},
   "outputs": [
    {
     "name": "stdout",
     "output_type": "stream",
     "text": [
      "<class 'pandas.core.frame.DataFrame'>\n",
      "Int64Index: 1689 entries, 31 to 16714\n",
      "Data columns (total 12 columns):\n",
      " #   Column           Non-Null Count  Dtype  \n",
      "---  ------           --------------  -----  \n",
      " 0   name             1689 non-null   object \n",
      " 1   platform         1689 non-null   object \n",
      " 2   year_of_release  1689 non-null   int64  \n",
      " 3   genre            1689 non-null   object \n",
      " 4   na_sales         1689 non-null   float64\n",
      " 5   eu_sales         1689 non-null   float64\n",
      " 6   jp_sales         1689 non-null   float64\n",
      " 7   other_sales      1689 non-null   float64\n",
      " 8   critic_score     1689 non-null   int64  \n",
      " 9   user_score       1689 non-null   float64\n",
      " 10  rating           1689 non-null   object \n",
      " 11  total_sales      1689 non-null   float64\n",
      "dtypes: float64(6), int64(2), object(4)\n",
      "memory usage: 171.5+ KB\n"
     ]
    }
   ],
   "source": [
    "actual_games = games[games['year_of_release'] > 2013]\n",
    "actual_games.info()"
   ]
  },
  {
   "cell_type": "markdown",
   "metadata": {},
   "source": [
    "##### Выберите несколько потенциально прибыльных платформ."
   ]
  },
  {
   "cell_type": "code",
   "execution_count": 15,
   "metadata": {
    "scrolled": true
   },
   "outputs": [
    {
     "data": {
      "image/png": "[encoded data removed]",
      "text/plain": [
       "<Figure size 720x432 with 1 Axes>"
      ]
     },
     "metadata": {
      "needs_background": "light"
     },
     "output_type": "display_data"
    },
    {
     "data": {
      "image/png": "[encoded data removed]",
      "text/plain": [
       "<Figure size 720x432 with 1 Axes>"
      ]
     },
     "metadata": {
      "needs_background": "light"
     },
     "output_type": "display_data"
    },
    {
     "data": {
      "image/png": "[encoded data removed]",
      "text/plain": [
       "<Figure size 720x432 with 1 Axes>"
      ]
     },
     "metadata": {
      "needs_background": "light"
     },
     "output_type": "display_data"
    },
    {
     "data": {
      "image/png": "[encoded data removed]",
      "text/plain": [
       "<Figure size 720x432 with 1 Axes>"
      ]
     },
     "metadata": {
      "needs_background": "light"
     },
     "output_type": "display_data"
    },
    {
     "data": {
      "image/png": "[encoded data removed]",
      "text/plain": [
       "<Figure size 720x432 with 1 Axes>"
      ]
     },
     "metadata": {
      "needs_background": "light"
     },
     "output_type": "display_data"
    }
   ],
   "source": [
    "actual_platform_sales = actual_games.groupby('platform')['total_sales'].sum().sort_values(ascending=False)\n",
    "actual_top_platforms = actual_platform_sales.head(5).index\n",
    "for platform in actual_top_platforms:\n",
    "    plt.figure(figsize=(10, 6))\n",
    "    platform_data = actual_games[actual_games['platform'] == platform]\n",
    "    platform_data.groupby('year_of_release')['total_sales'].sum().plot(kind='bar', label=platform)\n",
    "    plt.xlabel('Год выпуска')\n",
    "    plt.ylabel('Суммарные продажи млн. шт.')\n",
    "    plt.title(f'Распределение суммарных продаж по годам для {platform}')\n",
    "    plt.legend()\n",
    "    plt.show()"
   ]
  },
  {
   "cell_type": "markdown",
   "metadata": {},
   "source": [
    "По графикам видно, что набирают популярность такие платформы как: PS4, XOne, 3DS и PC."
   ]
  },
  {
   "cell_type": "markdown",
   "metadata": {},
   "source": [
    "##### Постройте график «ящик с усами» по глобальным продажам игр в разбивке по платформам."
   ]
  },
  {
   "cell_type": "code",
   "execution_count": 16,
   "metadata": {
    "scrolled": false
   },
   "outputs": [
    {
     "data": {
      "image/png": "[encoded data removed]",
      "text/plain": [
       "<Figure size 432x288 with 1 Axes>"
      ]
     },
     "metadata": {
      "needs_background": "light"
     },
     "output_type": "display_data"
    },
    {
     "data": {
      "image/png": "[encoded data removed]",
      "text/plain": [
       "<Figure size 432x288 with 1 Axes>"
      ]
     },
     "metadata": {
      "needs_background": "light"
     },
     "output_type": "display_data"
    }
   ],
   "source": [
    "actual_games.boxplot(column='total_sales', by='platform')\n",
    "plt.xlabel('Платформа')\n",
    "plt.ylabel('Глобальные продажи млн. шт.')\n",
    "plt.title('График вбросов по глобальным продажам в разбивке по платформам')\n",
    "plt.suptitle('') \n",
    "plt.show()\n",
    "actual_games.boxplot(column='total_sales', by='platform', showfliers=False)\n",
    "plt.xlabel('Платформа')\n",
    "plt.ylabel('Глобальные продажи млн. шт.')\n",
    "plt.title('График медиан по глобальным продажам в разбивке по платформам')\n",
    "plt.suptitle('') \n",
    "plt.show()"
   ]
  },
  {
   "cell_type": "markdown",
   "metadata": {},
   "source": [
    "По графику вбросов заметно, что среди платформ продажи различаются у PS3 был один год с максимальными продажами, а у 3DS 4 года получалось продать от 10 до 15 млн копий. \n",
    "\n",
    "По графику медиан заметно, что медианы у каждой платформы совои, что говорит о различном развитии платформ. Так же заметно, что РС заменяют приставками."
   ]
  },
  {
   "cell_type": "markdown",
   "metadata": {},
   "source": [
    "##### Посмотрите, как влияют на продажи внутри одной популярной платформы отзывы пользователей и критиков.  Постройте диаграмму рассеяния и посчитайте корреляцию между отзывами и продажами. "
   ]
  },
  {
   "cell_type": "code",
   "execution_count": 17,
   "metadata": {
    "scrolled": true
   },
   "outputs": [
    {
     "data": {
      "image/png": "[encoded data removed]",
      "text/plain": [
       "<Figure size 720x432 with 1 Axes>"
      ]
     },
     "metadata": {
      "needs_background": "light"
     },
     "output_type": "display_data"
    },
    {
     "name": "stdout",
     "output_type": "stream",
     "text": [
      "Корреляция отзвов пользователей к продажам PS4: -0.0846046568715454\n"
     ]
    },
    {
     "data": {
      "image/png": "[encoded data removed]",
      "text/plain": [
       "<Figure size 720x432 with 1 Axes>"
      ]
     },
     "metadata": {
      "needs_background": "light"
     },
     "output_type": "display_data"
    },
    {
     "name": "stdout",
     "output_type": "stream",
     "text": [
      "Корреляция отзвов критиков к продажам PS4: 0.39884285489685783\n"
     ]
    }
   ],
   "source": [
    "ps4_sales = actual_games[actual_games['platform'] == 'ps4']\n",
    "ps4_sales = ps4_sales[ps4_sales['user_score']>0]\n",
    "ps4_sales = ps4_sales[ps4_sales['critic_score']>0]\n",
    "ps4_sales = ps4_sales[ps4_sales['total_sales']>0.1]\n",
    "plt.figure(figsize=(10, 6))\n",
    "plt.scatter(ps4_sales['user_score'], ps4_sales['total_sales'])\n",
    "plt.xlabel('Отзывы пользователей')\n",
    "plt.ylabel('Глобальные продажи млн. шт.')\n",
    "plt.title('Диаграмма рассеяния отзывы пользователей и продажи платформа PS4')\n",
    "plt.suptitle('') \n",
    "plt.show()\n",
    "correlation_user = ps4_sales['user_score'].corr(ps4_sales['total_sales'])\n",
    "print(\"Корреляция отзвов пользователей к продажам PS4:\", correlation_user)\n",
    "plt.figure(figsize=(10, 6))\n",
    "plt.scatter(ps4_sales['critic_score'], ps4_sales['total_sales'])\n",
    "plt.xlabel('Отзывы критиков')\n",
    "plt.ylabel('Глобальные продажи млн. шт.')\n",
    "plt.title('Диаграмма рассеяния отзывы критиков и продажи платформа PS4')\n",
    "plt.suptitle('')\n",
    "plt.show()\n",
    "correlation_critic = ps4_sales['critic_score'].corr(ps4_sales['total_sales'])\n",
    "print(\"Корреляция отзвов критиков к продажам PS4:\", correlation_critic)"
   ]
  },
  {
   "cell_type": "markdown",
   "metadata": {},
   "source": [
    "Корреляция отзвов критиков к продажам умеренная, корреляции отзвов пользователей к продажам не выявлено."
   ]
  },
  {
   "cell_type": "markdown",
   "metadata": {},
   "source": [
    "##### Соотнесите выводы с продажами игр на других платформах"
   ]
  },
  {
   "cell_type": "code",
   "execution_count": 18,
   "metadata": {
    "scrolled": true
   },
   "outputs": [
    {
     "data": {
      "image/png": "[encoded data removed]",
      "text/plain": [
       "<Figure size 720x432 with 1 Axes>"
      ]
     },
     "metadata": {
      "needs_background": "light"
     },
     "output_type": "display_data"
    },
    {
     "name": "stdout",
     "output_type": "stream",
     "text": [
      "Корреляция отзвов пользователей к продажам XOne: -0.10312160651062723\n"
     ]
    },
    {
     "data": {
      "image/png": "[encoded data removed]",
      "text/plain": [
       "<Figure size 720x432 with 1 Axes>"
      ]
     },
     "metadata": {
      "needs_background": "light"
     },
     "output_type": "display_data"
    },
    {
     "name": "stdout",
     "output_type": "stream",
     "text": [
      "Корреляция отзвов критиков к продажам XOne: 0.40040174832660397\n"
     ]
    }
   ],
   "source": [
    "xone_sales = actual_games[actual_games['platform'] == 'xone']\n",
    "xone_sales = xone_sales[xone_sales['user_score']>0]\n",
    "xone_sales = xone_sales[xone_sales['critic_score']>0]\n",
    "xone_sales = xone_sales[xone_sales['total_sales']>0.1]\n",
    "plt.figure(figsize=(10, 6))\n",
    "plt.scatter(xone_sales['user_score'], xone_sales['total_sales'])\n",
    "plt.xlabel('Отзывы пользователей')\n",
    "plt.ylabel('Глобальные продажи млн. шт.')\n",
    "plt.title('Диаграмма рассеяния отзывы пользователей и продажи платформа XOne')\n",
    "plt.suptitle('') \n",
    "plt.show()\n",
    "correlation_user = xone_sales['user_score'].corr(xone_sales['total_sales'])\n",
    "print(\"Корреляция отзвов пользователей к продажам XOne:\", correlation_user)\n",
    "plt.figure(figsize=(10, 6))\n",
    "plt.scatter(xone_sales['critic_score'], xone_sales['total_sales'])\n",
    "plt.xlabel('Отзывы критиков')\n",
    "plt.ylabel('Глобальные продажи млн. шт.')\n",
    "plt.title('Диаграмма рассеяния отзывы критиков и продажи платформа XOne')\n",
    "plt.suptitle('')\n",
    "plt.show()\n",
    "correlation_critic = xone_sales['critic_score'].corr(xone_sales['total_sales'])\n",
    "print(\"Корреляция отзвов критиков к продажам XOne:\", correlation_critic)"
   ]
  },
  {
   "cell_type": "markdown",
   "metadata": {},
   "source": [
    "Для проверки выводов была вязта одна из платформ также набирающих популярность XOne, аналогичная тенденция прослеживается и для данной платформы. "
   ]
  },
  {
   "cell_type": "markdown",
   "metadata": {},
   "source": [
    "##### Посмотрите на общее распределение игр по жанрам"
   ]
  },
  {
   "cell_type": "code",
   "execution_count": 19,
   "metadata": {
    "scrolled": false
   },
   "outputs": [
    {
     "data": {
      "text/plain": [
       "<Figure size 720x432 with 0 Axes>"
      ]
     },
     "metadata": {},
     "output_type": "display_data"
    },
    {
     "data": {
      "image/png": "[encoded data removed]",
      "text/plain": [
       "<Figure size 432x288 with 1 Axes>"
      ]
     },
     "metadata": {
      "needs_background": "light"
     },
     "output_type": "display_data"
    },
    {
     "data": {
      "text/plain": [
       "<Figure size 720x432 with 0 Axes>"
      ]
     },
     "metadata": {},
     "output_type": "display_data"
    },
    {
     "data": {
      "image/png": "[encoded data removed]",
      "text/plain": [
       "<Figure size 432x288 with 1 Axes>"
      ]
     },
     "metadata": {
      "needs_background": "light"
     },
     "output_type": "display_data"
    },
    {
     "name": "stdout",
     "output_type": "stream",
     "text": [
      "Топ-3 прибыльных жанра: genre\n",
      "Action     199.36\n",
      "Shooter    170.94\n",
      "Sports     109.48\n",
      "Name: total_sales, dtype: float64\n",
      "Топ-3 провальных жанра: genre\n",
      "Simulation    13.13\n",
      "Strategy       3.96\n",
      "Puzzle         2.21\n",
      "Name: total_sales, dtype: float64\n"
     ]
    }
   ],
   "source": [
    "genre_sales = actual_games.groupby('genre')['total_sales'].sum().sort_values(ascending=False)\n",
    "plt.figure(figsize=(10, 6))\n",
    "actual_games.boxplot(column='total_sales', by='genre', vert=False)\n",
    "plt.xlabel('Жанр')\n",
    "plt.ylabel('Суммарные продажи млн. шт.')\n",
    "plt.title('Распределение суммарных продаж по жанрам (диаграмма размаха)')\n",
    "plt.suptitle('')\n",
    "plt.show()\n",
    "plt.figure(figsize=(10, 6))\n",
    "actual_games.boxplot(column='total_sales', by='genre',showfliers=False, vert=False)\n",
    "plt.xlabel('Жанр')\n",
    "plt.ylabel('Суммарные продажи млн. шт.')\n",
    "plt.title('Распределение суммарных продаж по жанрам (диаграмма размаха)')\n",
    "plt.suptitle('')\n",
    "plt.show()\n",
    "\n",
    "print(\"Топ-3 прибыльных жанра:\", genre_sales.head(3))\n",
    "print(\"Топ-3 провальных жанра:\", genre_sales.tail(3))\n",
    "\n"
   ]
  },
  {
   "cell_type": "markdown",
   "metadata": {},
   "source": [
    "Изучив диаграмму видно, что самым стабильным по продажам является жанр Shooter, Sports и Platform."
   ]
  },
  {
   "cell_type": "markdown",
   "metadata": {},
   "source": [
    "#####  Вывод по результатам исследовательского анализа данных\n",
    "\n",
    "Данные до 1995 года можно считать незначительными по количеству релизов игр.\n",
    "для постоения дальнейшего прогноза использовались данные за период 3 года.\n",
    "У PS4 и XOne наблюдается связь между оценками критиков и продажами. А связь между оценками пользователей и продажами отсутсвует Это может говорит о том, что покупатели прислушиваются к оценкам критиков.\n"
   ]
  },
  {
   "cell_type": "markdown",
   "metadata": {},
   "source": [
    "#### Шаг 4. Составьте портрет пользователя каждого региона"
   ]
  },
  {
   "cell_type": "markdown",
   "metadata": {},
   "source": [
    "##### Определите для пользователя каждого региона (NA, EU, JP) самые популярные платформы (топ-5)"
   ]
  },
  {
   "cell_type": "code",
   "execution_count": 20,
   "metadata": {
    "scrolled": false
   },
   "outputs": [
    {
     "data": {
      "image/png": "[encoded data removed]",
      "text/plain": [
       "<Figure size 576x1296 with 3 Axes>"
      ]
     },
     "metadata": {},
     "output_type": "display_data"
    },
    {
     "name": "stdout",
     "output_type": "stream",
     "text": [
      "Топ-5 платформ в NA: platform\n",
      "ps4     98.61\n",
      "xone    81.27\n",
      "x360    28.30\n",
      "3ds     22.64\n",
      "ps3     22.05\n",
      "Name: na_sales, dtype: float64\n",
      "Топ-5 платформ в EU: platform\n",
      "ps4     130.04\n",
      "xone     46.25\n",
      "ps3      25.54\n",
      "pc       17.97\n",
      "3ds      16.12\n",
      "Name: eu_sales, dtype: float64\n",
      "Топ-5 платформ в JP: platform\n",
      "3ds     44.24\n",
      "ps4     15.02\n",
      "psv     14.54\n",
      "ps3     11.22\n",
      "wiiu     7.31\n",
      "Name: jp_sales, dtype: float64\n"
     ]
    }
   ],
   "source": [
    "sales_region = actual_games.groupby('platform')[['na_sales', 'eu_sales', 'jp_sales']].sum()\n",
    "top_platform_na = sales_region['na_sales'].nlargest(5)\n",
    "top_platform_eu = sales_region['eu_sales'].nlargest(5)\n",
    "top_platform_jp = sales_region['jp_sales'].nlargest(5)\n",
    "fig, axes = plt.subplots(nrows=3, ncols=1, figsize=(8, 18))\n",
    "for i, region in enumerate(['NA', 'EU', 'JP']):\n",
    "    if region == 'NA':\n",
    "        top_platform = top_platform_na\n",
    "    elif region == 'EU':\n",
    "        top_platform = top_platform_eu\n",
    "    else:\n",
    "        top_platform = top_platform_jp\n",
    "    labels = top_platform.index.tolist() + ['Other']\n",
    "    sizes = top_platform.values.tolist() + [sales_region.loc[~sales_region.index.isin(top_platform.index), region.lower() + '_sales'].sum()]\n",
    "    explode = [0.1] * len(labels) \n",
    "    axes[i].pie(sizes, explode=explode, labels=labels, autopct='%1.1f%%', startangle=90)\n",
    "    axes[i].axis('equal')\n",
    "    axes[i].set_title(f'Распределение продаж по платформам в {region}', fontweight='bold', fontsize=12)\n",
    "fig.suptitle('Обзор рынка платформ', fontweight='bold', fontsize=18)\n",
    "plt.tight_layout()\n",
    "plt.show()\n",
    "print(\"Топ-5 платформ в NA:\", top_platform_na)\n",
    "print(\"Топ-5 платформ в EU:\", top_platform_eu)\n",
    "print(\"Топ-5 платформ в JP:\", top_platform_jp)"
   ]
  },
  {
   "cell_type": "markdown",
   "metadata": {},
   "source": [
    "Для разных регионов топ платформ выгрядит по разному"
   ]
  },
  {
   "cell_type": "markdown",
   "metadata": {},
   "source": [
    "##### Определите для пользователя каждого региона (NA, EU, JP) самые популярные жанры (топ-5)"
   ]
  },
  {
   "cell_type": "code",
   "execution_count": 21,
   "metadata": {},
   "outputs": [
    {
     "name": "stdout",
     "output_type": "stream",
     "text": [
      "Топ-5 жанры в NA: ['Shooter', 'Action', 'Sports', 'Role-Playing', 'Misc']\n",
      "Топ-5 жанры в EU: ['Action', 'Shooter', 'Sports', 'Role-Playing', 'Racing']\n",
      "Топ-5 жанры в JP: ['Role-Playing', 'Action', 'Fighting', 'Misc', 'Shooter']\n"
     ]
    }
   ],
   "source": [
    "sales_genre = actual_games.groupby('genre')[['na_sales', 'eu_sales', 'jp_sales']].sum()\n",
    "top_genre_na = sales_genre['na_sales'].nlargest(5).index.tolist()\n",
    "top_genre_eu = sales_genre['eu_sales'].nlargest(5).index.tolist()\n",
    "top_genre_jp = sales_genre['jp_sales'].nlargest(5).index.tolist()\n",
    "print(\"Топ-5 жанры в NA:\", top_genre_na)\n",
    "print(\"Топ-5 жанры в EU:\", top_genre_eu)\n",
    "print(\"Топ-5 жанры в JP:\", top_genre_jp)"
   ]
  },
  {
   "cell_type": "markdown",
   "metadata": {},
   "source": [
    "Топ 3 жанров отличаются только в JP регионе."
   ]
  },
  {
   "cell_type": "markdown",
   "metadata": {},
   "source": [
    "##### Определите для пользователя каждого региона (NA, EU, JP) влияет ли рейтинг ESRB на продажи в отдельном регионе"
   ]
  },
  {
   "cell_type": "code",
   "execution_count": 22,
   "metadata": {},
   "outputs": [
    {
     "name": "stdout",
     "output_type": "stream",
     "text": [
      "Продажи по ESRB в NA:\n",
      "rating\n",
      "E           50.74\n",
      "E10+        33.23\n",
      "M           96.42\n",
      "T           38.95\n",
      "non_esrb    64.72\n",
      "Name: na_sales, dtype: float64\n",
      "\n",
      "Продажи по ESRB в EU:\n",
      "rating\n",
      "E           58.06\n",
      "E10+        26.16\n",
      "M           93.44\n",
      "T           34.07\n",
      "non_esrb    58.95\n",
      "Name: eu_sales, dtype: float64\n",
      "\n",
      "Продажи по ESRB в JP:\n",
      "rating\n",
      "E            8.94\n",
      "E10+         4.46\n",
      "M            8.01\n",
      "T           14.78\n",
      "non_esrb    56.90\n",
      "Name: jp_sales, dtype: float64\n"
     ]
    }
   ],
   "source": [
    "sales_esrb = actual_games.groupby('rating')[['na_sales', 'eu_sales', 'jp_sales']].sum()\n",
    "print(\"Продажи по ESRB в NA:\")\n",
    "print(sales_esrb['na_sales'])\n",
    "print(\"\\nПродажи по ESRB в EU:\")\n",
    "print(sales_esrb['eu_sales'])\n",
    "print(\"\\nПродажи по ESRB в JP:\")\n",
    "print(sales_esrb['jp_sales'])"
   ]
  },
  {
   "cell_type": "markdown",
   "metadata": {},
   "source": [
    "Рейтинг ESRB оказывает малое влияние на продажи в различных регионах. Количество проданных игр без оценки ESRB составляет значительную долю от каждого рынка, наиболее значительную часть составляет в региона JP."
   ]
  },
  {
   "cell_type": "markdown",
   "metadata": {},
   "source": [
    "#### Шаг 5. Проверьте гипотезы"
   ]
  },
  {
   "cell_type": "markdown",
   "metadata": {},
   "source": [
    "##### Средние пользовательские рейтинги платформ Xbox One и PC одинаковые"
   ]
  },
  {
   "cell_type": "markdown",
   "metadata": {},
   "source": [
    "Сформулируем гипотезы:\n",
    "\n",
    "Нулевая гипотеза (H0): Средние пользовательские рейтинги платформ Xbox One и PC равны\n",
    "\n",
    "Альтернативная гипотеза (H1): Средние пользовательские рейтинги платформ Xbox One и PC разнятся "
   ]
  },
  {
   "cell_type": "code",
   "execution_count": 23,
   "metadata": {},
   "outputs": [
    {
     "name": "stdout",
     "output_type": "stream",
     "text": [
      "p-значение: 0.10450507919348415\n",
      "Не получилось отвергнуть нулевую гипотезу\n"
     ]
    }
   ],
   "source": [
    "xone_rate = actual_games[actual_games['platform'] == 'xone']\n",
    "xone_rate = xone_rate[xone_rate['user_score']>0]\n",
    "pc_rate = actual_games[actual_games['platform'] == 'pc']\n",
    "pc_rate = pc_rate[pc_rate['user_score']>0]\n",
    "alpha = 0.05\n",
    "results = st.ttest_ind(xone_rate['user_score'], pc_rate['user_score'], alternative='two-sided')\n",
    "\n",
    "print('p-значение:', results.pvalue)\n",
    "\n",
    "if results.pvalue < alpha:\n",
    "    print('Отвергаем нулевую гипотезу')\n",
    "else:\n",
    "    print('Не получилось отвергнуть нулевую гипотезу') "
   ]
  },
  {
   "cell_type": "markdown",
   "metadata": {},
   "source": [
    "Нулевая гипотеза всегда должна быть со знаком равенства. Параметр alpha = 0.05 выбрал, так как он дефолтный для тестирования. Судя по предватрительной гипотезе ожиданий от теста нет и предположения могут быть двусторонними, таким образом параметр alternative=\"two-sided\"."
   ]
  },
  {
   "cell_type": "markdown",
   "metadata": {},
   "source": [
    "#####  Средние пользовательские рейтинги жанров Action и Sports разные"
   ]
  },
  {
   "cell_type": "markdown",
   "metadata": {},
   "source": [
    "Сформулируем гипотезы:\n",
    "\n",
    "Нулевая гипотеза (H0): Средние пользовательские рейтинги жанров Action и Sports равны\n",
    "\n",
    "Альтернативная гипотеза (H1): Средние пользовательские рейтинги жанров Action и Sports разные "
   ]
  },
  {
   "cell_type": "code",
   "execution_count": 25,
   "metadata": {},
   "outputs": [
    {
     "name": "stdout",
     "output_type": "stream",
     "text": [
      "p-значение: 2.8711147985105864e-19\n",
      "Отвергаем нулевую гипотезу\n"
     ]
    }
   ],
   "source": [
    "action_rate = actual_games[actual_games['genre'] == 'Action']\n",
    "action_rate = action_rate[action_rate['user_score']>0]\n",
    "sports_rate = actual_games[actual_games['genre'] == 'Sports']\n",
    "sports_rate = sports_rate[sports_rate['user_score']>0]\n",
    "alpha = 0.05\n",
    "results = st.ttest_ind(action_rate['user_score'], sports_rate['user_score'], alternative='two-sided')\n",
    "\n",
    "print('p-значение:', results.pvalue)\n",
    "\n",
    "if results.pvalue < alpha:\n",
    "    print('Отвергаем нулевую гипотезу')\n",
    "else:\n",
    "    print('Не получилось отвергнуть нулевую гипотезу') "
   ]
  },
  {
   "cell_type": "markdown",
   "metadata": {},
   "source": [
    "#### Шаг 6. Напишите общий вывод"
   ]
  },
  {
   "cell_type": "markdown",
   "metadata": {},
   "source": [
    "В данной работе использовались данные из файла games.csv. Названия всех столбцов были приведены в нижний регистр, явные дубликаты удалены. Структура файла:\n",
    "\n",
    "Name — название игры (пустые строки были удалены)\n",
    "\n",
    "Platform — платформа\n",
    "\n",
    "Year_of_Release — год выпуска (был изменен тип данных столбца)\n",
    "\n",
    "Genre — жанр игры (пустые строки были удалены)\n",
    "\n",
    "NA_sales — продажи в Северной Америке (миллионы проданных копий)\n",
    "\n",
    "EU_sales — продажи в Европе (миллионы проданных копий)\n",
    "\n",
    "JP_sales — продажи в Японии (миллионы проданных копий)\n",
    "\n",
    "Other_sales — продажи в других странах (миллионы проданных копий)\n",
    "\n",
    "Critic_Score — оценка критиков (максимум 100) (были преведны к целочисленным значениям, отсутсвующие значения заменены на 0)\n",
    "\n",
    "User_Score — оценка пользователей (максимум 10) (отсутсвующие значения заменены на 0, tbd аббревиатура была заменена на нейтральную оценку 5.0)\n",
    "\n",
    "Rating — рейтинг от организации ESRB\n",
    "\n",
    "Добавлен столбец total_sales с данными о суммарных продажах игр.\n",
    "\n",
    "В дальнейшем при анализе были взяты данные с 2014 года, старые отсечены из за неактуальности. \n",
    "\n",
    "Среди платформ, набирающих популярность можно выделить такие, как XOne, PS4, 3DS и PC.\n",
    "\n",
    "Среди жанров самыми продаваемыми за период с  являются Action, Shooter и Role-Playing.\n",
    "\n",
    "А самым стабильным по продажам является жанры Shooter, Sports и Platform.\n",
    "\n",
    "Корреляция отзвов критиков к продажам умеренная, корреляции отзвов пользователей к продажам не выявлено\n",
    "\n",
    "В блоке 4 были составлены портреты пользователей по регионам, в части топ-5 самые популярные платформы, самые популярные жанры,\n",
    "влияние рейтинга ESRB на продажи в регионе.\n",
    "\n",
    "Гипотезы:\n",
    "\n",
    "Средние пользовательские рейтинги платформ Xbox One и PC одинаковые. Предосталенные данные не противоречат гипотезе.\n",
    "\n",
    "Средние пользовательские рейтинги жанров Action и Sports разные. Предосталенные данные противоречат гипотезе."
   ]
  },
  {
   "cell_type": "markdown",
   "metadata": {},
   "source": [
    "#### Бонус"
   ]
  },
  {
   "cell_type": "code",
   "execution_count": 26,
   "metadata": {},
   "outputs": [],
   "source": [
    "data_games = pd.read_csv('/datasets/games.csv')"
   ]
  },
  {
   "cell_type": "code",
   "execution_count": 27,
   "metadata": {},
   "outputs": [],
   "source": [
    "data_games.columns = map(str.lower, data_games.columns)"
   ]
  },
  {
   "cell_type": "code",
   "execution_count": 28,
   "metadata": {},
   "outputs": [],
   "source": [
    "data_games = data_games.dropna(subset = ['year_of_release', 'name', 'genre'])"
   ]
  },
  {
   "cell_type": "code",
   "execution_count": 29,
   "metadata": {},
   "outputs": [],
   "source": [
    "data_games['user_score'] = data_games['user_score'].replace('tbd', np.nan).astype('float')"
   ]
  },
  {
   "cell_type": "code",
   "execution_count": 30,
   "metadata": {},
   "outputs": [],
   "source": [
    "data_games['rating'] = data_games['rating'].fillna('unknown')"
   ]
  },
  {
   "cell_type": "code",
   "execution_count": 31,
   "metadata": {},
   "outputs": [],
   "source": [
    "data_games['total_sales'] = data_games[['na_sales','eu_sales','jp_sales', 'other_sales']].sum(axis = 1)"
   ]
  },
  {
   "cell_type": "code",
   "execution_count": 36,
   "metadata": {},
   "outputs": [],
   "source": [
    "# check\n",
    "# круги + категория другие\n",
    "def graph (df, year, region, name, axes):\n",
    "    \n",
    "    df = df.query('year_of_release >= @year')\n",
    "    \n",
    "    sales = df.pivot_table(index='platform', \n",
    "                           values=region, \n",
    "                           aggfunc='sum').nlargest(5, region)\n",
    "    \n",
    "    sales = sales.reset_index()\n",
    "    \n",
    "    sales = (\n",
    "            sales.append({'platform': 'Other', region: df[region].sum() \n",
    "                       - sales[region].sum()}, ignore_index= True)\n",
    "         )\n",
    "    \n",
    "    \n",
    "    sales.columns = ['platform', 'sales']\n",
    "      \n",
    "    labels_c=sales.platform\n",
    "    colours = {'Wii':'C0', 'NES':'C1', 'GB':'C2', 'DS':'C3', 'X360':'DeepPink', \n",
    "    'PS3':'C5', 'PS2':'C6', 'SNES':'C7', 'GBA':'C8',\n",
    "               'PS4':'steelblue', '3DS':'orange', \n",
    "               'N64':'C11', 'PS':'C12', 'XB':'C13', 'PC':'C14', '2600':'C15', 'PSP':'C16', \n",
    "               'XOne':'C17',\n",
    "               'WiiU':'C18', 'GC':'C19', 'GEN':'C20', 'DC':'C21', 'PSV':'C22', \n",
    "               'SAT':'C23', 'SCD':'C24', 'WS':'C25', 'NG':'C26', \n",
    "               'TG16':'C27', '3DO':'C28', 'GG':'C29', 'PCFX':'C30', 'Other':'darkred'}\n",
    "   \n",
    "    sales.plot(kind='pie',\n",
    "               y=\"sales\",\n",
    "               \n",
    "               autopct='%1.0f%%',\n",
    "               wedgeprops={'linewidth': 3.0, 'edgecolor': 'white'},\n",
    "               textprops={'size': 'x-large'}, \n",
    "               labels= labels_c,\n",
    "               colors=[colours[key] for key in labels_c],\n",
    "               legend=False, \n",
    "               title = f\"Популярность платформ в {name} \", \n",
    "               ax = axes).set(ylabel='')\n",
    "    \n",
    "    plt.tight_layout()"
   ]
  },
  {
   "cell_type": "code",
   "execution_count": 37,
   "metadata": {},
   "outputs": [
    {
     "data": {
      "image/png": "[encoded data removed]",
      "text/plain": [
       "<Figure size 1080x432 with 3 Axes>"
      ]
     },
     "metadata": {},
     "output_type": "display_data"
    }
   ],
   "source": [
    "# check\n",
    "# круги в ряд\n",
    "\n",
    "x_year = 2011\n",
    "\n",
    "fig, axes = plt.subplots(1, 3, figsize = (15,6))\n",
    "fig.suptitle(f'Обзор рынка платформ (портрет покупателя) с {x_year} г.  по 2016 г.', fontsize = 24, fontweight='bold')\n",
    "\n",
    "graph(data_games, x_year, 'na_sales', 'Северной Америке', axes[0])\n",
    "graph(data_games, x_year,'eu_sales', 'Европе', axes[1])\n",
    "graph(data_games, x_year, 'jp_sales', 'Японии', axes[2])"
   ]
  },
  {
   "cell_type": "code",
   "execution_count": 38,
   "metadata": {},
   "outputs": [
    {
     "data": {
      "image/png": "[encoded data removed]",
      "text/plain": [
       "<Figure size 1080x432 with 3 Axes>"
      ]
     },
     "metadata": {},
     "output_type": "display_data"
    }
   ],
   "source": [
    "# check\n",
    "# круги в ряд\n",
    "\n",
    "x_year = 2014\n",
    "\n",
    "fig, axes = plt.subplots(1, 3, figsize = (15,6))\n",
    "fig.suptitle(f'Обзор рынка платформ (портрет покупателя) с {x_year} г.  по 2016 г.', fontsize = 24, fontweight='bold')\n",
    "\n",
    "graph(data_games, x_year, 'na_sales', 'Северной Америке', axes[0])\n",
    "graph(data_games, x_year,'eu_sales', 'Европе', axes[1])\n",
    "graph(data_games, x_year, 'jp_sales', 'Японии', axes[2])"
   ]
  },
  {
   "cell_type": "code",
   "execution_count": 39,
   "metadata": {},
   "outputs": [
    {
     "data": {
      "image/png": "[encoded data removed]",
      "text/plain": [
       "<Figure size 1080x432 with 3 Axes>"
      ]
     },
     "metadata": {},
     "output_type": "display_data"
    }
   ],
   "source": [
    "# check\n",
    "# круги в ряд\n",
    "\n",
    "x_year = 2015\n",
    "\n",
    "fig, axes = plt.subplots(1, 3, figsize = (15,6))\n",
    "fig.suptitle(f'Обзор рынка платформ (портрет покупателя) с {x_year} г.  по 2016 г.', fontsize = 24, fontweight='bold')\n",
    "\n",
    "graph(data_games, x_year, 'na_sales', 'Северной Америке', axes[0])\n",
    "graph(data_games, x_year,'eu_sales', 'Европе', axes[1])\n",
    "graph(data_games, x_year, 'jp_sales', 'Японии', axes[2])"
   ]
  }
 ],
 "metadata": {
  "ExecuteTimeLog": [
   {
    "duration": 53,
    "start_time": "2023-07-11T15:21:19.663Z"
   },
   {
    "duration": 402,
    "start_time": "2023-07-11T15:21:24.207Z"
   },
   {
    "duration": 189,
    "start_time": "2023-07-11T15:21:24.611Z"
   },
   {
    "duration": 49,
    "start_time": "2023-07-11T15:21:27.116Z"
   },
   {
    "duration": 72,
    "start_time": "2023-07-11T15:21:47.024Z"
   },
   {
    "duration": 88,
    "start_time": "2023-07-11T15:25:00.655Z"
   },
   {
    "duration": 85,
    "start_time": "2023-07-11T15:25:11.664Z"
   },
   {
    "duration": 86,
    "start_time": "2023-07-11T15:25:30.949Z"
   },
   {
    "duration": 22,
    "start_time": "2023-07-11T15:34:39.965Z"
   },
   {
    "duration": 21,
    "start_time": "2023-07-11T15:35:20.401Z"
   },
   {
    "duration": 50,
    "start_time": "2023-07-11T15:40:03.104Z"
   },
   {
    "duration": 24,
    "start_time": "2023-07-11T15:41:10.922Z"
   },
   {
    "duration": 97,
    "start_time": "2023-07-11T15:41:29.765Z"
   },
   {
    "duration": 53,
    "start_time": "2023-07-11T15:41:45.399Z"
   },
   {
    "duration": 3,
    "start_time": "2023-07-11T15:41:50.311Z"
   },
   {
    "duration": 103,
    "start_time": "2023-07-11T15:41:50.323Z"
   },
   {
    "duration": 39,
    "start_time": "2023-07-11T15:41:50.428Z"
   },
   {
    "duration": 753,
    "start_time": "2023-07-11T15:41:50.469Z"
   },
   {
    "duration": 35,
    "start_time": "2023-07-11T15:42:03.308Z"
   },
   {
    "duration": 58,
    "start_time": "2023-07-11T15:43:29.491Z"
   },
   {
    "duration": 64,
    "start_time": "2023-07-11T15:43:34.916Z"
   },
   {
    "duration": 3,
    "start_time": "2023-07-11T15:43:51.425Z"
   },
   {
    "duration": 131,
    "start_time": "2023-07-11T15:43:51.431Z"
   },
   {
    "duration": 34,
    "start_time": "2023-07-11T15:43:51.564Z"
   },
   {
    "duration": 52,
    "start_time": "2023-07-11T15:43:51.602Z"
   },
   {
    "duration": 759,
    "start_time": "2023-07-11T15:45:25.066Z"
   },
   {
    "duration": 3,
    "start_time": "2023-07-11T15:45:37.764Z"
   },
   {
    "duration": 109,
    "start_time": "2023-07-11T15:45:37.781Z"
   },
   {
    "duration": 26,
    "start_time": "2023-07-11T15:45:37.897Z"
   },
   {
    "duration": 50,
    "start_time": "2023-07-11T15:45:37.926Z"
   },
   {
    "duration": 10,
    "start_time": "2023-07-11T15:46:06.599Z"
   },
   {
    "duration": 37,
    "start_time": "2023-07-11T15:46:15.753Z"
   },
   {
    "duration": 3,
    "start_time": "2023-07-11T15:46:28.401Z"
   },
   {
    "duration": 106,
    "start_time": "2023-07-11T15:46:28.407Z"
   },
   {
    "duration": 28,
    "start_time": "2023-07-11T15:46:28.515Z"
   },
   {
    "duration": 52,
    "start_time": "2023-07-11T15:46:28.545Z"
   },
   {
    "duration": 3,
    "start_time": "2023-07-11T15:46:54.735Z"
   },
   {
    "duration": 96,
    "start_time": "2023-07-11T15:46:54.741Z"
   },
   {
    "duration": 47,
    "start_time": "2023-07-11T15:46:54.839Z"
   },
   {
    "duration": 39,
    "start_time": "2023-07-11T15:46:54.887Z"
   },
   {
    "duration": 3,
    "start_time": "2023-07-11T15:47:19.102Z"
   },
   {
    "duration": 93,
    "start_time": "2023-07-11T15:47:19.108Z"
   },
   {
    "duration": 34,
    "start_time": "2023-07-11T15:47:19.204Z"
   },
   {
    "duration": 63,
    "start_time": "2023-07-11T15:47:19.240Z"
   },
   {
    "duration": 3,
    "start_time": "2023-07-11T15:48:45.665Z"
   },
   {
    "duration": 113,
    "start_time": "2023-07-11T15:48:45.671Z"
   },
   {
    "duration": 26,
    "start_time": "2023-07-11T15:48:45.785Z"
   },
   {
    "duration": 61,
    "start_time": "2023-07-11T15:48:45.813Z"
   },
   {
    "duration": 61,
    "start_time": "2023-07-11T15:49:05.087Z"
   },
   {
    "duration": 40,
    "start_time": "2023-07-11T15:49:28.163Z"
   },
   {
    "duration": 35,
    "start_time": "2023-07-11T15:49:40.705Z"
   },
   {
    "duration": 39,
    "start_time": "2023-07-11T15:50:17.319Z"
   },
   {
    "duration": 3,
    "start_time": "2023-07-11T15:50:22.999Z"
   },
   {
    "duration": 105,
    "start_time": "2023-07-11T15:50:23.005Z"
   },
   {
    "duration": 28,
    "start_time": "2023-07-11T15:50:23.114Z"
   },
   {
    "duration": 42,
    "start_time": "2023-07-11T15:50:23.144Z"
   },
   {
    "duration": 32,
    "start_time": "2023-07-11T15:50:31.312Z"
   },
   {
    "duration": 38,
    "start_time": "2023-07-11T15:51:28.104Z"
   },
   {
    "duration": 3,
    "start_time": "2023-07-11T15:51:34.018Z"
   },
   {
    "duration": 102,
    "start_time": "2023-07-11T15:51:34.024Z"
   },
   {
    "duration": 28,
    "start_time": "2023-07-11T15:51:34.128Z"
   },
   {
    "duration": 51,
    "start_time": "2023-07-11T15:51:34.168Z"
   },
   {
    "duration": 16,
    "start_time": "2023-07-11T15:52:00.543Z"
   },
   {
    "duration": 14,
    "start_time": "2023-07-11T15:54:27.731Z"
   },
   {
    "duration": 48,
    "start_time": "2023-07-11T15:57:48.040Z"
   },
   {
    "duration": 2,
    "start_time": "2023-07-11T16:00:05.552Z"
   },
   {
    "duration": 106,
    "start_time": "2023-07-11T16:00:05.559Z"
   },
   {
    "duration": 24,
    "start_time": "2023-07-11T16:00:05.667Z"
   },
   {
    "duration": 52,
    "start_time": "2023-07-11T16:00:05.697Z"
   },
   {
    "duration": 148,
    "start_time": "2023-07-11T16:01:30.504Z"
   },
   {
    "duration": 15,
    "start_time": "2023-07-11T16:01:35.043Z"
   },
   {
    "duration": 12,
    "start_time": "2023-07-11T16:02:14.008Z"
   },
   {
    "duration": 12,
    "start_time": "2023-07-11T16:02:26.091Z"
   },
   {
    "duration": 25,
    "start_time": "2023-07-11T16:02:32.564Z"
   },
   {
    "duration": 29,
    "start_time": "2023-07-11T16:03:01.371Z"
   },
   {
    "duration": 20,
    "start_time": "2023-07-11T16:03:12.792Z"
   },
   {
    "duration": 10,
    "start_time": "2023-07-11T16:03:21.130Z"
   },
   {
    "duration": 4,
    "start_time": "2023-07-11T16:03:50.109Z"
   },
   {
    "duration": 4,
    "start_time": "2023-07-11T16:04:09.603Z"
   },
   {
    "duration": 7,
    "start_time": "2023-07-11T16:04:17.449Z"
   },
   {
    "duration": 7,
    "start_time": "2023-07-11T16:06:02.263Z"
   },
   {
    "duration": 14,
    "start_time": "2023-07-11T16:08:19.096Z"
   },
   {
    "duration": 11,
    "start_time": "2023-07-11T16:09:16.661Z"
   },
   {
    "duration": 34,
    "start_time": "2023-07-11T16:10:46.884Z"
   },
   {
    "duration": 27,
    "start_time": "2023-07-11T16:11:13.393Z"
   },
   {
    "duration": 3,
    "start_time": "2023-07-11T16:11:17.118Z"
   },
   {
    "duration": 83,
    "start_time": "2023-07-11T16:11:17.123Z"
   },
   {
    "duration": 28,
    "start_time": "2023-07-11T16:11:17.208Z"
   },
   {
    "duration": 69,
    "start_time": "2023-07-11T16:11:17.239Z"
   },
   {
    "duration": 39,
    "start_time": "2023-07-11T16:11:17.311Z"
   },
   {
    "duration": 32,
    "start_time": "2023-07-11T16:11:28.789Z"
   },
   {
    "duration": 3,
    "start_time": "2023-07-11T16:12:02.325Z"
   },
   {
    "duration": 120,
    "start_time": "2023-07-11T16:12:02.331Z"
   },
   {
    "duration": 32,
    "start_time": "2023-07-11T16:12:02.453Z"
   },
   {
    "duration": 58,
    "start_time": "2023-07-11T16:12:02.487Z"
   },
   {
    "duration": 47,
    "start_time": "2023-07-11T16:12:02.547Z"
   },
   {
    "duration": 3,
    "start_time": "2023-07-11T16:13:27.527Z"
   },
   {
    "duration": 114,
    "start_time": "2023-07-11T16:13:27.533Z"
   },
   {
    "duration": 24,
    "start_time": "2023-07-11T16:13:27.649Z"
   },
   {
    "duration": 64,
    "start_time": "2023-07-11T16:13:27.684Z"
   },
   {
    "duration": 63,
    "start_time": "2023-07-11T16:13:27.750Z"
   },
   {
    "duration": 122,
    "start_time": "2023-07-11T16:14:25.141Z"
   },
   {
    "duration": 2,
    "start_time": "2023-07-11T16:14:54.806Z"
   },
   {
    "duration": 104,
    "start_time": "2023-07-11T16:14:54.810Z"
   },
   {
    "duration": 20,
    "start_time": "2023-07-11T16:14:54.920Z"
   },
   {
    "duration": 56,
    "start_time": "2023-07-11T16:14:54.941Z"
   },
   {
    "duration": 33,
    "start_time": "2023-07-11T16:14:55.003Z"
   },
   {
    "duration": 47,
    "start_time": "2023-07-11T16:15:00.382Z"
   },
   {
    "duration": 12,
    "start_time": "2023-07-11T16:15:06.490Z"
   },
   {
    "duration": 130,
    "start_time": "2023-07-11T16:15:06.510Z"
   },
   {
    "duration": 48,
    "start_time": "2023-07-11T16:15:06.642Z"
   },
   {
    "duration": 61,
    "start_time": "2023-07-11T16:15:06.698Z"
   },
   {
    "duration": 83,
    "start_time": "2023-07-11T16:15:06.762Z"
   },
   {
    "duration": 7,
    "start_time": "2023-07-11T16:15:26.139Z"
   },
   {
    "duration": 129,
    "start_time": "2023-07-11T16:15:26.149Z"
   },
   {
    "duration": 82,
    "start_time": "2023-07-11T16:15:26.280Z"
   },
   {
    "duration": 80,
    "start_time": "2023-07-11T16:15:26.364Z"
   },
   {
    "duration": 40,
    "start_time": "2023-07-11T16:15:26.454Z"
   },
   {
    "duration": 7,
    "start_time": "2023-07-11T16:15:35.983Z"
   },
   {
    "duration": 148,
    "start_time": "2023-07-11T16:15:35.993Z"
   },
   {
    "duration": 21,
    "start_time": "2023-07-11T16:15:36.145Z"
   },
   {
    "duration": 61,
    "start_time": "2023-07-11T16:15:36.167Z"
   },
   {
    "duration": 44,
    "start_time": "2023-07-11T16:15:36.232Z"
   },
   {
    "duration": 2,
    "start_time": "2023-07-11T16:15:56.129Z"
   },
   {
    "duration": 98,
    "start_time": "2023-07-11T16:15:56.134Z"
   },
   {
    "duration": 21,
    "start_time": "2023-07-11T16:15:56.236Z"
   },
   {
    "duration": 64,
    "start_time": "2023-07-11T16:15:56.259Z"
   },
   {
    "duration": 29,
    "start_time": "2023-07-11T16:15:56.327Z"
   },
   {
    "duration": 3,
    "start_time": "2023-07-11T16:16:03.623Z"
   },
   {
    "duration": 99,
    "start_time": "2023-07-11T16:16:03.628Z"
   },
   {
    "duration": 20,
    "start_time": "2023-07-11T16:16:03.729Z"
   },
   {
    "duration": 63,
    "start_time": "2023-07-11T16:16:03.751Z"
   },
   {
    "duration": 39,
    "start_time": "2023-07-11T16:16:03.817Z"
   },
   {
    "duration": 43,
    "start_time": "2023-07-11T16:31:37.502Z"
   },
   {
    "duration": 3,
    "start_time": "2023-07-11T16:31:47.884Z"
   },
   {
    "duration": 93,
    "start_time": "2023-07-11T16:31:47.893Z"
   },
   {
    "duration": 26,
    "start_time": "2023-07-11T16:31:47.988Z"
   },
   {
    "duration": 42,
    "start_time": "2023-07-11T16:31:48.016Z"
   },
   {
    "duration": 39,
    "start_time": "2023-07-11T16:31:48.060Z"
   },
   {
    "duration": 14,
    "start_time": "2023-07-11T16:33:59.004Z"
   },
   {
    "duration": 2,
    "start_time": "2023-07-11T16:34:03.162Z"
   },
   {
    "duration": 99,
    "start_time": "2023-07-11T16:34:03.202Z"
   },
   {
    "duration": 26,
    "start_time": "2023-07-11T16:34:03.303Z"
   },
   {
    "duration": 81,
    "start_time": "2023-07-11T16:34:03.331Z"
   },
   {
    "duration": 40,
    "start_time": "2023-07-11T16:34:03.416Z"
   },
   {
    "duration": 28,
    "start_time": "2023-07-11T16:34:03.459Z"
   },
   {
    "duration": 3,
    "start_time": "2023-07-11T16:35:18.946Z"
   },
   {
    "duration": 81,
    "start_time": "2023-07-11T16:35:18.951Z"
   },
   {
    "duration": 23,
    "start_time": "2023-07-11T16:35:19.034Z"
   },
   {
    "duration": 79,
    "start_time": "2023-07-11T16:35:19.058Z"
   },
   {
    "duration": 40,
    "start_time": "2023-07-11T16:35:19.139Z"
   },
   {
    "duration": 12,
    "start_time": "2023-07-11T16:35:19.180Z"
   },
   {
    "duration": 12,
    "start_time": "2023-07-11T16:35:19.194Z"
   },
   {
    "duration": 28,
    "start_time": "2023-07-11T16:36:36.556Z"
   },
   {
    "duration": 3,
    "start_time": "2023-07-11T16:36:42.597Z"
   },
   {
    "duration": 100,
    "start_time": "2023-07-11T16:36:42.603Z"
   },
   {
    "duration": 25,
    "start_time": "2023-07-11T16:36:42.705Z"
   },
   {
    "duration": 51,
    "start_time": "2023-07-11T16:36:42.732Z"
   },
   {
    "duration": 21,
    "start_time": "2023-07-11T16:36:42.785Z"
   },
   {
    "duration": 9,
    "start_time": "2023-07-11T16:36:42.807Z"
   },
   {
    "duration": 9,
    "start_time": "2023-07-11T16:36:42.817Z"
   },
   {
    "duration": 6,
    "start_time": "2023-07-11T16:36:42.828Z"
   },
   {
    "duration": 5,
    "start_time": "2023-07-11T16:41:56.227Z"
   },
   {
    "duration": 46,
    "start_time": "2023-07-11T16:42:31.202Z"
   },
   {
    "duration": 3,
    "start_time": "2023-07-11T16:44:58.314Z"
   },
   {
    "duration": 115,
    "start_time": "2023-07-11T16:44:58.320Z"
   },
   {
    "duration": 47,
    "start_time": "2023-07-11T16:44:58.437Z"
   },
   {
    "duration": 68,
    "start_time": "2023-07-11T16:44:58.489Z"
   },
   {
    "duration": 16,
    "start_time": "2023-07-11T16:44:58.569Z"
   },
   {
    "duration": 22,
    "start_time": "2023-07-11T16:44:58.592Z"
   },
   {
    "duration": 11,
    "start_time": "2023-07-11T16:44:58.616Z"
   },
   {
    "duration": 5,
    "start_time": "2023-07-11T16:44:58.628Z"
   },
   {
    "duration": 4,
    "start_time": "2023-07-11T16:45:29.361Z"
   },
   {
    "duration": 17,
    "start_time": "2023-07-11T16:46:18.581Z"
   },
   {
    "duration": 14,
    "start_time": "2023-07-11T16:47:44.164Z"
   },
   {
    "duration": 3,
    "start_time": "2023-07-11T16:47:47.417Z"
   },
   {
    "duration": 106,
    "start_time": "2023-07-11T16:47:47.422Z"
   },
   {
    "duration": 21,
    "start_time": "2023-07-11T16:47:47.530Z"
   },
   {
    "duration": 57,
    "start_time": "2023-07-11T16:47:47.553Z"
   },
   {
    "duration": 17,
    "start_time": "2023-07-11T16:47:47.613Z"
   },
   {
    "duration": 8,
    "start_time": "2023-07-11T16:47:47.631Z"
   },
   {
    "duration": 28,
    "start_time": "2023-07-11T16:47:47.641Z"
   },
   {
    "duration": 11,
    "start_time": "2023-07-11T16:47:47.677Z"
   },
   {
    "duration": 7,
    "start_time": "2023-07-11T16:47:54.338Z"
   },
   {
    "duration": 3,
    "start_time": "2023-07-11T16:47:58.885Z"
   },
   {
    "duration": 121,
    "start_time": "2023-07-11T16:47:58.890Z"
   },
   {
    "duration": 18,
    "start_time": "2023-07-11T16:47:59.013Z"
   },
   {
    "duration": 60,
    "start_time": "2023-07-11T16:47:59.033Z"
   },
   {
    "duration": 13,
    "start_time": "2023-07-11T16:47:59.095Z"
   },
   {
    "duration": 12,
    "start_time": "2023-07-11T16:47:59.110Z"
   },
   {
    "duration": 9,
    "start_time": "2023-07-11T16:47:59.124Z"
   },
   {
    "duration": 41,
    "start_time": "2023-07-11T16:47:59.135Z"
   },
   {
    "duration": 5,
    "start_time": "2023-07-11T16:49:01.288Z"
   },
   {
    "duration": 3,
    "start_time": "2023-07-11T16:51:14.921Z"
   },
   {
    "duration": 82,
    "start_time": "2023-07-11T16:51:14.925Z"
   },
   {
    "duration": 17,
    "start_time": "2023-07-11T16:51:15.009Z"
   },
   {
    "duration": 80,
    "start_time": "2023-07-11T16:51:15.028Z"
   },
   {
    "duration": 15,
    "start_time": "2023-07-11T16:51:15.110Z"
   },
   {
    "duration": 13,
    "start_time": "2023-07-11T16:51:15.127Z"
   },
   {
    "duration": 29,
    "start_time": "2023-07-11T16:51:15.142Z"
   },
   {
    "duration": 7,
    "start_time": "2023-07-11T16:51:15.177Z"
   },
   {
    "duration": 6,
    "start_time": "2023-07-11T16:52:40.532Z"
   },
   {
    "duration": 5,
    "start_time": "2023-07-11T16:52:45.526Z"
   },
   {
    "duration": 3,
    "start_time": "2023-07-11T16:53:43.022Z"
   },
   {
    "duration": 95,
    "start_time": "2023-07-11T16:53:43.027Z"
   },
   {
    "duration": 16,
    "start_time": "2023-07-11T16:53:43.123Z"
   },
   {
    "duration": 53,
    "start_time": "2023-07-11T16:53:43.141Z"
   },
   {
    "duration": 15,
    "start_time": "2023-07-11T16:53:43.196Z"
   },
   {
    "duration": 8,
    "start_time": "2023-07-11T16:53:43.213Z"
   },
   {
    "duration": 8,
    "start_time": "2023-07-11T16:53:43.223Z"
   },
   {
    "duration": 6,
    "start_time": "2023-07-11T16:53:43.232Z"
   },
   {
    "duration": 41,
    "start_time": "2023-07-11T16:53:43.240Z"
   },
   {
    "duration": 8,
    "start_time": "2023-07-11T16:53:43.283Z"
   },
   {
    "duration": 2,
    "start_time": "2023-07-11T16:59:38.352Z"
   },
   {
    "duration": 84,
    "start_time": "2023-07-11T16:59:38.355Z"
   },
   {
    "duration": 18,
    "start_time": "2023-07-11T16:59:38.441Z"
   },
   {
    "duration": 48,
    "start_time": "2023-07-11T16:59:38.460Z"
   },
   {
    "duration": 13,
    "start_time": "2023-07-11T16:59:38.509Z"
   },
   {
    "duration": 14,
    "start_time": "2023-07-11T16:59:38.523Z"
   },
   {
    "duration": 12,
    "start_time": "2023-07-11T16:59:38.539Z"
   },
   {
    "duration": 16,
    "start_time": "2023-07-11T16:59:38.553Z"
   },
   {
    "duration": 8,
    "start_time": "2023-07-11T16:59:38.573Z"
   },
   {
    "duration": 5,
    "start_time": "2023-07-11T16:59:38.583Z"
   },
   {
    "duration": 34,
    "start_time": "2023-07-11T17:00:00.493Z"
   },
   {
    "duration": 16,
    "start_time": "2023-07-11T17:00:35.937Z"
   },
   {
    "duration": 3,
    "start_time": "2023-07-11T17:01:00.605Z"
   },
   {
    "duration": 132,
    "start_time": "2023-07-11T17:01:00.610Z"
   },
   {
    "duration": 20,
    "start_time": "2023-07-11T17:01:00.743Z"
   },
   {
    "duration": 48,
    "start_time": "2023-07-11T17:01:00.764Z"
   },
   {
    "duration": 13,
    "start_time": "2023-07-11T17:01:00.814Z"
   },
   {
    "duration": 59,
    "start_time": "2023-07-11T17:01:00.829Z"
   },
   {
    "duration": 46,
    "start_time": "2023-07-11T17:01:00.890Z"
   },
   {
    "duration": 35,
    "start_time": "2023-07-11T17:01:00.938Z"
   },
   {
    "duration": 47,
    "start_time": "2023-07-11T17:01:00.977Z"
   },
   {
    "duration": 40,
    "start_time": "2023-07-11T17:01:01.031Z"
   },
   {
    "duration": 50,
    "start_time": "2023-07-11T17:01:01.073Z"
   },
   {
    "duration": 7,
    "start_time": "2023-07-11T17:04:13.302Z"
   },
   {
    "duration": 3,
    "start_time": "2023-07-11T17:04:16.094Z"
   },
   {
    "duration": 90,
    "start_time": "2023-07-11T17:04:16.099Z"
   },
   {
    "duration": 30,
    "start_time": "2023-07-11T17:04:16.191Z"
   },
   {
    "duration": 60,
    "start_time": "2023-07-11T17:04:16.223Z"
   },
   {
    "duration": 22,
    "start_time": "2023-07-11T17:04:16.286Z"
   },
   {
    "duration": 9,
    "start_time": "2023-07-11T17:04:16.310Z"
   },
   {
    "duration": 9,
    "start_time": "2023-07-11T17:04:16.320Z"
   },
   {
    "duration": 6,
    "start_time": "2023-07-11T17:04:16.330Z"
   },
   {
    "duration": 40,
    "start_time": "2023-07-11T17:04:16.338Z"
   },
   {
    "duration": 7,
    "start_time": "2023-07-11T17:04:16.379Z"
   },
   {
    "duration": 35,
    "start_time": "2023-07-11T17:04:16.391Z"
   },
   {
    "duration": 11,
    "start_time": "2023-07-11T17:08:08.693Z"
   },
   {
    "duration": 2,
    "start_time": "2023-07-11T17:08:14.675Z"
   },
   {
    "duration": 76,
    "start_time": "2023-07-11T17:08:14.679Z"
   },
   {
    "duration": 18,
    "start_time": "2023-07-11T17:08:14.756Z"
   },
   {
    "duration": 32,
    "start_time": "2023-07-11T17:08:14.776Z"
   },
   {
    "duration": 12,
    "start_time": "2023-07-11T17:08:14.810Z"
   },
   {
    "duration": 10,
    "start_time": "2023-07-11T17:08:14.824Z"
   },
   {
    "duration": 37,
    "start_time": "2023-07-11T17:08:14.836Z"
   },
   {
    "duration": 9,
    "start_time": "2023-07-11T17:08:14.875Z"
   },
   {
    "duration": 7,
    "start_time": "2023-07-11T17:08:14.885Z"
   },
   {
    "duration": 5,
    "start_time": "2023-07-11T17:08:14.893Z"
   },
   {
    "duration": 23,
    "start_time": "2023-07-11T17:08:14.899Z"
   },
   {
    "duration": 81,
    "start_time": "2023-07-11T17:13:24.535Z"
   },
   {
    "duration": 3,
    "start_time": "2023-07-11T17:13:28.235Z"
   },
   {
    "duration": 85,
    "start_time": "2023-07-11T17:13:28.241Z"
   },
   {
    "duration": 19,
    "start_time": "2023-07-11T17:13:28.327Z"
   },
   {
    "duration": 51,
    "start_time": "2023-07-11T17:13:28.348Z"
   },
   {
    "duration": 12,
    "start_time": "2023-07-11T17:13:28.401Z"
   },
   {
    "duration": 18,
    "start_time": "2023-07-11T17:13:28.415Z"
   },
   {
    "duration": 11,
    "start_time": "2023-07-11T17:13:28.435Z"
   },
   {
    "duration": 57,
    "start_time": "2023-07-11T17:13:28.448Z"
   },
   {
    "duration": 0,
    "start_time": "2023-07-11T17:13:28.507Z"
   },
   {
    "duration": 1,
    "start_time": "2023-07-11T17:13:28.509Z"
   },
   {
    "duration": 0,
    "start_time": "2023-07-11T17:13:28.511Z"
   },
   {
    "duration": 10,
    "start_time": "2023-07-11T17:13:41.228Z"
   },
   {
    "duration": 13,
    "start_time": "2023-07-11T17:14:07.038Z"
   },
   {
    "duration": 16,
    "start_time": "2023-07-11T17:17:42.642Z"
   },
   {
    "duration": 3,
    "start_time": "2023-07-11T17:18:09.660Z"
   },
   {
    "duration": 91,
    "start_time": "2023-07-11T17:18:09.668Z"
   },
   {
    "duration": 17,
    "start_time": "2023-07-11T17:18:09.760Z"
   },
   {
    "duration": 42,
    "start_time": "2023-07-11T17:18:09.779Z"
   },
   {
    "duration": 12,
    "start_time": "2023-07-11T17:18:09.823Z"
   },
   {
    "duration": 7,
    "start_time": "2023-07-11T17:18:09.837Z"
   },
   {
    "duration": 27,
    "start_time": "2023-07-11T17:18:09.846Z"
   },
   {
    "duration": 11,
    "start_time": "2023-07-11T17:18:09.874Z"
   },
   {
    "duration": 12,
    "start_time": "2023-07-11T17:18:09.887Z"
   },
   {
    "duration": 11,
    "start_time": "2023-07-11T17:18:09.900Z"
   },
   {
    "duration": 32,
    "start_time": "2023-07-11T17:18:09.913Z"
   },
   {
    "duration": 10,
    "start_time": "2023-07-11T17:18:50.590Z"
   },
   {
    "duration": 11,
    "start_time": "2023-07-11T17:21:35.942Z"
   },
   {
    "duration": 15,
    "start_time": "2023-07-11T17:21:44.117Z"
   },
   {
    "duration": 20,
    "start_time": "2023-07-11T17:25:48.292Z"
   },
   {
    "duration": 2,
    "start_time": "2023-07-11T17:25:53.024Z"
   },
   {
    "duration": 96,
    "start_time": "2023-07-11T17:25:53.028Z"
   },
   {
    "duration": 27,
    "start_time": "2023-07-11T17:25:53.126Z"
   },
   {
    "duration": 49,
    "start_time": "2023-07-11T17:25:53.155Z"
   },
   {
    "duration": 13,
    "start_time": "2023-07-11T17:25:53.207Z"
   },
   {
    "duration": 17,
    "start_time": "2023-07-11T17:25:53.221Z"
   },
   {
    "duration": 31,
    "start_time": "2023-07-11T17:25:53.240Z"
   },
   {
    "duration": 12,
    "start_time": "2023-07-11T17:25:53.276Z"
   },
   {
    "duration": 16,
    "start_time": "2023-07-11T17:25:53.289Z"
   },
   {
    "duration": 4,
    "start_time": "2023-07-11T17:25:53.306Z"
   },
   {
    "duration": 21,
    "start_time": "2023-07-11T17:25:53.311Z"
   },
   {
    "duration": 13,
    "start_time": "2023-07-11T17:27:36.241Z"
   },
   {
    "duration": 11,
    "start_time": "2023-07-11T17:27:43.205Z"
   },
   {
    "duration": 3,
    "start_time": "2023-07-11T17:28:27.488Z"
   },
   {
    "duration": 71,
    "start_time": "2023-07-11T17:28:27.493Z"
   },
   {
    "duration": 25,
    "start_time": "2023-07-11T17:28:27.566Z"
   },
   {
    "duration": 54,
    "start_time": "2023-07-11T17:28:27.593Z"
   },
   {
    "duration": 34,
    "start_time": "2023-07-11T17:28:27.650Z"
   },
   {
    "duration": 9,
    "start_time": "2023-07-11T17:28:27.685Z"
   },
   {
    "duration": 9,
    "start_time": "2023-07-11T17:28:27.696Z"
   },
   {
    "duration": 8,
    "start_time": "2023-07-11T17:28:27.707Z"
   },
   {
    "duration": 22,
    "start_time": "2023-07-11T17:28:27.717Z"
   },
   {
    "duration": 12,
    "start_time": "2023-07-11T17:28:27.769Z"
   },
   {
    "duration": 23,
    "start_time": "2023-07-11T17:28:27.785Z"
   },
   {
    "duration": 19,
    "start_time": "2023-07-11T17:35:50.395Z"
   },
   {
    "duration": 68,
    "start_time": "2023-07-11T17:36:13.112Z"
   },
   {
    "duration": 17,
    "start_time": "2023-07-11T17:36:23.997Z"
   },
   {
    "duration": 13,
    "start_time": "2023-07-11T17:36:30.294Z"
   },
   {
    "duration": 21,
    "start_time": "2023-07-11T17:43:40.894Z"
   },
   {
    "duration": 2,
    "start_time": "2023-07-11T17:45:21.539Z"
   },
   {
    "duration": 84,
    "start_time": "2023-07-11T17:45:21.543Z"
   },
   {
    "duration": 12,
    "start_time": "2023-07-11T17:45:21.629Z"
   },
   {
    "duration": 43,
    "start_time": "2023-07-11T17:45:21.643Z"
   },
   {
    "duration": 14,
    "start_time": "2023-07-11T17:45:21.689Z"
   },
   {
    "duration": 9,
    "start_time": "2023-07-11T17:45:21.704Z"
   },
   {
    "duration": 15,
    "start_time": "2023-07-11T17:45:21.714Z"
   },
   {
    "duration": 10,
    "start_time": "2023-07-11T17:45:21.731Z"
   },
   {
    "duration": 33,
    "start_time": "2023-07-11T17:45:21.746Z"
   },
   {
    "duration": 10,
    "start_time": "2023-07-11T17:45:21.781Z"
   },
   {
    "duration": 22,
    "start_time": "2023-07-11T17:45:21.796Z"
   },
   {
    "duration": 22,
    "start_time": "2023-07-11T17:45:21.820Z"
   },
   {
    "duration": 45,
    "start_time": "2023-07-11T17:50:51.401Z"
   },
   {
    "duration": 25,
    "start_time": "2023-07-11T17:52:06.259Z"
   },
   {
    "duration": 9,
    "start_time": "2023-07-11T17:53:25.387Z"
   },
   {
    "duration": 396,
    "start_time": "2023-07-11T17:53:41.921Z"
   },
   {
    "duration": 71,
    "start_time": "2023-07-11T17:53:42.319Z"
   },
   {
    "duration": 13,
    "start_time": "2023-07-11T17:53:42.391Z"
   },
   {
    "duration": 33,
    "start_time": "2023-07-11T17:53:42.405Z"
   },
   {
    "duration": 42,
    "start_time": "2023-07-11T17:53:42.440Z"
   },
   {
    "duration": 9,
    "start_time": "2023-07-11T17:53:42.484Z"
   },
   {
    "duration": 16,
    "start_time": "2023-07-11T17:53:42.495Z"
   },
   {
    "duration": 16,
    "start_time": "2023-07-11T17:53:42.513Z"
   },
   {
    "duration": 14,
    "start_time": "2023-07-11T17:53:42.531Z"
   },
   {
    "duration": 35,
    "start_time": "2023-07-11T17:53:42.546Z"
   },
   {
    "duration": 35,
    "start_time": "2023-07-11T17:53:42.584Z"
   },
   {
    "duration": 307,
    "start_time": "2023-07-11T17:53:42.621Z"
   },
   {
    "duration": 202,
    "start_time": "2023-07-11T17:54:15.386Z"
   },
   {
    "duration": 199,
    "start_time": "2023-07-11T17:54:23.293Z"
   },
   {
    "duration": 223,
    "start_time": "2023-07-11T17:55:55.494Z"
   },
   {
    "duration": 230,
    "start_time": "2023-07-11T17:56:09.386Z"
   },
   {
    "duration": 229,
    "start_time": "2023-07-11T17:58:03.896Z"
   },
   {
    "duration": 227,
    "start_time": "2023-07-11T17:58:30.352Z"
   },
   {
    "duration": 416,
    "start_time": "2023-07-11T18:11:55.514Z"
   },
   {
    "duration": 386,
    "start_time": "2023-07-11T18:12:08.302Z"
   },
   {
    "duration": 1145,
    "start_time": "2023-07-11T18:14:39.286Z"
   },
   {
    "duration": 12,
    "start_time": "2023-07-11T18:16:58.329Z"
   },
   {
    "duration": 30,
    "start_time": "2023-07-11T18:17:16.801Z"
   },
   {
    "duration": 466,
    "start_time": "2023-07-11T18:17:31.305Z"
   },
   {
    "duration": 952,
    "start_time": "2023-07-11T18:18:31.216Z"
   },
   {
    "duration": 312,
    "start_time": "2023-07-11T18:19:17.843Z"
   },
   {
    "duration": 292,
    "start_time": "2023-07-11T18:19:35.857Z"
   },
   {
    "duration": 764,
    "start_time": "2023-07-11T18:22:30.744Z"
   },
   {
    "duration": 837,
    "start_time": "2023-07-11T18:24:43.031Z"
   },
   {
    "duration": 955,
    "start_time": "2023-07-11T18:24:59.484Z"
   },
   {
    "duration": 1160,
    "start_time": "2023-07-11T18:25:57.828Z"
   },
   {
    "duration": 665,
    "start_time": "2023-07-11T18:27:07.058Z"
   },
   {
    "duration": 4,
    "start_time": "2023-07-11T18:27:31.764Z"
   },
   {
    "duration": 144,
    "start_time": "2023-07-11T18:27:31.772Z"
   },
   {
    "duration": 19,
    "start_time": "2023-07-11T18:27:31.922Z"
   },
   {
    "duration": 72,
    "start_time": "2023-07-11T18:27:31.943Z"
   },
   {
    "duration": 20,
    "start_time": "2023-07-11T18:27:32.019Z"
   },
   {
    "duration": 50,
    "start_time": "2023-07-11T18:27:32.042Z"
   },
   {
    "duration": 47,
    "start_time": "2023-07-11T18:27:32.094Z"
   },
   {
    "duration": 66,
    "start_time": "2023-07-11T18:27:32.144Z"
   },
   {
    "duration": 31,
    "start_time": "2023-07-11T18:27:32.213Z"
   },
   {
    "duration": 12,
    "start_time": "2023-07-11T18:27:32.246Z"
   },
   {
    "duration": 48,
    "start_time": "2023-07-11T18:27:32.259Z"
   },
   {
    "duration": 284,
    "start_time": "2023-07-11T18:27:32.309Z"
   },
   {
    "duration": 1016,
    "start_time": "2023-07-11T18:27:32.595Z"
   },
   {
    "duration": 968,
    "start_time": "2023-07-11T18:28:39.333Z"
   },
   {
    "duration": 44,
    "start_time": "2023-07-12T17:40:03.840Z"
   },
   {
    "duration": 965,
    "start_time": "2023-07-12T17:40:09.844Z"
   },
   {
    "duration": 130,
    "start_time": "2023-07-12T17:40:10.816Z"
   },
   {
    "duration": 14,
    "start_time": "2023-07-12T17:40:10.947Z"
   },
   {
    "duration": 30,
    "start_time": "2023-07-12T17:40:10.963Z"
   },
   {
    "duration": 19,
    "start_time": "2023-07-12T17:40:10.996Z"
   },
   {
    "duration": 33,
    "start_time": "2023-07-12T17:40:11.016Z"
   },
   {
    "duration": 8,
    "start_time": "2023-07-12T17:40:11.051Z"
   },
   {
    "duration": 10,
    "start_time": "2023-07-12T17:40:11.060Z"
   },
   {
    "duration": 12,
    "start_time": "2023-07-12T17:40:11.071Z"
   },
   {
    "duration": 3,
    "start_time": "2023-07-12T17:40:11.084Z"
   },
   {
    "duration": 35,
    "start_time": "2023-07-12T17:40:11.089Z"
   },
   {
    "duration": 216,
    "start_time": "2023-07-12T17:40:11.125Z"
   },
   {
    "duration": 582,
    "start_time": "2023-07-12T17:40:11.343Z"
   },
   {
    "duration": 8,
    "start_time": "2023-07-12T17:40:11.927Z"
   },
   {
    "duration": 12,
    "start_time": "2023-07-12T17:40:31.482Z"
   },
   {
    "duration": 11,
    "start_time": "2023-07-12T17:43:02.139Z"
   },
   {
    "duration": 11,
    "start_time": "2023-07-12T17:43:29.842Z"
   },
   {
    "duration": 531,
    "start_time": "2023-07-12T17:52:16.265Z"
   },
   {
    "duration": 820,
    "start_time": "2023-07-12T17:54:37.033Z"
   },
   {
    "duration": 639,
    "start_time": "2023-07-12T17:55:42.397Z"
   },
   {
    "duration": 569,
    "start_time": "2023-07-12T17:56:15.160Z"
   },
   {
    "duration": 607,
    "start_time": "2023-07-12T17:56:27.723Z"
   },
   {
    "duration": 554,
    "start_time": "2023-07-12T17:57:26.973Z"
   },
   {
    "duration": 636,
    "start_time": "2023-07-12T17:58:08.197Z"
   },
   {
    "duration": 636,
    "start_time": "2023-07-12T17:58:16.894Z"
   },
   {
    "duration": 579,
    "start_time": "2023-07-12T17:58:30.265Z"
   },
   {
    "duration": 4,
    "start_time": "2023-07-12T18:03:51.964Z"
   },
   {
    "duration": 5,
    "start_time": "2023-07-12T18:04:20.053Z"
   },
   {
    "duration": 45,
    "start_time": "2023-07-12T18:05:58.702Z"
   },
   {
    "duration": 7,
    "start_time": "2023-07-12T18:06:24.427Z"
   },
   {
    "duration": 3,
    "start_time": "2023-07-12T18:07:33.727Z"
   },
   {
    "duration": 66,
    "start_time": "2023-07-12T18:07:33.732Z"
   },
   {
    "duration": 14,
    "start_time": "2023-07-12T18:07:33.805Z"
   },
   {
    "duration": 70,
    "start_time": "2023-07-12T18:07:33.820Z"
   },
   {
    "duration": 30,
    "start_time": "2023-07-12T18:07:33.891Z"
   },
   {
    "duration": 9,
    "start_time": "2023-07-12T18:07:33.926Z"
   },
   {
    "duration": 12,
    "start_time": "2023-07-12T18:07:33.936Z"
   },
   {
    "duration": 11,
    "start_time": "2023-07-12T18:07:33.949Z"
   },
   {
    "duration": 29,
    "start_time": "2023-07-12T18:07:33.961Z"
   },
   {
    "duration": 4,
    "start_time": "2023-07-12T18:07:33.991Z"
   },
   {
    "duration": 51,
    "start_time": "2023-07-12T18:07:33.996Z"
   },
   {
    "duration": 179,
    "start_time": "2023-07-12T18:07:34.049Z"
   },
   {
    "duration": 623,
    "start_time": "2023-07-12T18:07:34.230Z"
   },
   {
    "duration": 12,
    "start_time": "2023-07-12T18:07:34.855Z"
   },
   {
    "duration": 4,
    "start_time": "2023-07-12T18:07:34.868Z"
   },
   {
    "duration": 607,
    "start_time": "2023-07-12T18:07:34.873Z"
   },
   {
    "duration": 9,
    "start_time": "2023-07-12T18:07:35.482Z"
   },
   {
    "duration": 2216,
    "start_time": "2023-07-12T18:09:46.379Z"
   },
   {
    "duration": 3,
    "start_time": "2023-07-12T18:09:57.840Z"
   },
   {
    "duration": 70,
    "start_time": "2023-07-12T18:09:57.844Z"
   },
   {
    "duration": 12,
    "start_time": "2023-07-12T18:09:57.916Z"
   },
   {
    "duration": 33,
    "start_time": "2023-07-12T18:09:57.929Z"
   },
   {
    "duration": 10,
    "start_time": "2023-07-12T18:09:57.965Z"
   },
   {
    "duration": 8,
    "start_time": "2023-07-12T18:09:57.977Z"
   },
   {
    "duration": 63,
    "start_time": "2023-07-12T18:09:57.986Z"
   },
   {
    "duration": 9,
    "start_time": "2023-07-12T18:09:58.050Z"
   },
   {
    "duration": 15,
    "start_time": "2023-07-12T18:09:58.060Z"
   },
   {
    "duration": 4,
    "start_time": "2023-07-12T18:09:58.076Z"
   },
   {
    "duration": 41,
    "start_time": "2023-07-12T18:09:58.081Z"
   },
   {
    "duration": 203,
    "start_time": "2023-07-12T18:09:58.123Z"
   },
   {
    "duration": 565,
    "start_time": "2023-07-12T18:09:58.327Z"
   },
   {
    "duration": 34,
    "start_time": "2023-07-12T18:09:58.893Z"
   },
   {
    "duration": 1930,
    "start_time": "2023-07-12T18:09:58.928Z"
   },
   {
    "duration": 0,
    "start_time": "2023-07-12T18:10:00.860Z"
   },
   {
    "duration": 0,
    "start_time": "2023-07-12T18:10:00.861Z"
   },
   {
    "duration": 749,
    "start_time": "2023-07-12T18:11:14.623Z"
   },
   {
    "duration": 1005,
    "start_time": "2023-07-12T18:11:39.791Z"
   },
   {
    "duration": 829,
    "start_time": "2023-07-12T18:12:41.163Z"
   },
   {
    "duration": 637,
    "start_time": "2023-07-12T18:12:59.228Z"
   },
   {
    "duration": 1497,
    "start_time": "2023-07-12T18:14:24.530Z"
   },
   {
    "duration": 2,
    "start_time": "2023-07-12T18:15:51.566Z"
   },
   {
    "duration": 80,
    "start_time": "2023-07-12T18:15:51.570Z"
   },
   {
    "duration": 11,
    "start_time": "2023-07-12T18:15:51.651Z"
   },
   {
    "duration": 58,
    "start_time": "2023-07-12T18:15:51.665Z"
   },
   {
    "duration": 11,
    "start_time": "2023-07-12T18:15:51.725Z"
   },
   {
    "duration": 21,
    "start_time": "2023-07-12T18:15:51.737Z"
   },
   {
    "duration": 23,
    "start_time": "2023-07-12T18:15:51.760Z"
   },
   {
    "duration": 9,
    "start_time": "2023-07-12T18:15:51.784Z"
   },
   {
    "duration": 46,
    "start_time": "2023-07-12T18:15:51.795Z"
   },
   {
    "duration": 4,
    "start_time": "2023-07-12T18:15:51.842Z"
   },
   {
    "duration": 23,
    "start_time": "2023-07-12T18:15:51.847Z"
   },
   {
    "duration": 181,
    "start_time": "2023-07-12T18:15:51.872Z"
   },
   {
    "duration": 574,
    "start_time": "2023-07-12T18:15:52.054Z"
   },
   {
    "duration": 12,
    "start_time": "2023-07-12T18:15:52.630Z"
   },
   {
    "duration": 1509,
    "start_time": "2023-07-12T18:15:52.643Z"
   },
   {
    "duration": 1275,
    "start_time": "2023-07-12T18:15:54.153Z"
   },
   {
    "duration": 8,
    "start_time": "2023-07-12T18:15:55.430Z"
   },
   {
    "duration": 203,
    "start_time": "2023-07-12T18:53:26.411Z"
   },
   {
    "duration": 211,
    "start_time": "2023-07-12T18:53:51.313Z"
   },
   {
    "duration": 257,
    "start_time": "2023-07-12T18:55:01.824Z"
   },
   {
    "duration": 204,
    "start_time": "2023-07-12T18:58:19.157Z"
   },
   {
    "duration": 694,
    "start_time": "2023-07-12T19:06:59.152Z"
   },
   {
    "duration": 358,
    "start_time": "2023-07-12T19:08:55.894Z"
   },
   {
    "duration": 332,
    "start_time": "2023-07-12T19:10:40.136Z"
   },
   {
    "duration": 276,
    "start_time": "2023-07-12T19:10:59.540Z"
   },
   {
    "duration": 303,
    "start_time": "2023-07-12T19:11:35.158Z"
   },
   {
    "duration": 285,
    "start_time": "2023-07-12T19:11:41.911Z"
   },
   {
    "duration": 286,
    "start_time": "2023-07-12T19:12:39.622Z"
   },
   {
    "duration": 275,
    "start_time": "2023-07-12T19:13:09.159Z"
   },
   {
    "duration": 334,
    "start_time": "2023-07-12T19:13:25.288Z"
   },
   {
    "duration": 2,
    "start_time": "2023-07-12T19:13:55.040Z"
   },
   {
    "duration": 69,
    "start_time": "2023-07-12T19:13:55.044Z"
   },
   {
    "duration": 12,
    "start_time": "2023-07-12T19:13:55.114Z"
   },
   {
    "duration": 38,
    "start_time": "2023-07-12T19:13:55.127Z"
   },
   {
    "duration": 10,
    "start_time": "2023-07-12T19:13:55.167Z"
   },
   {
    "duration": 36,
    "start_time": "2023-07-12T19:13:55.178Z"
   },
   {
    "duration": 12,
    "start_time": "2023-07-12T19:13:55.215Z"
   },
   {
    "duration": 18,
    "start_time": "2023-07-12T19:13:55.228Z"
   },
   {
    "duration": 18,
    "start_time": "2023-07-12T19:13:55.247Z"
   },
   {
    "duration": 10,
    "start_time": "2023-07-12T19:13:55.266Z"
   },
   {
    "duration": 19,
    "start_time": "2023-07-12T19:13:55.277Z"
   },
   {
    "duration": 199,
    "start_time": "2023-07-12T19:13:55.297Z"
   },
   {
    "duration": 558,
    "start_time": "2023-07-12T19:13:55.502Z"
   },
   {
    "duration": 14,
    "start_time": "2023-07-12T19:13:56.062Z"
   },
   {
    "duration": 737,
    "start_time": "2023-07-12T19:13:56.078Z"
   },
   {
    "duration": 284,
    "start_time": "2023-07-12T19:13:56.818Z"
   },
   {
    "duration": 264,
    "start_time": "2023-07-12T19:13:57.103Z"
   },
   {
    "duration": 264,
    "start_time": "2023-07-12T19:15:04.397Z"
   },
   {
    "duration": 262,
    "start_time": "2023-07-12T19:15:41.861Z"
   },
   {
    "duration": 6,
    "start_time": "2023-07-12T19:20:53.614Z"
   },
   {
    "duration": 6,
    "start_time": "2023-07-12T19:23:28.085Z"
   },
   {
    "duration": 171,
    "start_time": "2023-07-12T19:25:36.459Z"
   },
   {
    "duration": 193,
    "start_time": "2023-07-12T19:26:39.331Z"
   },
   {
    "duration": 190,
    "start_time": "2023-07-12T19:27:30.057Z"
   },
   {
    "duration": 222,
    "start_time": "2023-07-12T19:27:44.948Z"
   },
   {
    "duration": 162,
    "start_time": "2023-07-12T19:27:57.093Z"
   },
   {
    "duration": 190,
    "start_time": "2023-07-12T19:29:09.585Z"
   },
   {
    "duration": 2,
    "start_time": "2023-07-12T19:33:29.596Z"
   },
   {
    "duration": 96,
    "start_time": "2023-07-12T19:33:29.613Z"
   },
   {
    "duration": 11,
    "start_time": "2023-07-12T19:33:29.711Z"
   },
   {
    "duration": 41,
    "start_time": "2023-07-12T19:33:29.725Z"
   },
   {
    "duration": 11,
    "start_time": "2023-07-12T19:33:29.768Z"
   },
   {
    "duration": 46,
    "start_time": "2023-07-12T19:33:29.780Z"
   },
   {
    "duration": 19,
    "start_time": "2023-07-12T19:33:29.828Z"
   },
   {
    "duration": 10,
    "start_time": "2023-07-12T19:33:29.848Z"
   },
   {
    "duration": 71,
    "start_time": "2023-07-12T19:33:29.860Z"
   },
   {
    "duration": 23,
    "start_time": "2023-07-12T19:33:29.932Z"
   },
   {
    "duration": 23,
    "start_time": "2023-07-12T19:33:29.957Z"
   },
   {
    "duration": 190,
    "start_time": "2023-07-12T19:33:29.982Z"
   },
   {
    "duration": 514,
    "start_time": "2023-07-12T19:33:30.173Z"
   },
   {
    "duration": 19,
    "start_time": "2023-07-12T19:33:30.688Z"
   },
   {
    "duration": 812,
    "start_time": "2023-07-12T19:33:30.708Z"
   },
   {
    "duration": 246,
    "start_time": "2023-07-12T19:33:31.522Z"
   },
   {
    "duration": 313,
    "start_time": "2023-07-12T19:33:31.770Z"
   },
   {
    "duration": 6,
    "start_time": "2023-07-12T19:33:32.085Z"
   },
   {
    "duration": 243,
    "start_time": "2023-07-12T19:33:32.100Z"
   },
   {
    "duration": 8,
    "start_time": "2023-07-12T19:40:24.362Z"
   },
   {
    "duration": 10,
    "start_time": "2023-07-12T19:42:09.532Z"
   },
   {
    "duration": 8,
    "start_time": "2023-07-12T19:45:01.953Z"
   },
   {
    "duration": 9,
    "start_time": "2023-07-12T19:46:35.427Z"
   },
   {
    "duration": 9,
    "start_time": "2023-07-12T19:46:45.147Z"
   },
   {
    "duration": 189,
    "start_time": "2023-07-12T19:49:12.311Z"
   },
   {
    "duration": 8,
    "start_time": "2023-07-12T19:50:25.873Z"
   },
   {
    "duration": 9,
    "start_time": "2023-07-12T19:52:50.562Z"
   },
   {
    "duration": 15,
    "start_time": "2023-07-12T20:09:10.090Z"
   },
   {
    "duration": 431,
    "start_time": "2023-07-12T20:09:51.140Z"
   },
   {
    "duration": 65,
    "start_time": "2023-07-12T20:09:51.572Z"
   },
   {
    "duration": 10,
    "start_time": "2023-07-12T20:09:51.639Z"
   },
   {
    "duration": 61,
    "start_time": "2023-07-12T20:09:51.652Z"
   },
   {
    "duration": 10,
    "start_time": "2023-07-12T20:09:51.714Z"
   },
   {
    "duration": 17,
    "start_time": "2023-07-12T20:09:51.726Z"
   },
   {
    "duration": 32,
    "start_time": "2023-07-12T20:09:51.745Z"
   },
   {
    "duration": 18,
    "start_time": "2023-07-12T20:09:51.779Z"
   },
   {
    "duration": 18,
    "start_time": "2023-07-12T20:09:51.798Z"
   },
   {
    "duration": 14,
    "start_time": "2023-07-12T20:09:51.820Z"
   },
   {
    "duration": 33,
    "start_time": "2023-07-12T20:09:51.835Z"
   },
   {
    "duration": 177,
    "start_time": "2023-07-12T20:09:51.869Z"
   },
   {
    "duration": 514,
    "start_time": "2023-07-12T20:09:52.048Z"
   },
   {
    "duration": 12,
    "start_time": "2023-07-12T20:09:52.564Z"
   },
   {
    "duration": 715,
    "start_time": "2023-07-12T20:09:52.577Z"
   },
   {
    "duration": 289,
    "start_time": "2023-07-12T20:09:53.293Z"
   },
   {
    "duration": 282,
    "start_time": "2023-07-12T20:09:53.584Z"
   },
   {
    "duration": 5,
    "start_time": "2023-07-12T20:09:53.867Z"
   },
   {
    "duration": 173,
    "start_time": "2023-07-12T20:09:53.874Z"
   },
   {
    "duration": 8,
    "start_time": "2023-07-12T20:09:54.048Z"
   },
   {
    "duration": 16,
    "start_time": "2023-07-12T20:09:54.057Z"
   },
   {
    "duration": 36,
    "start_time": "2023-07-12T20:09:54.074Z"
   },
   {
    "duration": 11,
    "start_time": "2023-07-12T20:09:54.111Z"
   },
   {
    "duration": 8,
    "start_time": "2023-07-12T20:11:41.886Z"
   },
   {
    "duration": 3,
    "start_time": "2023-07-12T20:16:27.012Z"
   },
   {
    "duration": 69,
    "start_time": "2023-07-12T20:16:27.017Z"
   },
   {
    "duration": 10,
    "start_time": "2023-07-12T20:16:27.088Z"
   },
   {
    "duration": 45,
    "start_time": "2023-07-12T20:16:27.099Z"
   },
   {
    "duration": 10,
    "start_time": "2023-07-12T20:16:27.146Z"
   },
   {
    "duration": 8,
    "start_time": "2023-07-12T20:16:27.157Z"
   },
   {
    "duration": 7,
    "start_time": "2023-07-12T20:16:27.166Z"
   },
   {
    "duration": 14,
    "start_time": "2023-07-12T20:16:27.174Z"
   },
   {
    "duration": 24,
    "start_time": "2023-07-12T20:16:27.189Z"
   },
   {
    "duration": 7,
    "start_time": "2023-07-12T20:16:27.214Z"
   },
   {
    "duration": 33,
    "start_time": "2023-07-12T20:16:27.223Z"
   },
   {
    "duration": 169,
    "start_time": "2023-07-12T20:16:27.258Z"
   },
   {
    "duration": 516,
    "start_time": "2023-07-12T20:16:27.428Z"
   },
   {
    "duration": 10,
    "start_time": "2023-07-12T20:16:27.946Z"
   },
   {
    "duration": 771,
    "start_time": "2023-07-12T20:16:27.957Z"
   },
   {
    "duration": 216,
    "start_time": "2023-07-12T20:16:28.730Z"
   },
   {
    "duration": 273,
    "start_time": "2023-07-12T20:16:28.948Z"
   },
   {
    "duration": 6,
    "start_time": "2023-07-12T20:16:29.222Z"
   },
   {
    "duration": 169,
    "start_time": "2023-07-12T20:16:29.229Z"
   },
   {
    "duration": 9,
    "start_time": "2023-07-12T20:16:29.404Z"
   },
   {
    "duration": 17,
    "start_time": "2023-07-12T20:16:29.414Z"
   },
   {
    "duration": 12,
    "start_time": "2023-07-12T20:16:29.433Z"
   },
   {
    "duration": 12,
    "start_time": "2023-07-12T20:16:29.446Z"
   },
   {
    "duration": 19,
    "start_time": "2023-07-12T20:16:29.459Z"
   },
   {
    "duration": 50,
    "start_time": "2023-07-13T20:22:21.478Z"
   },
   {
    "duration": 1257,
    "start_time": "2023-07-13T20:42:18.616Z"
   },
   {
    "duration": 64,
    "start_time": "2023-07-13T20:42:19.875Z"
   },
   {
    "duration": 19,
    "start_time": "2023-07-13T20:42:19.941Z"
   },
   {
    "duration": 46,
    "start_time": "2023-07-13T20:42:19.962Z"
   },
   {
    "duration": 5,
    "start_time": "2023-07-13T20:42:20.009Z"
   },
   {
    "duration": 357,
    "start_time": "2023-07-13T20:42:20.015Z"
   },
   {
    "duration": 15,
    "start_time": "2023-07-13T20:42:20.374Z"
   },
   {
    "duration": 13,
    "start_time": "2023-07-13T20:42:20.403Z"
   },
   {
    "duration": 18,
    "start_time": "2023-07-13T20:42:20.418Z"
   },
   {
    "duration": 19,
    "start_time": "2023-07-13T20:42:20.439Z"
   },
   {
    "duration": 43,
    "start_time": "2023-07-13T20:42:20.460Z"
   },
   {
    "duration": 5,
    "start_time": "2023-07-13T20:42:20.504Z"
   },
   {
    "duration": 30,
    "start_time": "2023-07-13T20:42:20.511Z"
   },
   {
    "duration": 401,
    "start_time": "2023-07-13T20:42:20.543Z"
   },
   {
    "duration": 1167,
    "start_time": "2023-07-13T20:42:20.946Z"
   },
   {
    "duration": 14,
    "start_time": "2023-07-13T20:42:22.115Z"
   },
   {
    "duration": 1607,
    "start_time": "2023-07-13T20:42:22.130Z"
   },
   {
    "duration": 384,
    "start_time": "2023-07-13T20:42:23.739Z"
   },
   {
    "duration": 620,
    "start_time": "2023-07-13T20:42:24.125Z"
   },
   {
    "duration": 9,
    "start_time": "2023-07-13T20:42:24.748Z"
   },
   {
    "duration": 486,
    "start_time": "2023-07-13T20:42:24.759Z"
   },
   {
    "duration": 11,
    "start_time": "2023-07-13T20:42:25.247Z"
   },
   {
    "duration": 27,
    "start_time": "2023-07-13T20:42:25.260Z"
   },
   {
    "duration": 17,
    "start_time": "2023-07-13T20:42:25.289Z"
   },
   {
    "duration": 14,
    "start_time": "2023-07-13T20:42:25.308Z"
   },
   {
    "duration": 34,
    "start_time": "2023-07-13T20:42:25.324Z"
   },
   {
    "duration": 1378,
    "start_time": "2023-07-14T10:57:11.895Z"
   },
   {
    "duration": 115,
    "start_time": "2023-07-14T10:57:13.276Z"
   },
   {
    "duration": 18,
    "start_time": "2023-07-14T10:57:13.393Z"
   },
   {
    "duration": 40,
    "start_time": "2023-07-14T10:57:13.414Z"
   },
   {
    "duration": 6,
    "start_time": "2023-07-14T10:57:13.456Z"
   },
   {
    "duration": 209,
    "start_time": "2023-07-14T10:57:13.464Z"
   },
   {
    "duration": 21,
    "start_time": "2023-07-14T10:57:13.676Z"
   },
   {
    "duration": 10,
    "start_time": "2023-07-14T10:57:13.699Z"
   },
   {
    "duration": 11,
    "start_time": "2023-07-14T10:57:13.711Z"
   },
   {
    "duration": 12,
    "start_time": "2023-07-14T10:57:13.752Z"
   },
   {
    "duration": 17,
    "start_time": "2023-07-14T10:57:13.766Z"
   },
   {
    "duration": 7,
    "start_time": "2023-07-14T10:57:13.786Z"
   },
   {
    "duration": 58,
    "start_time": "2023-07-14T10:57:13.795Z"
   },
   {
    "duration": 247,
    "start_time": "2023-07-14T10:57:13.856Z"
   },
   {
    "duration": 680,
    "start_time": "2023-07-14T10:57:14.105Z"
   },
   {
    "duration": 15,
    "start_time": "2023-07-14T10:57:14.787Z"
   },
   {
    "duration": 1053,
    "start_time": "2023-07-14T10:57:14.804Z"
   },
   {
    "duration": 283,
    "start_time": "2023-07-14T10:57:15.858Z"
   },
   {
    "duration": 346,
    "start_time": "2023-07-14T10:57:16.144Z"
   },
   {
    "duration": 8,
    "start_time": "2023-07-14T10:57:16.494Z"
   },
   {
    "duration": 266,
    "start_time": "2023-07-14T10:57:16.504Z"
   },
   {
    "duration": 13,
    "start_time": "2023-07-14T10:57:16.773Z"
   },
   {
    "duration": 68,
    "start_time": "2023-07-14T10:57:16.789Z"
   },
   {
    "duration": 21,
    "start_time": "2023-07-14T10:57:16.859Z"
   },
   {
    "duration": 70,
    "start_time": "2023-07-14T10:57:16.882Z"
   },
   {
    "duration": 12,
    "start_time": "2023-07-14T10:57:16.956Z"
   },
   {
    "duration": 93,
    "start_time": "2023-07-14T10:57:41.207Z"
   },
   {
    "duration": 5,
    "start_time": "2023-07-14T11:00:07.394Z"
   },
   {
    "duration": 168,
    "start_time": "2023-07-14T11:00:08.700Z"
   },
   {
    "duration": 1285,
    "start_time": "2023-07-15T19:07:33.163Z"
   },
   {
    "duration": 134,
    "start_time": "2023-07-15T19:07:34.450Z"
   },
   {
    "duration": 15,
    "start_time": "2023-07-15T19:07:34.586Z"
   },
   {
    "duration": 70,
    "start_time": "2023-07-15T19:07:34.603Z"
   },
   {
    "duration": 5,
    "start_time": "2023-07-15T19:07:34.675Z"
   },
   {
    "duration": 216,
    "start_time": "2023-07-15T19:07:34.682Z"
   },
   {
    "duration": 11,
    "start_time": "2023-07-15T19:07:34.900Z"
   },
   {
    "duration": 31,
    "start_time": "2023-07-15T19:07:34.913Z"
   },
   {
    "duration": 11,
    "start_time": "2023-07-15T19:07:34.945Z"
   },
   {
    "duration": 12,
    "start_time": "2023-07-15T19:07:34.957Z"
   },
   {
    "duration": 15,
    "start_time": "2023-07-15T19:07:34.971Z"
   },
   {
    "duration": 4,
    "start_time": "2023-07-15T19:07:34.987Z"
   },
   {
    "duration": 33,
    "start_time": "2023-07-15T19:07:34.992Z"
   },
   {
    "duration": 190,
    "start_time": "2023-07-15T19:07:35.027Z"
   },
   {
    "duration": 568,
    "start_time": "2023-07-15T19:07:35.219Z"
   },
   {
    "duration": 12,
    "start_time": "2023-07-15T19:07:35.789Z"
   },
   {
    "duration": 825,
    "start_time": "2023-07-15T19:07:35.802Z"
   },
   {
    "duration": 235,
    "start_time": "2023-07-15T19:07:36.631Z"
   },
   {
    "duration": 279,
    "start_time": "2023-07-15T19:07:36.867Z"
   },
   {
    "duration": 5,
    "start_time": "2023-07-15T19:07:37.148Z"
   },
   {
    "duration": 188,
    "start_time": "2023-07-15T19:07:37.155Z"
   },
   {
    "duration": 11,
    "start_time": "2023-07-15T19:07:37.346Z"
   },
   {
    "duration": 20,
    "start_time": "2023-07-15T19:07:37.359Z"
   },
   {
    "duration": 17,
    "start_time": "2023-07-15T19:07:37.381Z"
   },
   {
    "duration": 15,
    "start_time": "2023-07-15T19:07:37.400Z"
   },
   {
    "duration": 37,
    "start_time": "2023-07-15T19:07:37.416Z"
   },
   {
    "duration": 43,
    "start_time": "2023-07-15T19:09:40.979Z"
   },
   {
    "duration": 59,
    "start_time": "2023-07-15T19:09:51.321Z"
   },
   {
    "duration": 6,
    "start_time": "2023-07-15T19:10:00.561Z"
   },
   {
    "duration": 142,
    "start_time": "2023-07-15T19:10:00.568Z"
   },
   {
    "duration": 14,
    "start_time": "2023-07-15T19:10:00.712Z"
   },
   {
    "duration": 146,
    "start_time": "2023-07-15T19:10:00.728Z"
   },
   {
    "duration": 6,
    "start_time": "2023-07-15T19:10:00.875Z"
   },
   {
    "duration": 261,
    "start_time": "2023-07-15T19:10:00.882Z"
   },
   {
    "duration": 15,
    "start_time": "2023-07-15T19:10:01.145Z"
   },
   {
    "duration": 43,
    "start_time": "2023-07-15T19:10:01.162Z"
   },
   {
    "duration": 70,
    "start_time": "2023-07-15T19:10:01.207Z"
   },
   {
    "duration": 51,
    "start_time": "2023-07-15T19:10:01.279Z"
   },
   {
    "duration": 48,
    "start_time": "2023-07-15T19:10:01.331Z"
   },
   {
    "duration": 29,
    "start_time": "2023-07-15T19:10:01.380Z"
   },
   {
    "duration": 92,
    "start_time": "2023-07-15T19:10:01.411Z"
   },
   {
    "duration": 248,
    "start_time": "2023-07-15T19:10:01.504Z"
   },
   {
    "duration": 613,
    "start_time": "2023-07-15T19:10:01.754Z"
   },
   {
    "duration": 15,
    "start_time": "2023-07-15T19:10:02.368Z"
   },
   {
    "duration": 931,
    "start_time": "2023-07-15T19:10:02.384Z"
   },
   {
    "duration": 553,
    "start_time": "2023-07-15T19:10:03.316Z"
   },
   {
    "duration": 588,
    "start_time": "2023-07-15T19:10:03.870Z"
   },
   {
    "duration": 5,
    "start_time": "2023-07-15T19:10:04.460Z"
   },
   {
    "duration": 483,
    "start_time": "2023-07-15T19:10:04.467Z"
   },
   {
    "duration": 13,
    "start_time": "2023-07-15T19:10:04.952Z"
   },
   {
    "duration": 73,
    "start_time": "2023-07-15T19:10:04.967Z"
   },
   {
    "duration": 42,
    "start_time": "2023-07-15T19:10:05.043Z"
   },
   {
    "duration": 46,
    "start_time": "2023-07-15T19:10:05.087Z"
   },
   {
    "duration": 57,
    "start_time": "2023-07-15T19:10:05.135Z"
   },
   {
    "duration": 65,
    "start_time": "2023-07-15T19:10:25.692Z"
   },
   {
    "duration": 78,
    "start_time": "2023-07-15T19:10:40.610Z"
   },
   {
    "duration": 14,
    "start_time": "2023-07-15T19:10:43.502Z"
   },
   {
    "duration": 61,
    "start_time": "2023-07-15T19:10:47.431Z"
   },
   {
    "duration": 3,
    "start_time": "2023-07-15T19:11:03.048Z"
   },
   {
    "duration": 92,
    "start_time": "2023-07-15T19:11:03.053Z"
   },
   {
    "duration": 11,
    "start_time": "2023-07-15T19:11:03.147Z"
   },
   {
    "duration": 60,
    "start_time": "2023-07-15T19:11:03.159Z"
   },
   {
    "duration": 4,
    "start_time": "2023-07-15T19:11:03.220Z"
   },
   {
    "duration": 173,
    "start_time": "2023-07-15T19:11:03.231Z"
   },
   {
    "duration": 14,
    "start_time": "2023-07-15T19:11:03.406Z"
   },
   {
    "duration": 31,
    "start_time": "2023-07-15T19:11:03.421Z"
   },
   {
    "duration": 38,
    "start_time": "2023-07-15T19:11:03.454Z"
   },
   {
    "duration": 22,
    "start_time": "2023-07-15T19:11:03.493Z"
   },
   {
    "duration": 15,
    "start_time": "2023-07-15T19:11:03.516Z"
   },
   {
    "duration": 14,
    "start_time": "2023-07-15T19:11:03.544Z"
   },
   {
    "duration": 32,
    "start_time": "2023-07-15T19:11:03.561Z"
   },
   {
    "duration": 275,
    "start_time": "2023-07-15T19:11:03.595Z"
   },
   {
    "duration": 572,
    "start_time": "2023-07-15T19:11:03.871Z"
   },
   {
    "duration": 14,
    "start_time": "2023-07-15T19:11:04.445Z"
   },
   {
    "duration": 849,
    "start_time": "2023-07-15T19:11:04.461Z"
   },
   {
    "duration": 242,
    "start_time": "2023-07-15T19:11:05.311Z"
   },
   {
    "duration": 344,
    "start_time": "2023-07-15T19:11:05.555Z"
   },
   {
    "duration": 6,
    "start_time": "2023-07-15T19:11:05.901Z"
   },
   {
    "duration": 212,
    "start_time": "2023-07-15T19:11:05.908Z"
   },
   {
    "duration": 15,
    "start_time": "2023-07-15T19:11:06.121Z"
   },
   {
    "duration": 42,
    "start_time": "2023-07-15T19:11:06.139Z"
   },
   {
    "duration": 9,
    "start_time": "2023-07-15T19:11:06.183Z"
   },
   {
    "duration": 16,
    "start_time": "2023-07-15T19:11:06.194Z"
   },
   {
    "duration": 29,
    "start_time": "2023-07-15T19:11:06.212Z"
   },
   {
    "duration": 14,
    "start_time": "2023-07-15T19:16:31.971Z"
   },
   {
    "duration": 46,
    "start_time": "2023-07-15T19:19:15.562Z"
   },
   {
    "duration": 66,
    "start_time": "2023-07-15T19:19:25.777Z"
   },
   {
    "duration": 4,
    "start_time": "2023-07-15T19:19:28.992Z"
   },
   {
    "duration": 92,
    "start_time": "2023-07-15T19:19:28.997Z"
   },
   {
    "duration": 11,
    "start_time": "2023-07-15T19:19:29.091Z"
   },
   {
    "duration": 78,
    "start_time": "2023-07-15T19:19:29.104Z"
   },
   {
    "duration": 3,
    "start_time": "2023-07-15T19:19:29.184Z"
   },
   {
    "duration": 165,
    "start_time": "2023-07-15T19:19:29.188Z"
   },
   {
    "duration": 12,
    "start_time": "2023-07-15T19:19:29.354Z"
   },
   {
    "duration": 9,
    "start_time": "2023-07-15T19:19:29.367Z"
   },
   {
    "duration": 9,
    "start_time": "2023-07-15T19:19:29.378Z"
   },
   {
    "duration": 13,
    "start_time": "2023-07-15T19:19:29.388Z"
   },
   {
    "duration": 46,
    "start_time": "2023-07-15T19:19:29.402Z"
   },
   {
    "duration": 4,
    "start_time": "2023-07-15T19:19:29.450Z"
   },
   {
    "duration": 39,
    "start_time": "2023-07-15T19:19:29.455Z"
   },
   {
    "duration": 191,
    "start_time": "2023-07-15T19:19:29.496Z"
   },
   {
    "duration": 566,
    "start_time": "2023-07-15T19:19:29.689Z"
   },
   {
    "duration": 12,
    "start_time": "2023-07-15T19:19:30.257Z"
   },
   {
    "duration": 896,
    "start_time": "2023-07-15T19:19:30.271Z"
   },
   {
    "duration": 274,
    "start_time": "2023-07-15T19:19:31.170Z"
   },
   {
    "duration": 432,
    "start_time": "2023-07-15T19:19:31.446Z"
   },
   {
    "duration": 54,
    "start_time": "2023-07-15T19:19:31.879Z"
   },
   {
    "duration": 443,
    "start_time": "2023-07-15T19:19:31.934Z"
   },
   {
    "duration": 73,
    "start_time": "2023-07-15T19:19:32.379Z"
   },
   {
    "duration": 31,
    "start_time": "2023-07-15T19:19:32.453Z"
   },
   {
    "duration": 68,
    "start_time": "2023-07-15T19:19:32.487Z"
   },
   {
    "duration": 25,
    "start_time": "2023-07-15T19:19:32.557Z"
   },
   {
    "duration": 88,
    "start_time": "2023-07-15T19:19:32.584Z"
   },
   {
    "duration": 62,
    "start_time": "2023-07-15T19:20:09.321Z"
   },
   {
    "duration": 2,
    "start_time": "2023-07-15T19:20:21.020Z"
   },
   {
    "duration": 81,
    "start_time": "2023-07-15T19:20:21.067Z"
   },
   {
    "duration": 15,
    "start_time": "2023-07-15T19:20:21.149Z"
   },
   {
    "duration": 75,
    "start_time": "2023-07-15T19:20:21.166Z"
   },
   {
    "duration": 4,
    "start_time": "2023-07-15T19:20:21.243Z"
   },
   {
    "duration": 170,
    "start_time": "2023-07-15T19:20:21.249Z"
   },
   {
    "duration": 24,
    "start_time": "2023-07-15T19:20:21.421Z"
   },
   {
    "duration": 9,
    "start_time": "2023-07-15T19:20:21.447Z"
   },
   {
    "duration": 11,
    "start_time": "2023-07-15T19:20:21.457Z"
   },
   {
    "duration": 8,
    "start_time": "2023-07-15T19:20:21.470Z"
   },
   {
    "duration": 12,
    "start_time": "2023-07-15T19:20:21.480Z"
   },
   {
    "duration": 3,
    "start_time": "2023-07-15T19:20:21.494Z"
   },
   {
    "duration": 55,
    "start_time": "2023-07-15T19:20:21.499Z"
   },
   {
    "duration": 207,
    "start_time": "2023-07-15T19:20:21.555Z"
   },
   {
    "duration": 682,
    "start_time": "2023-07-15T19:20:21.766Z"
   },
   {
    "duration": 12,
    "start_time": "2023-07-15T19:20:22.449Z"
   },
   {
    "duration": 1314,
    "start_time": "2023-07-15T19:20:22.463Z"
   },
   {
    "duration": 581,
    "start_time": "2023-07-15T19:20:23.779Z"
   },
   {
    "duration": 534,
    "start_time": "2023-07-15T19:20:24.363Z"
   },
   {
    "duration": 6,
    "start_time": "2023-07-15T19:20:24.898Z"
   },
   {
    "duration": 188,
    "start_time": "2023-07-15T19:20:24.906Z"
   },
   {
    "duration": 9,
    "start_time": "2023-07-15T19:20:25.095Z"
   },
   {
    "duration": 16,
    "start_time": "2023-07-15T19:20:25.105Z"
   },
   {
    "duration": 28,
    "start_time": "2023-07-15T19:20:25.122Z"
   },
   {
    "duration": 12,
    "start_time": "2023-07-15T19:20:25.151Z"
   },
   {
    "duration": 29,
    "start_time": "2023-07-15T19:20:25.164Z"
   },
   {
    "duration": 52,
    "start_time": "2023-07-15T19:20:49.213Z"
   },
   {
    "duration": 44,
    "start_time": "2023-07-15T19:21:18.145Z"
   },
   {
    "duration": 3,
    "start_time": "2023-07-15T19:21:30.302Z"
   },
   {
    "duration": 191,
    "start_time": "2023-07-15T19:21:30.307Z"
   },
   {
    "duration": 12,
    "start_time": "2023-07-15T19:21:30.500Z"
   },
   {
    "duration": 155,
    "start_time": "2023-07-15T19:21:30.514Z"
   },
   {
    "duration": 3,
    "start_time": "2023-07-15T19:21:30.671Z"
   },
   {
    "duration": 198,
    "start_time": "2023-07-15T19:21:30.676Z"
   },
   {
    "duration": 12,
    "start_time": "2023-07-15T19:21:30.876Z"
   },
   {
    "duration": 31,
    "start_time": "2023-07-15T19:21:30.889Z"
   },
   {
    "duration": 48,
    "start_time": "2023-07-15T19:21:30.922Z"
   },
   {
    "duration": 46,
    "start_time": "2023-07-15T19:21:30.972Z"
   },
   {
    "duration": 44,
    "start_time": "2023-07-15T19:21:31.020Z"
   },
   {
    "duration": 19,
    "start_time": "2023-07-15T19:21:31.066Z"
   },
   {
    "duration": 67,
    "start_time": "2023-07-15T19:21:31.086Z"
   },
   {
    "duration": 199,
    "start_time": "2023-07-15T19:21:31.156Z"
   },
   {
    "duration": 622,
    "start_time": "2023-07-15T19:21:31.357Z"
   },
   {
    "duration": 13,
    "start_time": "2023-07-15T19:21:31.981Z"
   },
   {
    "duration": 814,
    "start_time": "2023-07-15T19:21:31.996Z"
   },
   {
    "duration": 317,
    "start_time": "2023-07-15T19:21:32.812Z"
   },
   {
    "duration": 281,
    "start_time": "2023-07-15T19:21:33.131Z"
   },
   {
    "duration": 7,
    "start_time": "2023-07-15T19:21:33.413Z"
   },
   {
    "duration": 229,
    "start_time": "2023-07-15T19:21:33.421Z"
   },
   {
    "duration": 15,
    "start_time": "2023-07-15T19:21:33.654Z"
   },
   {
    "duration": 24,
    "start_time": "2023-07-15T19:21:33.671Z"
   },
   {
    "duration": 20,
    "start_time": "2023-07-15T19:21:33.696Z"
   },
   {
    "duration": 8,
    "start_time": "2023-07-15T19:21:33.718Z"
   },
   {
    "duration": 35,
    "start_time": "2023-07-15T19:21:33.727Z"
   },
   {
    "duration": 1165,
    "start_time": "2023-07-15T19:22:18.956Z"
   },
   {
    "duration": 87,
    "start_time": "2023-07-15T19:22:20.122Z"
   },
   {
    "duration": 16,
    "start_time": "2023-07-15T19:22:20.211Z"
   },
   {
    "duration": 78,
    "start_time": "2023-07-15T19:22:20.229Z"
   },
   {
    "duration": 6,
    "start_time": "2023-07-15T19:22:20.309Z"
   },
   {
    "duration": 209,
    "start_time": "2023-07-15T19:22:20.317Z"
   },
   {
    "duration": 21,
    "start_time": "2023-07-15T19:22:20.527Z"
   },
   {
    "duration": 18,
    "start_time": "2023-07-15T19:22:20.550Z"
   },
   {
    "duration": 25,
    "start_time": "2023-07-15T19:22:20.570Z"
   },
   {
    "duration": 19,
    "start_time": "2023-07-15T19:22:20.597Z"
   },
   {
    "duration": 17,
    "start_time": "2023-07-15T19:22:20.618Z"
   },
   {
    "duration": 20,
    "start_time": "2023-07-15T19:22:20.644Z"
   },
   {
    "duration": 57,
    "start_time": "2023-07-15T19:22:20.666Z"
   },
   {
    "duration": 202,
    "start_time": "2023-07-15T19:22:20.724Z"
   },
   {
    "duration": 755,
    "start_time": "2023-07-15T19:22:20.928Z"
   },
   {
    "duration": 64,
    "start_time": "2023-07-15T19:22:21.685Z"
   },
   {
    "duration": 1784,
    "start_time": "2023-07-15T19:22:21.751Z"
   },
   {
    "duration": 250,
    "start_time": "2023-07-15T19:22:23.544Z"
   },
   {
    "duration": 281,
    "start_time": "2023-07-15T19:22:23.795Z"
   },
   {
    "duration": 6,
    "start_time": "2023-07-15T19:22:24.077Z"
   },
   {
    "duration": 197,
    "start_time": "2023-07-15T19:22:24.084Z"
   },
   {
    "duration": 11,
    "start_time": "2023-07-15T19:22:24.282Z"
   },
   {
    "duration": 50,
    "start_time": "2023-07-15T19:22:24.294Z"
   },
   {
    "duration": 24,
    "start_time": "2023-07-15T19:22:24.346Z"
   },
   {
    "duration": 7,
    "start_time": "2023-07-15T19:22:24.372Z"
   },
   {
    "duration": 29,
    "start_time": "2023-07-15T19:22:24.381Z"
   },
   {
    "duration": 56,
    "start_time": "2023-07-15T19:23:29.790Z"
   },
   {
    "duration": 1160,
    "start_time": "2023-07-15T19:23:44.523Z"
   },
   {
    "duration": 82,
    "start_time": "2023-07-15T19:23:45.685Z"
   },
   {
    "duration": 11,
    "start_time": "2023-07-15T19:23:45.768Z"
   },
   {
    "duration": 67,
    "start_time": "2023-07-15T19:23:45.781Z"
   },
   {
    "duration": 4,
    "start_time": "2023-07-15T19:23:45.852Z"
   },
   {
    "duration": 168,
    "start_time": "2023-07-15T19:23:45.857Z"
   },
   {
    "duration": 14,
    "start_time": "2023-07-15T19:23:46.027Z"
   },
   {
    "duration": 13,
    "start_time": "2023-07-15T19:23:46.045Z"
   },
   {
    "duration": 8,
    "start_time": "2023-07-15T19:23:46.060Z"
   },
   {
    "duration": 12,
    "start_time": "2023-07-15T19:23:46.070Z"
   },
   {
    "duration": 15,
    "start_time": "2023-07-15T19:23:46.083Z"
   },
   {
    "duration": 4,
    "start_time": "2023-07-15T19:23:46.099Z"
   },
   {
    "duration": 48,
    "start_time": "2023-07-15T19:23:46.104Z"
   },
   {
    "duration": 208,
    "start_time": "2023-07-15T19:23:46.153Z"
   },
   {
    "duration": 987,
    "start_time": "2023-07-15T19:23:46.363Z"
   },
   {
    "duration": 13,
    "start_time": "2023-07-15T19:23:47.352Z"
   },
   {
    "duration": 1462,
    "start_time": "2023-07-15T19:23:47.366Z"
   },
   {
    "duration": 251,
    "start_time": "2023-07-15T19:23:48.831Z"
   },
   {
    "duration": 279,
    "start_time": "2023-07-15T19:23:49.084Z"
   },
   {
    "duration": 5,
    "start_time": "2023-07-15T19:23:49.364Z"
   },
   {
    "duration": 258,
    "start_time": "2023-07-15T19:23:49.371Z"
   },
   {
    "duration": 8,
    "start_time": "2023-07-15T19:23:49.641Z"
   },
   {
    "duration": 22,
    "start_time": "2023-07-15T19:23:49.651Z"
   },
   {
    "duration": 16,
    "start_time": "2023-07-15T19:23:49.675Z"
   },
   {
    "duration": 8,
    "start_time": "2023-07-15T19:23:49.693Z"
   },
   {
    "duration": 25,
    "start_time": "2023-07-15T19:23:49.703Z"
   },
   {
    "duration": 1048,
    "start_time": "2023-07-15T19:24:26.624Z"
   },
   {
    "duration": 83,
    "start_time": "2023-07-15T19:24:27.674Z"
   },
   {
    "duration": 11,
    "start_time": "2023-07-15T19:24:27.759Z"
   },
   {
    "duration": 73,
    "start_time": "2023-07-15T19:24:27.772Z"
   },
   {
    "duration": 4,
    "start_time": "2023-07-15T19:24:27.849Z"
   },
   {
    "duration": 171,
    "start_time": "2023-07-15T19:24:27.854Z"
   },
   {
    "duration": 25,
    "start_time": "2023-07-15T19:24:28.026Z"
   },
   {
    "duration": 24,
    "start_time": "2023-07-15T19:24:28.062Z"
   },
   {
    "duration": 12,
    "start_time": "2023-07-15T19:24:28.088Z"
   },
   {
    "duration": 17,
    "start_time": "2023-07-15T19:24:28.102Z"
   },
   {
    "duration": 6,
    "start_time": "2023-07-15T19:24:28.120Z"
   },
   {
    "duration": 33,
    "start_time": "2023-07-15T19:24:28.127Z"
   },
   {
    "duration": 188,
    "start_time": "2023-07-15T19:24:28.162Z"
   },
   {
    "duration": 558,
    "start_time": "2023-07-15T19:24:28.352Z"
   },
   {
    "duration": 29,
    "start_time": "2023-07-15T19:24:28.912Z"
   },
   {
    "duration": 1296,
    "start_time": "2023-07-15T19:24:28.943Z"
   },
   {
    "duration": 530,
    "start_time": "2023-07-15T19:24:30.240Z"
   },
   {
    "duration": 601,
    "start_time": "2023-07-15T19:24:30.772Z"
   },
   {
    "duration": 6,
    "start_time": "2023-07-15T19:24:31.375Z"
   },
   {
    "duration": 482,
    "start_time": "2023-07-15T19:24:31.382Z"
   },
   {
    "duration": 68,
    "start_time": "2023-07-15T19:24:31.866Z"
   },
   {
    "duration": 15,
    "start_time": "2023-07-15T19:24:31.936Z"
   },
   {
    "duration": 24,
    "start_time": "2023-07-15T19:24:31.953Z"
   },
   {
    "duration": 58,
    "start_time": "2023-07-15T19:24:31.979Z"
   },
   {
    "duration": 25,
    "start_time": "2023-07-15T19:24:32.048Z"
   },
   {
    "duration": 1063,
    "start_time": "2023-07-15T19:25:47.717Z"
   },
   {
    "duration": 81,
    "start_time": "2023-07-15T19:25:48.782Z"
   },
   {
    "duration": 10,
    "start_time": "2023-07-15T19:25:48.865Z"
   },
   {
    "duration": 68,
    "start_time": "2023-07-15T19:25:48.877Z"
   },
   {
    "duration": 4,
    "start_time": "2023-07-15T19:25:48.947Z"
   },
   {
    "duration": 169,
    "start_time": "2023-07-15T19:25:48.952Z"
   },
   {
    "duration": 21,
    "start_time": "2023-07-15T19:25:49.123Z"
   },
   {
    "duration": 10,
    "start_time": "2023-07-15T19:25:49.148Z"
   },
   {
    "duration": 14,
    "start_time": "2023-07-15T19:25:49.159Z"
   },
   {
    "duration": 9,
    "start_time": "2023-07-15T19:25:49.175Z"
   },
   {
    "duration": 25,
    "start_time": "2023-07-15T19:25:49.186Z"
   },
   {
    "duration": 218,
    "start_time": "2023-07-15T19:25:49.213Z"
   },
   {
    "duration": 1206,
    "start_time": "2023-07-15T19:25:49.435Z"
   },
   {
    "duration": 15,
    "start_time": "2023-07-15T19:25:50.643Z"
   },
   {
    "duration": 1710,
    "start_time": "2023-07-15T19:25:50.660Z"
   },
   {
    "duration": 499,
    "start_time": "2023-07-15T19:25:52.372Z"
   },
   {
    "duration": 562,
    "start_time": "2023-07-15T19:25:52.872Z"
   },
   {
    "duration": 6,
    "start_time": "2023-07-15T19:25:53.436Z"
   },
   {
    "duration": 394,
    "start_time": "2023-07-15T19:25:53.444Z"
   },
   {
    "duration": 10,
    "start_time": "2023-07-15T19:25:53.840Z"
   },
   {
    "duration": 11,
    "start_time": "2023-07-15T19:25:53.851Z"
   },
   {
    "duration": 8,
    "start_time": "2023-07-15T19:25:53.863Z"
   },
   {
    "duration": 70,
    "start_time": "2023-07-15T19:25:53.873Z"
   },
   {
    "duration": 17,
    "start_time": "2023-07-15T19:25:53.944Z"
   },
   {
    "duration": 3,
    "start_time": "2023-07-15T19:27:14.070Z"
   },
   {
    "duration": 83,
    "start_time": "2023-07-15T19:27:14.078Z"
   },
   {
    "duration": 13,
    "start_time": "2023-07-15T19:27:14.162Z"
   },
   {
    "duration": 67,
    "start_time": "2023-07-15T19:27:14.177Z"
   },
   {
    "duration": 5,
    "start_time": "2023-07-15T19:27:14.246Z"
   },
   {
    "duration": 170,
    "start_time": "2023-07-15T19:27:14.253Z"
   },
   {
    "duration": 19,
    "start_time": "2023-07-15T19:27:14.424Z"
   },
   {
    "duration": 13,
    "start_time": "2023-07-15T19:27:14.446Z"
   },
   {
    "duration": 20,
    "start_time": "2023-07-15T19:27:14.461Z"
   },
   {
    "duration": 4,
    "start_time": "2023-07-15T19:27:14.483Z"
   },
   {
    "duration": 28,
    "start_time": "2023-07-15T19:27:14.489Z"
   },
   {
    "duration": 269,
    "start_time": "2023-07-15T19:27:14.539Z"
   },
   {
    "duration": 641,
    "start_time": "2023-07-15T19:27:14.810Z"
   },
   {
    "duration": 14,
    "start_time": "2023-07-15T19:27:15.453Z"
   },
   {
    "duration": 931,
    "start_time": "2023-07-15T19:27:15.469Z"
   },
   {
    "duration": 274,
    "start_time": "2023-07-15T19:27:16.402Z"
   },
   {
    "duration": 307,
    "start_time": "2023-07-15T19:27:16.678Z"
   },
   {
    "duration": 6,
    "start_time": "2023-07-15T19:27:16.986Z"
   },
   {
    "duration": 189,
    "start_time": "2023-07-15T19:27:16.993Z"
   },
   {
    "duration": 8,
    "start_time": "2023-07-15T19:27:17.184Z"
   },
   {
    "duration": 13,
    "start_time": "2023-07-15T19:27:17.194Z"
   },
   {
    "duration": 31,
    "start_time": "2023-07-15T19:27:17.209Z"
   },
   {
    "duration": 10,
    "start_time": "2023-07-15T19:27:17.244Z"
   },
   {
    "duration": 20,
    "start_time": "2023-07-15T19:27:17.256Z"
   },
   {
    "duration": 3,
    "start_time": "2023-07-15T19:27:51.294Z"
   },
   {
    "duration": 82,
    "start_time": "2023-07-15T19:27:51.301Z"
   },
   {
    "duration": 12,
    "start_time": "2023-07-15T19:27:51.384Z"
   },
   {
    "duration": 84,
    "start_time": "2023-07-15T19:27:51.398Z"
   },
   {
    "duration": 4,
    "start_time": "2023-07-15T19:27:51.484Z"
   },
   {
    "duration": 184,
    "start_time": "2023-07-15T19:27:51.490Z"
   },
   {
    "duration": 13,
    "start_time": "2023-07-15T19:27:51.675Z"
   },
   {
    "duration": 13,
    "start_time": "2023-07-15T19:27:51.689Z"
   },
   {
    "duration": 43,
    "start_time": "2023-07-15T19:27:51.703Z"
   },
   {
    "duration": 4,
    "start_time": "2023-07-15T19:27:51.748Z"
   },
   {
    "duration": 31,
    "start_time": "2023-07-15T19:27:51.753Z"
   },
   {
    "duration": 265,
    "start_time": "2023-07-15T19:27:51.786Z"
   },
   {
    "duration": 582,
    "start_time": "2023-07-15T19:27:52.053Z"
   },
   {
    "duration": 14,
    "start_time": "2023-07-15T19:27:52.645Z"
   },
   {
    "duration": 818,
    "start_time": "2023-07-15T19:27:52.662Z"
   },
   {
    "duration": 572,
    "start_time": "2023-07-15T19:27:53.482Z"
   },
   {
    "duration": 915,
    "start_time": "2023-07-15T19:27:54.056Z"
   },
   {
    "duration": 6,
    "start_time": "2023-07-15T19:27:54.972Z"
   },
   {
    "duration": 514,
    "start_time": "2023-07-15T19:27:54.980Z"
   },
   {
    "duration": 10,
    "start_time": "2023-07-15T19:27:55.496Z"
   },
   {
    "duration": 41,
    "start_time": "2023-07-15T19:27:55.508Z"
   },
   {
    "duration": 19,
    "start_time": "2023-07-15T19:27:55.550Z"
   },
   {
    "duration": 10,
    "start_time": "2023-07-15T19:27:55.571Z"
   },
   {
    "duration": 14,
    "start_time": "2023-07-15T19:27:55.583Z"
   },
   {
    "duration": 3,
    "start_time": "2023-07-15T19:28:14.292Z"
   },
   {
    "duration": 76,
    "start_time": "2023-07-15T19:28:14.300Z"
   },
   {
    "duration": 10,
    "start_time": "2023-07-15T19:28:14.378Z"
   },
   {
    "duration": 69,
    "start_time": "2023-07-15T19:28:14.390Z"
   },
   {
    "duration": 5,
    "start_time": "2023-07-15T19:28:14.461Z"
   },
   {
    "duration": 181,
    "start_time": "2023-07-15T19:28:14.468Z"
   },
   {
    "duration": 16,
    "start_time": "2023-07-15T19:28:14.652Z"
   },
   {
    "duration": 21,
    "start_time": "2023-07-15T19:28:14.670Z"
   },
   {
    "duration": 28,
    "start_time": "2023-07-15T19:28:14.693Z"
   },
   {
    "duration": 15,
    "start_time": "2023-07-15T19:28:14.724Z"
   },
   {
    "duration": 36,
    "start_time": "2023-07-15T19:28:14.741Z"
   },
   {
    "duration": 222,
    "start_time": "2023-07-15T19:28:14.780Z"
   },
   {
    "duration": 577,
    "start_time": "2023-07-15T19:28:15.004Z"
   },
   {
    "duration": 13,
    "start_time": "2023-07-15T19:28:15.583Z"
   },
   {
    "duration": 1740,
    "start_time": "2023-07-15T19:28:15.600Z"
   },
   {
    "duration": 460,
    "start_time": "2023-07-15T19:28:17.342Z"
   },
   {
    "duration": 334,
    "start_time": "2023-07-15T19:28:17.804Z"
   },
   {
    "duration": 8,
    "start_time": "2023-07-15T19:28:18.144Z"
   },
   {
    "duration": 187,
    "start_time": "2023-07-15T19:28:18.154Z"
   },
   {
    "duration": 11,
    "start_time": "2023-07-15T19:28:18.348Z"
   },
   {
    "duration": 21,
    "start_time": "2023-07-15T19:28:18.361Z"
   },
   {
    "duration": 20,
    "start_time": "2023-07-15T19:28:18.385Z"
   },
   {
    "duration": 7,
    "start_time": "2023-07-15T19:28:18.406Z"
   },
   {
    "duration": 30,
    "start_time": "2023-07-15T19:28:18.415Z"
   },
   {
    "duration": 4,
    "start_time": "2023-07-15T19:28:32.762Z"
   },
   {
    "duration": 89,
    "start_time": "2023-07-15T19:28:32.770Z"
   },
   {
    "duration": 11,
    "start_time": "2023-07-15T19:28:32.861Z"
   },
   {
    "duration": 72,
    "start_time": "2023-07-15T19:28:32.874Z"
   },
   {
    "duration": 5,
    "start_time": "2023-07-15T19:28:32.947Z"
   },
   {
    "duration": 166,
    "start_time": "2023-07-15T19:28:32.954Z"
   },
   {
    "duration": 31,
    "start_time": "2023-07-15T19:28:33.121Z"
   },
   {
    "duration": 8,
    "start_time": "2023-07-15T19:28:33.154Z"
   },
   {
    "duration": 21,
    "start_time": "2023-07-15T19:28:33.163Z"
   },
   {
    "duration": 4,
    "start_time": "2023-07-15T19:28:33.186Z"
   },
   {
    "duration": 26,
    "start_time": "2023-07-15T19:28:33.192Z"
   },
   {
    "duration": 227,
    "start_time": "2023-07-15T19:28:33.219Z"
   },
   {
    "duration": 646,
    "start_time": "2023-07-15T19:28:33.448Z"
   },
   {
    "duration": 12,
    "start_time": "2023-07-15T19:28:34.096Z"
   },
   {
    "duration": 1344,
    "start_time": "2023-07-15T19:28:34.111Z"
   },
   {
    "duration": 509,
    "start_time": "2023-07-15T19:28:35.457Z"
   },
   {
    "duration": 783,
    "start_time": "2023-07-15T19:28:35.968Z"
   },
   {
    "duration": 6,
    "start_time": "2023-07-15T19:28:36.752Z"
   },
   {
    "duration": 245,
    "start_time": "2023-07-15T19:28:36.760Z"
   },
   {
    "duration": 10,
    "start_time": "2023-07-15T19:28:37.007Z"
   },
   {
    "duration": 40,
    "start_time": "2023-07-15T19:28:37.018Z"
   },
   {
    "duration": 15,
    "start_time": "2023-07-15T19:28:37.060Z"
   },
   {
    "duration": 7,
    "start_time": "2023-07-15T19:28:37.076Z"
   },
   {
    "duration": 14,
    "start_time": "2023-07-15T19:28:37.085Z"
   },
   {
    "duration": 3,
    "start_time": "2023-07-15T19:29:16.969Z"
   },
   {
    "duration": 100,
    "start_time": "2023-07-15T19:29:16.976Z"
   },
   {
    "duration": 12,
    "start_time": "2023-07-15T19:29:17.078Z"
   },
   {
    "duration": 79,
    "start_time": "2023-07-15T19:29:17.091Z"
   },
   {
    "duration": 5,
    "start_time": "2023-07-15T19:29:17.172Z"
   },
   {
    "duration": 278,
    "start_time": "2023-07-15T19:29:17.179Z"
   },
   {
    "duration": 13,
    "start_time": "2023-07-15T19:29:17.458Z"
   },
   {
    "duration": 8,
    "start_time": "2023-07-15T19:29:17.472Z"
   },
   {
    "duration": 29,
    "start_time": "2023-07-15T19:29:17.481Z"
   },
   {
    "duration": 12,
    "start_time": "2023-07-15T19:29:17.531Z"
   },
   {
    "duration": 42,
    "start_time": "2023-07-15T19:29:17.545Z"
   },
   {
    "duration": 230,
    "start_time": "2023-07-15T19:29:17.588Z"
   },
   {
    "duration": 590,
    "start_time": "2023-07-15T19:29:17.819Z"
   },
   {
    "duration": 13,
    "start_time": "2023-07-15T19:29:18.410Z"
   },
   {
    "duration": 1536,
    "start_time": "2023-07-15T19:29:18.425Z"
   },
   {
    "duration": 593,
    "start_time": "2023-07-15T19:29:19.963Z"
   },
   {
    "duration": 281,
    "start_time": "2023-07-15T19:29:20.557Z"
   },
   {
    "duration": 8,
    "start_time": "2023-07-15T19:29:20.846Z"
   },
   {
    "duration": 211,
    "start_time": "2023-07-15T19:29:20.856Z"
   },
   {
    "duration": 10,
    "start_time": "2023-07-15T19:29:21.069Z"
   },
   {
    "duration": 12,
    "start_time": "2023-07-15T19:29:21.081Z"
   },
   {
    "duration": 11,
    "start_time": "2023-07-15T19:29:21.094Z"
   },
   {
    "duration": 37,
    "start_time": "2023-07-15T19:29:21.107Z"
   },
   {
    "duration": 11,
    "start_time": "2023-07-15T19:29:21.146Z"
   },
   {
    "duration": 17,
    "start_time": "2023-07-15T19:32:51.602Z"
   },
   {
    "duration": 2,
    "start_time": "2023-07-15T19:32:56.259Z"
   },
   {
    "duration": 111,
    "start_time": "2023-07-15T19:32:56.264Z"
   },
   {
    "duration": 12,
    "start_time": "2023-07-15T19:32:56.377Z"
   },
   {
    "duration": 71,
    "start_time": "2023-07-15T19:32:56.390Z"
   },
   {
    "duration": 43,
    "start_time": "2023-07-15T19:32:56.464Z"
   },
   {
    "duration": 237,
    "start_time": "2023-07-15T19:32:56.509Z"
   },
   {
    "duration": 12,
    "start_time": "2023-07-15T19:32:56.749Z"
   },
   {
    "duration": 11,
    "start_time": "2023-07-15T19:32:56.762Z"
   },
   {
    "duration": 40,
    "start_time": "2023-07-15T19:32:56.775Z"
   },
   {
    "duration": 4,
    "start_time": "2023-07-15T19:32:56.816Z"
   },
   {
    "duration": 42,
    "start_time": "2023-07-15T19:32:56.822Z"
   },
   {
    "duration": 212,
    "start_time": "2023-07-15T19:32:56.865Z"
   },
   {
    "duration": 613,
    "start_time": "2023-07-15T19:32:57.078Z"
   },
   {
    "duration": 20,
    "start_time": "2023-07-15T19:32:57.695Z"
   },
   {
    "duration": 2015,
    "start_time": "2023-07-15T19:32:57.717Z"
   },
   {
    "duration": 347,
    "start_time": "2023-07-15T19:32:59.734Z"
   },
   {
    "duration": 326,
    "start_time": "2023-07-15T19:33:00.083Z"
   },
   {
    "duration": 8,
    "start_time": "2023-07-15T19:33:00.411Z"
   },
   {
    "duration": 236,
    "start_time": "2023-07-15T19:33:00.438Z"
   },
   {
    "duration": 10,
    "start_time": "2023-07-15T19:33:00.676Z"
   },
   {
    "duration": 44,
    "start_time": "2023-07-15T19:33:00.687Z"
   },
   {
    "duration": 36,
    "start_time": "2023-07-15T19:33:00.739Z"
   },
   {
    "duration": 27,
    "start_time": "2023-07-15T19:33:00.776Z"
   },
   {
    "duration": 69,
    "start_time": "2023-07-15T19:33:00.805Z"
   },
   {
    "duration": 1128,
    "start_time": "2023-07-15T19:33:18.769Z"
   },
   {
    "duration": 85,
    "start_time": "2023-07-15T19:33:19.899Z"
   },
   {
    "duration": 13,
    "start_time": "2023-07-15T19:33:19.985Z"
   },
   {
    "duration": 74,
    "start_time": "2023-07-15T19:33:20.000Z"
   },
   {
    "duration": 4,
    "start_time": "2023-07-15T19:33:20.076Z"
   },
   {
    "duration": 189,
    "start_time": "2023-07-15T19:33:20.082Z"
   },
   {
    "duration": 13,
    "start_time": "2023-07-15T19:33:20.272Z"
   },
   {
    "duration": 8,
    "start_time": "2023-07-15T19:33:20.287Z"
   },
   {
    "duration": 51,
    "start_time": "2023-07-15T19:33:20.297Z"
   },
   {
    "duration": 4,
    "start_time": "2023-07-15T19:33:20.351Z"
   },
   {
    "duration": 22,
    "start_time": "2023-07-15T19:33:20.356Z"
   },
   {
    "duration": 215,
    "start_time": "2023-07-15T19:33:20.379Z"
   },
   {
    "duration": 620,
    "start_time": "2023-07-15T19:33:20.596Z"
   },
   {
    "duration": 28,
    "start_time": "2023-07-15T19:33:21.218Z"
   },
   {
    "duration": 1725,
    "start_time": "2023-07-15T19:33:21.249Z"
   },
   {
    "duration": 273,
    "start_time": "2023-07-15T19:33:22.976Z"
   },
   {
    "duration": 279,
    "start_time": "2023-07-15T19:33:23.250Z"
   },
   {
    "duration": 7,
    "start_time": "2023-07-15T19:33:23.539Z"
   },
   {
    "duration": 180,
    "start_time": "2023-07-15T19:33:23.548Z"
   },
   {
    "duration": 22,
    "start_time": "2023-07-15T19:33:23.729Z"
   },
   {
    "duration": 8,
    "start_time": "2023-07-15T19:33:23.753Z"
   },
   {
    "duration": 10,
    "start_time": "2023-07-15T19:33:23.762Z"
   },
   {
    "duration": 7,
    "start_time": "2023-07-15T19:33:23.773Z"
   },
   {
    "duration": 13,
    "start_time": "2023-07-15T19:33:23.781Z"
   },
   {
    "duration": 1187,
    "start_time": "2023-07-15T19:44:46.415Z"
   },
   {
    "duration": 97,
    "start_time": "2023-07-15T19:44:47.603Z"
   },
   {
    "duration": 11,
    "start_time": "2023-07-15T19:44:47.702Z"
   },
   {
    "duration": 78,
    "start_time": "2023-07-15T19:44:47.715Z"
   },
   {
    "duration": 4,
    "start_time": "2023-07-15T19:44:47.794Z"
   },
   {
    "duration": 184,
    "start_time": "2023-07-15T19:44:47.800Z"
   },
   {
    "duration": 13,
    "start_time": "2023-07-15T19:44:47.987Z"
   },
   {
    "duration": 9,
    "start_time": "2023-07-15T19:44:48.002Z"
   },
   {
    "duration": 52,
    "start_time": "2023-07-15T19:44:48.013Z"
   },
   {
    "duration": 3,
    "start_time": "2023-07-15T19:44:48.067Z"
   },
   {
    "duration": 27,
    "start_time": "2023-07-15T19:44:48.071Z"
   },
   {
    "duration": 202,
    "start_time": "2023-07-15T19:44:48.100Z"
   },
   {
    "duration": 585,
    "start_time": "2023-07-15T19:44:48.303Z"
   },
   {
    "duration": 14,
    "start_time": "2023-07-15T19:44:48.889Z"
   },
   {
    "duration": 1529,
    "start_time": "2023-07-15T19:44:48.905Z"
   },
   {
    "duration": 444,
    "start_time": "2023-07-15T19:44:50.436Z"
   },
   {
    "duration": 448,
    "start_time": "2023-07-15T19:44:50.931Z"
   },
   {
    "duration": 5,
    "start_time": "2023-07-15T19:44:51.381Z"
   },
   {
    "duration": 195,
    "start_time": "2023-07-15T19:44:51.388Z"
   },
   {
    "duration": 9,
    "start_time": "2023-07-15T19:44:51.585Z"
   },
   {
    "duration": 23,
    "start_time": "2023-07-15T19:44:51.595Z"
   },
   {
    "duration": 20,
    "start_time": "2023-07-15T19:44:51.619Z"
   },
   {
    "duration": 14,
    "start_time": "2023-07-15T19:44:51.648Z"
   },
   {
    "duration": 29,
    "start_time": "2023-07-15T19:44:51.664Z"
   },
   {
    "duration": 13,
    "start_time": "2023-07-15T19:45:47.504Z"
   },
   {
    "duration": 27,
    "start_time": "2023-07-15T19:46:00.116Z"
   },
   {
    "duration": 13,
    "start_time": "2023-07-15T19:46:30.169Z"
   },
   {
    "duration": 27,
    "start_time": "2023-07-15T19:46:34.273Z"
   },
   {
    "duration": 17,
    "start_time": "2023-07-15T19:47:01.228Z"
   },
   {
    "duration": 3,
    "start_time": "2023-07-15T19:47:04.289Z"
   },
   {
    "duration": 96,
    "start_time": "2023-07-15T19:47:04.295Z"
   },
   {
    "duration": 11,
    "start_time": "2023-07-15T19:47:04.392Z"
   },
   {
    "duration": 86,
    "start_time": "2023-07-15T19:47:04.405Z"
   },
   {
    "duration": 4,
    "start_time": "2023-07-15T19:47:04.493Z"
   },
   {
    "duration": 171,
    "start_time": "2023-07-15T19:47:04.499Z"
   },
   {
    "duration": 13,
    "start_time": "2023-07-15T19:47:04.672Z"
   },
   {
    "duration": 13,
    "start_time": "2023-07-15T19:47:04.687Z"
   },
   {
    "duration": 43,
    "start_time": "2023-07-15T19:47:04.702Z"
   },
   {
    "duration": 5,
    "start_time": "2023-07-15T19:47:04.747Z"
   },
   {
    "duration": 33,
    "start_time": "2023-07-15T19:47:04.754Z"
   },
   {
    "duration": 205,
    "start_time": "2023-07-15T19:47:04.789Z"
   },
   {
    "duration": 626,
    "start_time": "2023-07-15T19:47:04.995Z"
   },
   {
    "duration": 22,
    "start_time": "2023-07-15T19:47:05.622Z"
   },
   {
    "duration": 873,
    "start_time": "2023-07-15T19:47:05.647Z"
   },
   {
    "duration": 238,
    "start_time": "2023-07-15T19:47:06.522Z"
   },
   {
    "duration": 414,
    "start_time": "2023-07-15T19:47:06.762Z"
   },
   {
    "duration": 60,
    "start_time": "2023-07-15T19:47:07.177Z"
   },
   {
    "duration": 385,
    "start_time": "2023-07-15T19:47:07.247Z"
   },
   {
    "duration": 12,
    "start_time": "2023-07-15T19:47:07.641Z"
   },
   {
    "duration": 31,
    "start_time": "2023-07-15T19:47:07.654Z"
   },
   {
    "duration": 52,
    "start_time": "2023-07-15T19:47:07.687Z"
   },
   {
    "duration": 21,
    "start_time": "2023-07-15T19:47:07.740Z"
   },
   {
    "duration": 19,
    "start_time": "2023-07-15T19:47:07.763Z"
   },
   {
    "duration": 21,
    "start_time": "2023-07-15T19:47:13.966Z"
   },
   {
    "duration": 16,
    "start_time": "2023-07-15T19:47:37.668Z"
   },
   {
    "duration": 3,
    "start_time": "2023-07-15T19:49:58.189Z"
   },
   {
    "duration": 97,
    "start_time": "2023-07-15T19:49:58.196Z"
   },
   {
    "duration": 11,
    "start_time": "2023-07-15T19:49:58.294Z"
   },
   {
    "duration": 75,
    "start_time": "2023-07-15T19:49:58.307Z"
   },
   {
    "duration": 4,
    "start_time": "2023-07-15T19:49:58.383Z"
   },
   {
    "duration": 176,
    "start_time": "2023-07-15T19:49:58.389Z"
   },
   {
    "duration": 13,
    "start_time": "2023-07-15T19:49:58.567Z"
   },
   {
    "duration": 8,
    "start_time": "2023-07-15T19:49:58.581Z"
   },
   {
    "duration": 42,
    "start_time": "2023-07-15T19:49:58.591Z"
   },
   {
    "duration": 13,
    "start_time": "2023-07-15T19:49:58.635Z"
   },
   {
    "duration": 30,
    "start_time": "2023-07-15T19:49:58.652Z"
   },
   {
    "duration": 294,
    "start_time": "2023-07-15T19:49:58.684Z"
   },
   {
    "duration": 601,
    "start_time": "2023-07-15T19:49:58.980Z"
   },
   {
    "duration": 12,
    "start_time": "2023-07-15T19:49:59.583Z"
   },
   {
    "duration": 1243,
    "start_time": "2023-07-15T19:49:59.598Z"
   },
   {
    "duration": 688,
    "start_time": "2023-07-15T19:50:00.844Z"
   },
   {
    "duration": 941,
    "start_time": "2023-07-15T19:50:01.534Z"
   },
   {
    "duration": 13,
    "start_time": "2023-07-15T19:50:02.531Z"
   },
   {
    "duration": 433,
    "start_time": "2023-07-15T19:50:02.552Z"
   },
   {
    "duration": 9,
    "start_time": "2023-07-15T19:50:02.986Z"
   },
   {
    "duration": 22,
    "start_time": "2023-07-15T19:50:02.996Z"
   },
   {
    "duration": 42,
    "start_time": "2023-07-15T19:50:03.019Z"
   },
   {
    "duration": 15,
    "start_time": "2023-07-15T19:50:03.063Z"
   },
   {
    "duration": 17,
    "start_time": "2023-07-15T19:50:03.080Z"
   },
   {
    "duration": 6,
    "start_time": "2023-07-15T19:51:42.204Z"
   },
   {
    "duration": 6,
    "start_time": "2023-07-15T19:51:54.943Z"
   },
   {
    "duration": 111,
    "start_time": "2023-07-15T19:52:23.307Z"
   },
   {
    "duration": 8,
    "start_time": "2023-07-15T19:52:41.846Z"
   },
   {
    "duration": 9,
    "start_time": "2023-07-15T19:52:53.576Z"
   },
   {
    "duration": 8,
    "start_time": "2023-07-15T19:53:04.848Z"
   },
   {
    "duration": 1435,
    "start_time": "2023-07-15T19:53:12.895Z"
   },
   {
    "duration": 10,
    "start_time": "2023-07-15T19:53:25.478Z"
   },
   {
    "duration": 16,
    "start_time": "2023-07-15T19:54:37.888Z"
   },
   {
    "duration": 25,
    "start_time": "2023-07-15T19:54:44.911Z"
   },
   {
    "duration": 21,
    "start_time": "2023-07-15T20:00:21.298Z"
   },
   {
    "duration": 12,
    "start_time": "2023-07-15T20:01:54.151Z"
   },
   {
    "duration": 3,
    "start_time": "2023-07-15T20:01:59.427Z"
   },
   {
    "duration": 112,
    "start_time": "2023-07-15T20:01:59.433Z"
   },
   {
    "duration": 14,
    "start_time": "2023-07-15T20:01:59.546Z"
   },
   {
    "duration": 71,
    "start_time": "2023-07-15T20:01:59.561Z"
   },
   {
    "duration": 7,
    "start_time": "2023-07-15T20:01:59.644Z"
   },
   {
    "duration": 194,
    "start_time": "2023-07-15T20:01:59.653Z"
   },
   {
    "duration": 14,
    "start_time": "2023-07-15T20:01:59.848Z"
   },
   {
    "duration": 14,
    "start_time": "2023-07-15T20:01:59.864Z"
   },
   {
    "duration": 26,
    "start_time": "2023-07-15T20:01:59.879Z"
   },
   {
    "duration": 39,
    "start_time": "2023-07-15T20:01:59.906Z"
   },
   {
    "duration": 22,
    "start_time": "2023-07-15T20:01:59.947Z"
   },
   {
    "duration": 201,
    "start_time": "2023-07-15T20:01:59.971Z"
   },
   {
    "duration": 635,
    "start_time": "2023-07-15T20:02:00.174Z"
   },
   {
    "duration": 21,
    "start_time": "2023-07-15T20:02:00.813Z"
   },
   {
    "duration": 944,
    "start_time": "2023-07-15T20:02:00.835Z"
   },
   {
    "duration": 253,
    "start_time": "2023-07-15T20:02:01.781Z"
   },
   {
    "duration": 272,
    "start_time": "2023-07-15T20:02:02.049Z"
   },
   {
    "duration": 14,
    "start_time": "2023-07-15T20:02:02.323Z"
   },
   {
    "duration": 274,
    "start_time": "2023-07-15T20:02:02.339Z"
   },
   {
    "duration": 30,
    "start_time": "2023-07-15T20:02:02.615Z"
   },
   {
    "duration": 40,
    "start_time": "2023-07-15T20:02:02.647Z"
   },
   {
    "duration": 23,
    "start_time": "2023-07-15T20:02:02.689Z"
   },
   {
    "duration": 21,
    "start_time": "2023-07-15T20:02:02.714Z"
   },
   {
    "duration": 37,
    "start_time": "2023-07-15T20:02:02.741Z"
   },
   {
    "duration": 1236,
    "start_time": "2023-07-15T20:02:33.736Z"
   },
   {
    "duration": 90,
    "start_time": "2023-07-15T20:02:34.974Z"
   },
   {
    "duration": 13,
    "start_time": "2023-07-15T20:02:35.067Z"
   },
   {
    "duration": 78,
    "start_time": "2023-07-15T20:02:35.083Z"
   },
   {
    "duration": 5,
    "start_time": "2023-07-15T20:02:35.163Z"
   },
   {
    "duration": 202,
    "start_time": "2023-07-15T20:02:35.170Z"
   },
   {
    "duration": 14,
    "start_time": "2023-07-15T20:02:35.374Z"
   },
   {
    "duration": 10,
    "start_time": "2023-07-15T20:02:35.389Z"
   },
   {
    "duration": 53,
    "start_time": "2023-07-15T20:02:35.401Z"
   },
   {
    "duration": 22,
    "start_time": "2023-07-15T20:02:35.457Z"
   },
   {
    "duration": 22,
    "start_time": "2023-07-15T20:02:35.480Z"
   },
   {
    "duration": 259,
    "start_time": "2023-07-15T20:02:35.504Z"
   },
   {
    "duration": 683,
    "start_time": "2023-07-15T20:02:35.765Z"
   },
   {
    "duration": 19,
    "start_time": "2023-07-15T20:02:36.451Z"
   },
   {
    "duration": 861,
    "start_time": "2023-07-15T20:02:36.472Z"
   },
   {
    "duration": 249,
    "start_time": "2023-07-15T20:02:37.336Z"
   },
   {
    "duration": 551,
    "start_time": "2023-07-15T20:02:37.587Z"
   },
   {
    "duration": 14,
    "start_time": "2023-07-15T20:02:38.139Z"
   },
   {
    "duration": 495,
    "start_time": "2023-07-15T20:02:38.155Z"
   },
   {
    "duration": 10,
    "start_time": "2023-07-15T20:02:38.653Z"
   },
   {
    "duration": 13,
    "start_time": "2023-07-15T20:02:38.665Z"
   },
   {
    "duration": 27,
    "start_time": "2023-07-15T20:02:38.739Z"
   },
   {
    "duration": 7,
    "start_time": "2023-07-15T20:02:38.767Z"
   },
   {
    "duration": 11,
    "start_time": "2023-07-15T20:02:38.777Z"
   },
   {
    "duration": 469,
    "start_time": "2023-07-15T20:06:41.389Z"
   },
   {
    "duration": 680,
    "start_time": "2023-07-15T20:11:50.094Z"
   },
   {
    "duration": 331,
    "start_time": "2023-07-15T20:15:33.646Z"
   },
   {
    "duration": 327,
    "start_time": "2023-07-15T20:15:36.006Z"
   },
   {
    "duration": 331,
    "start_time": "2023-07-15T20:15:42.449Z"
   },
   {
    "duration": 357,
    "start_time": "2023-07-15T20:16:12.607Z"
   },
   {
    "duration": 8,
    "start_time": "2023-07-15T20:16:42.817Z"
   },
   {
    "duration": 177,
    "start_time": "2023-07-15T20:17:38.757Z"
   },
   {
    "duration": 509,
    "start_time": "2023-07-15T20:18:36.100Z"
   },
   {
    "duration": 462,
    "start_time": "2023-07-15T20:19:29.591Z"
   },
   {
    "duration": 443,
    "start_time": "2023-07-15T20:20:17.387Z"
   },
   {
    "duration": 454,
    "start_time": "2023-07-15T20:20:39.967Z"
   },
   {
    "duration": 457,
    "start_time": "2023-07-15T20:21:03.283Z"
   },
   {
    "duration": 420,
    "start_time": "2023-07-15T20:23:51.139Z"
   },
   {
    "duration": 408,
    "start_time": "2023-07-15T20:24:33.458Z"
   },
   {
    "duration": 356,
    "start_time": "2023-07-15T20:25:57.399Z"
   },
   {
    "duration": 416,
    "start_time": "2023-07-15T20:28:02.464Z"
   },
   {
    "duration": 1264,
    "start_time": "2023-07-15T20:28:26.575Z"
   },
   {
    "duration": 109,
    "start_time": "2023-07-15T20:28:27.842Z"
   },
   {
    "duration": 19,
    "start_time": "2023-07-15T20:28:27.953Z"
   },
   {
    "duration": 104,
    "start_time": "2023-07-15T20:28:27.975Z"
   },
   {
    "duration": 4,
    "start_time": "2023-07-15T20:28:28.082Z"
   },
   {
    "duration": 207,
    "start_time": "2023-07-15T20:28:28.088Z"
   },
   {
    "duration": 13,
    "start_time": "2023-07-15T20:28:28.297Z"
   },
   {
    "duration": 27,
    "start_time": "2023-07-15T20:28:28.312Z"
   },
   {
    "duration": 33,
    "start_time": "2023-07-15T20:28:28.341Z"
   },
   {
    "duration": 23,
    "start_time": "2023-07-15T20:28:28.376Z"
   },
   {
    "duration": 48,
    "start_time": "2023-07-15T20:28:28.400Z"
   },
   {
    "duration": 240,
    "start_time": "2023-07-15T20:28:28.450Z"
   },
   {
    "duration": 690,
    "start_time": "2023-07-15T20:28:28.691Z"
   },
   {
    "duration": 14,
    "start_time": "2023-07-15T20:28:29.383Z"
   },
   {
    "duration": 2169,
    "start_time": "2023-07-15T20:28:29.398Z"
   },
   {
    "duration": 812,
    "start_time": "2023-07-15T20:28:31.569Z"
   },
   {
    "duration": 427,
    "start_time": "2023-07-15T20:28:32.383Z"
   },
   {
    "duration": 389,
    "start_time": "2023-07-15T20:28:32.812Z"
   },
   {
    "duration": 255,
    "start_time": "2023-07-15T20:28:33.204Z"
   },
   {
    "duration": 19,
    "start_time": "2023-07-15T20:28:33.461Z"
   },
   {
    "duration": 17,
    "start_time": "2023-07-15T20:28:33.483Z"
   },
   {
    "duration": 13,
    "start_time": "2023-07-15T20:28:33.502Z"
   },
   {
    "duration": 24,
    "start_time": "2023-07-15T20:28:33.517Z"
   },
   {
    "duration": 39,
    "start_time": "2023-07-15T20:28:33.543Z"
   },
   {
    "duration": 9,
    "start_time": "2023-07-15T20:40:10.890Z"
   },
   {
    "duration": 1109,
    "start_time": "2023-07-15T20:40:22.773Z"
   },
   {
    "duration": 1159,
    "start_time": "2023-07-15T20:40:42.317Z"
   },
   {
    "duration": 118,
    "start_time": "2023-07-15T20:40:43.479Z"
   },
   {
    "duration": 20,
    "start_time": "2023-07-15T20:40:43.600Z"
   },
   {
    "duration": 83,
    "start_time": "2023-07-15T20:40:43.632Z"
   },
   {
    "duration": 10,
    "start_time": "2023-07-15T20:40:43.717Z"
   },
   {
    "duration": 261,
    "start_time": "2023-07-15T20:40:43.729Z"
   },
   {
    "duration": 19,
    "start_time": "2023-07-15T20:40:43.992Z"
   },
   {
    "duration": 30,
    "start_time": "2023-07-15T20:40:44.014Z"
   },
   {
    "duration": 40,
    "start_time": "2023-07-15T20:40:44.051Z"
   },
   {
    "duration": 1213,
    "start_time": "2023-07-15T20:40:44.094Z"
   },
   {
    "duration": 0,
    "start_time": "2023-07-15T20:40:45.309Z"
   },
   {
    "duration": 0,
    "start_time": "2023-07-15T20:40:45.311Z"
   },
   {
    "duration": 0,
    "start_time": "2023-07-15T20:40:45.313Z"
   },
   {
    "duration": 0,
    "start_time": "2023-07-15T20:40:45.315Z"
   },
   {
    "duration": 0,
    "start_time": "2023-07-15T20:40:45.316Z"
   },
   {
    "duration": 0,
    "start_time": "2023-07-15T20:40:45.317Z"
   },
   {
    "duration": 0,
    "start_time": "2023-07-15T20:40:45.319Z"
   },
   {
    "duration": 0,
    "start_time": "2023-07-15T20:40:45.320Z"
   },
   {
    "duration": 0,
    "start_time": "2023-07-15T20:40:45.321Z"
   },
   {
    "duration": 0,
    "start_time": "2023-07-15T20:40:45.322Z"
   },
   {
    "duration": 0,
    "start_time": "2023-07-15T20:40:45.323Z"
   },
   {
    "duration": 0,
    "start_time": "2023-07-15T20:40:45.324Z"
   },
   {
    "duration": 0,
    "start_time": "2023-07-15T20:40:45.325Z"
   },
   {
    "duration": 0,
    "start_time": "2023-07-15T20:40:45.326Z"
   },
   {
    "duration": 1326,
    "start_time": "2023-07-15T20:41:01.326Z"
   },
   {
    "duration": 7,
    "start_time": "2023-07-15T20:41:04.946Z"
   },
   {
    "duration": 111,
    "start_time": "2023-07-15T20:41:04.960Z"
   },
   {
    "duration": 19,
    "start_time": "2023-07-15T20:41:05.073Z"
   },
   {
    "duration": 124,
    "start_time": "2023-07-15T20:41:05.096Z"
   },
   {
    "duration": 6,
    "start_time": "2023-07-15T20:41:05.221Z"
   },
   {
    "duration": 206,
    "start_time": "2023-07-15T20:41:05.228Z"
   },
   {
    "duration": 16,
    "start_time": "2023-07-15T20:41:05.436Z"
   },
   {
    "duration": 33,
    "start_time": "2023-07-15T20:41:05.455Z"
   },
   {
    "duration": 32,
    "start_time": "2023-07-15T20:41:05.490Z"
   },
   {
    "duration": 17,
    "start_time": "2023-07-15T20:41:05.533Z"
   },
   {
    "duration": 40,
    "start_time": "2023-07-15T20:41:05.554Z"
   },
   {
    "duration": 233,
    "start_time": "2023-07-15T20:41:05.596Z"
   },
   {
    "duration": 642,
    "start_time": "2023-07-15T20:41:05.831Z"
   },
   {
    "duration": 14,
    "start_time": "2023-07-15T20:41:06.474Z"
   },
   {
    "duration": 834,
    "start_time": "2023-07-15T20:41:06.490Z"
   },
   {
    "duration": 542,
    "start_time": "2023-07-15T20:41:07.325Z"
   },
   {
    "duration": 768,
    "start_time": "2023-07-15T20:41:07.869Z"
   },
   {
    "duration": 637,
    "start_time": "2023-07-15T20:41:08.639Z"
   },
   {
    "duration": 464,
    "start_time": "2023-07-15T20:41:09.278Z"
   },
   {
    "duration": 14,
    "start_time": "2023-07-15T20:41:09.747Z"
   },
   {
    "duration": 76,
    "start_time": "2023-07-15T20:41:09.763Z"
   },
   {
    "duration": 37,
    "start_time": "2023-07-15T20:41:09.841Z"
   },
   {
    "duration": 52,
    "start_time": "2023-07-15T20:41:09.881Z"
   },
   {
    "duration": 205,
    "start_time": "2023-07-15T20:41:09.941Z"
   },
   {
    "duration": 13,
    "start_time": "2023-07-15T20:42:19.960Z"
   },
   {
    "duration": 20,
    "start_time": "2023-07-15T20:42:39.397Z"
   },
   {
    "duration": 12,
    "start_time": "2023-07-15T20:43:02.681Z"
   },
   {
    "duration": 1172,
    "start_time": "2023-07-15T20:43:51.564Z"
   },
   {
    "duration": 93,
    "start_time": "2023-07-15T20:43:52.737Z"
   },
   {
    "duration": 18,
    "start_time": "2023-07-15T20:43:52.834Z"
   },
   {
    "duration": 73,
    "start_time": "2023-07-15T20:43:52.854Z"
   },
   {
    "duration": 17,
    "start_time": "2023-07-15T20:43:52.928Z"
   },
   {
    "duration": 234,
    "start_time": "2023-07-15T20:43:52.947Z"
   },
   {
    "duration": 18,
    "start_time": "2023-07-15T20:43:53.183Z"
   },
   {
    "duration": 36,
    "start_time": "2023-07-15T20:43:53.204Z"
   },
   {
    "duration": 30,
    "start_time": "2023-07-15T20:43:53.243Z"
   },
   {
    "duration": 19,
    "start_time": "2023-07-15T20:43:53.277Z"
   },
   {
    "duration": 59,
    "start_time": "2023-07-15T20:43:53.298Z"
   },
   {
    "duration": 258,
    "start_time": "2023-07-15T20:43:53.359Z"
   },
   {
    "duration": 656,
    "start_time": "2023-07-15T20:43:53.618Z"
   },
   {
    "duration": 73,
    "start_time": "2023-07-15T20:43:54.276Z"
   },
   {
    "duration": 2297,
    "start_time": "2023-07-15T20:43:54.351Z"
   },
   {
    "duration": 621,
    "start_time": "2023-07-15T20:43:56.650Z"
   },
   {
    "duration": 349,
    "start_time": "2023-07-15T20:43:57.273Z"
   },
   {
    "duration": 445,
    "start_time": "2023-07-15T20:43:57.624Z"
   },
   {
    "duration": 262,
    "start_time": "2023-07-15T20:43:58.070Z"
   },
   {
    "duration": 24,
    "start_time": "2023-07-15T20:43:58.333Z"
   },
   {
    "duration": 25,
    "start_time": "2023-07-15T20:43:58.359Z"
   },
   {
    "duration": 10,
    "start_time": "2023-07-15T20:43:58.386Z"
   },
   {
    "duration": 9,
    "start_time": "2023-07-15T20:43:58.398Z"
   },
   {
    "duration": 10,
    "start_time": "2023-07-15T20:43:58.409Z"
   },
   {
    "duration": 240,
    "start_time": "2023-07-15T20:44:40.852Z"
   },
   {
    "duration": 390,
    "start_time": "2023-07-15T20:46:43.498Z"
   },
   {
    "duration": 21,
    "start_time": "2023-07-15T20:47:19.078Z"
   },
   {
    "duration": 271,
    "start_time": "2023-07-15T20:48:09.010Z"
   },
   {
    "duration": 314,
    "start_time": "2023-07-15T20:48:46.749Z"
   },
   {
    "duration": 151,
    "start_time": "2023-07-15T20:49:41.655Z"
   },
   {
    "duration": 605,
    "start_time": "2023-07-15T20:49:47.653Z"
   },
   {
    "duration": 596,
    "start_time": "2023-07-15T20:51:09.497Z"
   },
   {
    "duration": 506,
    "start_time": "2023-07-15T20:51:22.101Z"
   },
   {
    "duration": 594,
    "start_time": "2023-07-15T20:52:38.889Z"
   },
   {
    "duration": 1083,
    "start_time": "2023-07-15T20:54:16.100Z"
   },
   {
    "duration": 86,
    "start_time": "2023-07-15T20:54:17.185Z"
   },
   {
    "duration": 18,
    "start_time": "2023-07-15T20:54:17.273Z"
   },
   {
    "duration": 87,
    "start_time": "2023-07-15T20:54:17.294Z"
   },
   {
    "duration": 4,
    "start_time": "2023-07-15T20:54:17.382Z"
   },
   {
    "duration": 186,
    "start_time": "2023-07-15T20:54:17.388Z"
   },
   {
    "duration": 13,
    "start_time": "2023-07-15T20:54:17.576Z"
   },
   {
    "duration": 9,
    "start_time": "2023-07-15T20:54:17.591Z"
   },
   {
    "duration": 46,
    "start_time": "2023-07-15T20:54:17.602Z"
   },
   {
    "duration": 16,
    "start_time": "2023-07-15T20:54:17.651Z"
   },
   {
    "duration": 30,
    "start_time": "2023-07-15T20:54:17.669Z"
   },
   {
    "duration": 255,
    "start_time": "2023-07-15T20:54:17.700Z"
   },
   {
    "duration": 626,
    "start_time": "2023-07-15T20:54:17.956Z"
   },
   {
    "duration": 12,
    "start_time": "2023-07-15T20:54:18.584Z"
   },
   {
    "duration": 857,
    "start_time": "2023-07-15T20:54:18.597Z"
   },
   {
    "duration": 1113,
    "start_time": "2023-07-15T20:54:19.456Z"
   },
   {
    "duration": 975,
    "start_time": "2023-07-15T20:54:20.571Z"
   },
   {
    "duration": 311,
    "start_time": "2023-07-15T20:54:21.548Z"
   },
   {
    "duration": 582,
    "start_time": "2023-07-15T20:54:21.860Z"
   },
   {
    "duration": 9,
    "start_time": "2023-07-15T20:54:22.444Z"
   },
   {
    "duration": 22,
    "start_time": "2023-07-15T20:54:22.454Z"
   },
   {
    "duration": 27,
    "start_time": "2023-07-15T20:54:22.478Z"
   },
   {
    "duration": 56,
    "start_time": "2023-07-15T20:54:22.507Z"
   },
   {
    "duration": 23,
    "start_time": "2023-07-15T20:54:22.564Z"
   },
   {
    "duration": 11,
    "start_time": "2023-07-15T21:07:15.240Z"
   },
   {
    "duration": 536,
    "start_time": "2023-07-15T21:09:24.379Z"
   },
   {
    "duration": 374,
    "start_time": "2023-07-15T21:14:17.656Z"
   },
   {
    "duration": 1121,
    "start_time": "2023-07-15T21:15:30.956Z"
   },
   {
    "duration": 88,
    "start_time": "2023-07-15T21:15:32.078Z"
   },
   {
    "duration": 13,
    "start_time": "2023-07-15T21:15:32.168Z"
   },
   {
    "duration": 90,
    "start_time": "2023-07-15T21:15:32.184Z"
   },
   {
    "duration": 11,
    "start_time": "2023-07-15T21:15:32.276Z"
   },
   {
    "duration": 243,
    "start_time": "2023-07-15T21:15:32.289Z"
   },
   {
    "duration": 17,
    "start_time": "2023-07-15T21:15:32.533Z"
   },
   {
    "duration": 53,
    "start_time": "2023-07-15T21:15:32.551Z"
   },
   {
    "duration": 52,
    "start_time": "2023-07-15T21:15:32.606Z"
   },
   {
    "duration": 23,
    "start_time": "2023-07-15T21:15:32.660Z"
   },
   {
    "duration": 72,
    "start_time": "2023-07-15T21:15:32.684Z"
   },
   {
    "duration": 247,
    "start_time": "2023-07-15T21:15:32.758Z"
   },
   {
    "duration": 653,
    "start_time": "2023-07-15T21:15:33.006Z"
   },
   {
    "duration": 15,
    "start_time": "2023-07-15T21:15:33.661Z"
   },
   {
    "duration": 834,
    "start_time": "2023-07-15T21:15:33.677Z"
   },
   {
    "duration": 603,
    "start_time": "2023-07-15T21:15:34.512Z"
   },
   {
    "duration": 348,
    "start_time": "2023-07-15T21:15:35.117Z"
   },
   {
    "duration": 499,
    "start_time": "2023-07-15T21:15:35.466Z"
   },
   {
    "duration": 1497,
    "start_time": "2023-07-15T21:15:35.966Z"
   },
   {
    "duration": 574,
    "start_time": "2023-07-15T21:15:37.465Z"
   },
   {
    "duration": 0,
    "start_time": "2023-07-15T21:15:38.047Z"
   },
   {
    "duration": 0,
    "start_time": "2023-07-15T21:15:38.048Z"
   },
   {
    "duration": 1,
    "start_time": "2023-07-15T21:15:38.049Z"
   },
   {
    "duration": 0,
    "start_time": "2023-07-15T21:15:38.051Z"
   },
   {
    "duration": 248,
    "start_time": "2023-07-15T21:17:46.482Z"
   },
   {
    "duration": 270,
    "start_time": "2023-07-15T21:21:12.694Z"
   },
   {
    "duration": 261,
    "start_time": "2023-07-15T21:22:11.259Z"
   },
   {
    "duration": 655,
    "start_time": "2023-07-15T21:23:09.601Z"
   },
   {
    "duration": 487,
    "start_time": "2023-07-15T21:25:19.505Z"
   },
   {
    "duration": 515,
    "start_time": "2023-07-15T21:25:43.661Z"
   },
   {
    "duration": 516,
    "start_time": "2023-07-15T21:26:41.341Z"
   },
   {
    "duration": 510,
    "start_time": "2023-07-15T21:26:58.279Z"
   },
   {
    "duration": 9,
    "start_time": "2023-07-15T21:28:52.742Z"
   },
   {
    "duration": 10,
    "start_time": "2023-07-15T21:29:00.600Z"
   },
   {
    "duration": 1732,
    "start_time": "2023-07-15T21:34:04.143Z"
   },
   {
    "duration": 1015,
    "start_time": "2023-07-15T21:34:26.281Z"
   },
   {
    "duration": 77,
    "start_time": "2023-07-15T21:34:27.298Z"
   },
   {
    "duration": 11,
    "start_time": "2023-07-15T21:34:27.376Z"
   },
   {
    "duration": 59,
    "start_time": "2023-07-15T21:34:27.389Z"
   },
   {
    "duration": 4,
    "start_time": "2023-07-15T21:34:27.450Z"
   },
   {
    "duration": 173,
    "start_time": "2023-07-15T21:34:27.455Z"
   },
   {
    "duration": 14,
    "start_time": "2023-07-15T21:34:27.632Z"
   },
   {
    "duration": 56,
    "start_time": "2023-07-15T21:34:27.647Z"
   },
   {
    "duration": 82,
    "start_time": "2023-07-15T21:34:27.705Z"
   },
   {
    "duration": 13,
    "start_time": "2023-07-15T21:34:27.790Z"
   },
   {
    "duration": 55,
    "start_time": "2023-07-15T21:34:27.805Z"
   },
   {
    "duration": 184,
    "start_time": "2023-07-15T21:34:27.862Z"
   },
   {
    "duration": 536,
    "start_time": "2023-07-15T21:34:28.048Z"
   },
   {
    "duration": 11,
    "start_time": "2023-07-15T21:34:28.586Z"
   },
   {
    "duration": 739,
    "start_time": "2023-07-15T21:34:28.599Z"
   },
   {
    "duration": 407,
    "start_time": "2023-07-15T21:34:29.339Z"
   },
   {
    "duration": 300,
    "start_time": "2023-07-15T21:34:29.748Z"
   },
   {
    "duration": 291,
    "start_time": "2023-07-15T21:34:30.049Z"
   },
   {
    "duration": 584,
    "start_time": "2023-07-15T21:34:30.341Z"
   },
   {
    "duration": 578,
    "start_time": "2023-07-15T21:34:30.931Z"
   },
   {
    "duration": 12,
    "start_time": "2023-07-15T21:34:31.511Z"
   },
   {
    "duration": 31,
    "start_time": "2023-07-15T21:34:31.525Z"
   },
   {
    "duration": 1671,
    "start_time": "2023-07-15T21:34:31.558Z"
   },
   {
    "duration": 0,
    "start_time": "2023-07-15T21:34:33.231Z"
   },
   {
    "duration": 8,
    "start_time": "2023-07-15T21:34:51.592Z"
   },
   {
    "duration": 10,
    "start_time": "2023-07-15T21:35:25.159Z"
   },
   {
    "duration": 10,
    "start_time": "2023-07-15T21:36:25.504Z"
   },
   {
    "duration": 2,
    "start_time": "2023-07-15T21:48:23.056Z"
   },
   {
    "duration": 83,
    "start_time": "2023-07-15T21:48:23.063Z"
   },
   {
    "duration": 11,
    "start_time": "2023-07-15T21:48:23.148Z"
   },
   {
    "duration": 51,
    "start_time": "2023-07-15T21:48:23.160Z"
   },
   {
    "duration": 21,
    "start_time": "2023-07-15T21:48:23.213Z"
   },
   {
    "duration": 187,
    "start_time": "2023-07-15T21:48:23.237Z"
   },
   {
    "duration": 26,
    "start_time": "2023-07-15T21:48:23.426Z"
   },
   {
    "duration": 21,
    "start_time": "2023-07-15T21:48:23.454Z"
   },
   {
    "duration": 27,
    "start_time": "2023-07-15T21:48:23.476Z"
   },
   {
    "duration": 13,
    "start_time": "2023-07-15T21:48:23.505Z"
   },
   {
    "duration": 27,
    "start_time": "2023-07-15T21:48:23.519Z"
   },
   {
    "duration": 207,
    "start_time": "2023-07-15T21:48:23.547Z"
   },
   {
    "duration": 568,
    "start_time": "2023-07-15T21:48:23.756Z"
   },
   {
    "duration": 20,
    "start_time": "2023-07-15T21:48:24.325Z"
   },
   {
    "duration": 849,
    "start_time": "2023-07-15T21:48:24.347Z"
   },
   {
    "duration": 426,
    "start_time": "2023-07-15T21:48:25.198Z"
   },
   {
    "duration": 335,
    "start_time": "2023-07-15T21:48:25.625Z"
   },
   {
    "duration": 318,
    "start_time": "2023-07-15T21:48:25.962Z"
   },
   {
    "duration": 884,
    "start_time": "2023-07-15T21:48:26.282Z"
   },
   {
    "duration": 1013,
    "start_time": "2023-07-15T21:48:27.167Z"
   },
   {
    "duration": 18,
    "start_time": "2023-07-15T21:48:28.232Z"
   },
   {
    "duration": 24,
    "start_time": "2023-07-15T21:48:28.251Z"
   },
   {
    "duration": 10,
    "start_time": "2023-07-15T21:48:28.276Z"
   },
   {
    "duration": 156,
    "start_time": "2023-07-15T21:48:28.287Z"
   },
   {
    "duration": 3,
    "start_time": "2023-07-15T21:57:54.846Z"
   },
   {
    "duration": 76,
    "start_time": "2023-07-15T21:57:54.853Z"
   },
   {
    "duration": 11,
    "start_time": "2023-07-15T21:57:54.931Z"
   },
   {
    "duration": 51,
    "start_time": "2023-07-15T21:57:54.943Z"
   },
   {
    "duration": 4,
    "start_time": "2023-07-15T21:57:54.996Z"
   },
   {
    "duration": 162,
    "start_time": "2023-07-15T21:57:55.002Z"
   },
   {
    "duration": 13,
    "start_time": "2023-07-15T21:57:55.165Z"
   },
   {
    "duration": 9,
    "start_time": "2023-07-15T21:57:55.179Z"
   },
   {
    "duration": 21,
    "start_time": "2023-07-15T21:57:55.190Z"
   },
   {
    "duration": 14,
    "start_time": "2023-07-15T21:57:55.232Z"
   },
   {
    "duration": 22,
    "start_time": "2023-07-15T21:57:55.248Z"
   },
   {
    "duration": 240,
    "start_time": "2023-07-15T21:57:55.272Z"
   },
   {
    "duration": 624,
    "start_time": "2023-07-15T21:57:55.514Z"
   },
   {
    "duration": 15,
    "start_time": "2023-07-15T21:57:56.140Z"
   },
   {
    "duration": 775,
    "start_time": "2023-07-15T21:57:56.159Z"
   },
   {
    "duration": 445,
    "start_time": "2023-07-15T21:57:56.936Z"
   },
   {
    "duration": 314,
    "start_time": "2023-07-15T21:57:57.383Z"
   },
   {
    "duration": 407,
    "start_time": "2023-07-15T21:57:57.698Z"
   },
   {
    "duration": 506,
    "start_time": "2023-07-15T21:57:58.107Z"
   },
   {
    "duration": 468,
    "start_time": "2023-07-15T21:57:58.614Z"
   },
   {
    "duration": 9,
    "start_time": "2023-07-15T21:57:59.084Z"
   },
   {
    "duration": 14,
    "start_time": "2023-07-15T21:57:59.095Z"
   },
   {
    "duration": 24,
    "start_time": "2023-07-15T21:57:59.111Z"
   },
   {
    "duration": 15,
    "start_time": "2023-07-15T21:57:59.137Z"
   },
   {
    "duration": 1104,
    "start_time": "2023-07-15T21:58:13.904Z"
   },
   {
    "duration": 79,
    "start_time": "2023-07-15T21:58:15.010Z"
   },
   {
    "duration": 11,
    "start_time": "2023-07-15T21:58:15.091Z"
   },
   {
    "duration": 62,
    "start_time": "2023-07-15T21:58:15.104Z"
   },
   {
    "duration": 4,
    "start_time": "2023-07-15T21:58:15.168Z"
   },
   {
    "duration": 164,
    "start_time": "2023-07-15T21:58:15.173Z"
   },
   {
    "duration": 12,
    "start_time": "2023-07-15T21:58:15.339Z"
   },
   {
    "duration": 14,
    "start_time": "2023-07-15T21:58:15.353Z"
   },
   {
    "duration": 18,
    "start_time": "2023-07-15T21:58:15.369Z"
   },
   {
    "duration": 12,
    "start_time": "2023-07-15T21:58:15.391Z"
   },
   {
    "duration": 21,
    "start_time": "2023-07-15T21:58:15.433Z"
   },
   {
    "duration": 195,
    "start_time": "2023-07-15T21:58:15.456Z"
   },
   {
    "duration": 545,
    "start_time": "2023-07-15T21:58:15.653Z"
   },
   {
    "duration": 12,
    "start_time": "2023-07-15T21:58:16.200Z"
   },
   {
    "duration": 741,
    "start_time": "2023-07-15T21:58:16.214Z"
   },
   {
    "duration": 416,
    "start_time": "2023-07-15T21:58:16.957Z"
   },
   {
    "duration": 318,
    "start_time": "2023-07-15T21:58:17.374Z"
   },
   {
    "duration": 324,
    "start_time": "2023-07-15T21:58:17.693Z"
   },
   {
    "duration": 583,
    "start_time": "2023-07-15T21:58:18.018Z"
   },
   {
    "duration": 514,
    "start_time": "2023-07-15T21:58:18.603Z"
   },
   {
    "duration": 8,
    "start_time": "2023-07-15T21:58:19.120Z"
   },
   {
    "duration": 11,
    "start_time": "2023-07-15T21:58:19.129Z"
   },
   {
    "duration": 9,
    "start_time": "2023-07-15T21:58:19.141Z"
   },
   {
    "duration": 13,
    "start_time": "2023-07-15T21:58:19.152Z"
   },
   {
    "duration": 3,
    "start_time": "2023-07-15T21:59:03.779Z"
   },
   {
    "duration": 92,
    "start_time": "2023-07-15T21:59:03.787Z"
   },
   {
    "duration": 13,
    "start_time": "2023-07-15T21:59:03.881Z"
   },
   {
    "duration": 61,
    "start_time": "2023-07-15T21:59:03.896Z"
   },
   {
    "duration": 4,
    "start_time": "2023-07-15T21:59:03.959Z"
   },
   {
    "duration": 156,
    "start_time": "2023-07-15T21:59:03.965Z"
   },
   {
    "duration": 17,
    "start_time": "2023-07-15T21:59:04.122Z"
   },
   {
    "duration": 18,
    "start_time": "2023-07-15T21:59:04.141Z"
   },
   {
    "duration": 30,
    "start_time": "2023-07-15T21:59:04.161Z"
   },
   {
    "duration": 11,
    "start_time": "2023-07-15T21:59:04.193Z"
   },
   {
    "duration": 39,
    "start_time": "2023-07-15T21:59:04.205Z"
   },
   {
    "duration": 186,
    "start_time": "2023-07-15T21:59:04.245Z"
   },
   {
    "duration": 608,
    "start_time": "2023-07-15T21:59:04.433Z"
   },
   {
    "duration": 12,
    "start_time": "2023-07-15T21:59:05.043Z"
   },
   {
    "duration": 753,
    "start_time": "2023-07-15T21:59:05.057Z"
   },
   {
    "duration": 443,
    "start_time": "2023-07-15T21:59:05.811Z"
   },
   {
    "duration": 296,
    "start_time": "2023-07-15T21:59:06.256Z"
   },
   {
    "duration": 294,
    "start_time": "2023-07-15T21:59:06.554Z"
   },
   {
    "duration": 583,
    "start_time": "2023-07-15T21:59:06.849Z"
   },
   {
    "duration": 517,
    "start_time": "2023-07-15T21:59:07.434Z"
   },
   {
    "duration": 9,
    "start_time": "2023-07-15T21:59:07.952Z"
   },
   {
    "duration": 35,
    "start_time": "2023-07-15T21:59:07.962Z"
   },
   {
    "duration": 85,
    "start_time": "2023-07-15T21:59:07.999Z"
   },
   {
    "duration": 11,
    "start_time": "2023-07-15T21:59:08.086Z"
   },
   {
    "duration": 10,
    "start_time": "2023-07-15T22:00:43.264Z"
   },
   {
    "duration": 1186,
    "start_time": "2023-07-16T11:43:49.453Z"
   },
   {
    "duration": 82,
    "start_time": "2023-07-16T11:43:50.642Z"
   },
   {
    "duration": 13,
    "start_time": "2023-07-16T11:43:50.726Z"
   },
   {
    "duration": 66,
    "start_time": "2023-07-16T11:43:50.741Z"
   },
   {
    "duration": 4,
    "start_time": "2023-07-16T11:43:50.809Z"
   },
   {
    "duration": 203,
    "start_time": "2023-07-16T11:43:50.815Z"
   },
   {
    "duration": 15,
    "start_time": "2023-07-16T11:43:51.020Z"
   },
   {
    "duration": 24,
    "start_time": "2023-07-16T11:43:51.037Z"
   },
   {
    "duration": 24,
    "start_time": "2023-07-16T11:43:51.063Z"
   },
   {
    "duration": 13,
    "start_time": "2023-07-16T11:43:51.089Z"
   },
   {
    "duration": 64,
    "start_time": "2023-07-16T11:43:51.104Z"
   },
   {
    "duration": 267,
    "start_time": "2023-07-16T11:43:51.171Z"
   },
   {
    "duration": 692,
    "start_time": "2023-07-16T11:43:51.441Z"
   },
   {
    "duration": 24,
    "start_time": "2023-07-16T11:43:52.135Z"
   },
   {
    "duration": 970,
    "start_time": "2023-07-16T11:43:52.161Z"
   },
   {
    "duration": 522,
    "start_time": "2023-07-16T11:43:53.133Z"
   },
   {
    "duration": 345,
    "start_time": "2023-07-16T11:43:53.659Z"
   },
   {
    "duration": 449,
    "start_time": "2023-07-16T11:43:54.006Z"
   },
   {
    "duration": 653,
    "start_time": "2023-07-16T11:43:54.457Z"
   },
   {
    "duration": 533,
    "start_time": "2023-07-16T11:43:55.112Z"
   },
   {
    "duration": 11,
    "start_time": "2023-07-16T11:43:55.658Z"
   },
   {
    "duration": 11,
    "start_time": "2023-07-16T11:43:55.671Z"
   },
   {
    "duration": 9,
    "start_time": "2023-07-16T11:43:55.684Z"
   },
   {
    "duration": 12,
    "start_time": "2023-07-16T11:43:55.694Z"
   },
   {
    "duration": 7,
    "start_time": "2023-07-16T12:28:16.048Z"
   },
   {
    "duration": 1430,
    "start_time": "2023-07-16T12:30:59.983Z"
   },
   {
    "duration": 114,
    "start_time": "2023-07-16T12:31:01.415Z"
   },
   {
    "duration": 14,
    "start_time": "2023-07-16T12:31:01.531Z"
   },
   {
    "duration": 101,
    "start_time": "2023-07-16T12:31:01.547Z"
   },
   {
    "duration": 4,
    "start_time": "2023-07-16T12:31:01.652Z"
   },
   {
    "duration": 286,
    "start_time": "2023-07-16T12:31:01.664Z"
   },
   {
    "duration": 37,
    "start_time": "2023-07-16T12:31:01.959Z"
   },
   {
    "duration": 44,
    "start_time": "2023-07-16T12:31:01.998Z"
   },
   {
    "duration": 72,
    "start_time": "2023-07-16T12:31:02.044Z"
   },
   {
    "duration": 65,
    "start_time": "2023-07-16T12:31:02.118Z"
   },
   {
    "duration": 48,
    "start_time": "2023-07-16T12:31:02.190Z"
   },
   {
    "duration": 301,
    "start_time": "2023-07-16T12:31:02.240Z"
   },
   {
    "duration": 801,
    "start_time": "2023-07-16T12:31:02.543Z"
   },
   {
    "duration": 30,
    "start_time": "2023-07-16T12:31:03.349Z"
   },
   {
    "duration": 1031,
    "start_time": "2023-07-16T12:31:03.381Z"
   },
   {
    "duration": 610,
    "start_time": "2023-07-16T12:31:04.414Z"
   },
   {
    "duration": 428,
    "start_time": "2023-07-16T12:31:05.026Z"
   },
   {
    "duration": 390,
    "start_time": "2023-07-16T12:31:05.459Z"
   },
   {
    "duration": 848,
    "start_time": "2023-07-16T12:31:05.850Z"
   },
   {
    "duration": 601,
    "start_time": "2023-07-16T12:31:06.701Z"
   },
   {
    "duration": 18,
    "start_time": "2023-07-16T12:31:07.306Z"
   },
   {
    "duration": 10,
    "start_time": "2023-07-16T12:31:07.326Z"
   },
   {
    "duration": 19,
    "start_time": "2023-07-16T12:31:07.337Z"
   },
   {
    "duration": 15,
    "start_time": "2023-07-16T12:31:07.364Z"
   },
   {
    "duration": 16,
    "start_time": "2023-07-16T12:31:07.381Z"
   },
   {
    "duration": 52,
    "start_time": "2023-07-16T12:31:07.399Z"
   },
   {
    "duration": 3,
    "start_time": "2023-07-16T12:31:07.453Z"
   },
   {
    "duration": 25,
    "start_time": "2023-07-16T12:31:07.458Z"
   },
   {
    "duration": 17,
    "start_time": "2023-07-16T12:31:07.485Z"
   },
   {
    "duration": 7,
    "start_time": "2023-07-16T12:31:07.504Z"
   },
   {
    "duration": 8,
    "start_time": "2023-07-16T12:31:07.513Z"
   },
   {
    "duration": 11,
    "start_time": "2023-07-16T12:31:07.523Z"
   },
   {
    "duration": 707,
    "start_time": "2023-07-16T12:31:07.536Z"
   },
   {
    "duration": 762,
    "start_time": "2023-07-16T12:31:08.252Z"
   },
   {
    "duration": 754,
    "start_time": "2023-07-16T12:31:09.016Z"
   },
   {
    "duration": 8,
    "start_time": "2023-07-16T12:32:03.424Z"
   },
   {
    "duration": 861,
    "start_time": "2023-07-16T12:32:03.734Z"
   },
   {
    "duration": 749,
    "start_time": "2023-07-16T12:32:09.337Z"
   },
   {
    "duration": 764,
    "start_time": "2023-07-16T12:32:13.225Z"
   }
  ],
  "kernelspec": {
   "display_name": "Python 3 (ipykernel)",
   "language": "python",
   "name": "python3"
  },
  "language_info": {
   "codemirror_mode": {
    "name": "ipython",
    "version": 3
   },
   "file_extension": ".py",
   "mimetype": "text/x-python",
   "name": "python",
   "nbconvert_exporter": "python",
   "pygments_lexer": "ipython3",
   "version": "3.11.3"
  },
  "toc": {
   "base_numbering": 1,
   "nav_menu": {},
   "number_sections": true,
   "sideBar": true,
   "skip_h1_title": true,
   "title_cell": "Table of Contents",
   "title_sidebar": "Contents",
   "toc_cell": false,
   "toc_position": {
    "height": "518px",
    "left": "116px",
    "top": "110.525px",
    "width": "299px"
   },
   "toc_section_display": true,
   "toc_window_display": true
  }
 },
 "nbformat": 4,
 "nbformat_minor": 2
}
